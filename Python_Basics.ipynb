{
 "cells": [
  {
   "cell_type": "markdown",
   "id": "9d1882d1-1b10-43e8-86eb-9428d3494b8c",
   "metadata": {},
   "source": [
    "# Introduction to python "
   ]
  },
  {
   "cell_type": "code",
   "execution_count": null,
   "id": "2081c051-aaf1-4e35-89a9-78a17a1aded4",
   "metadata": {},
   "outputs": [],
   "source": [
    "--> Library (numpy)\n",
    "---> packges  (array)\n",
    "----> modules/pyfiles (matrices)\n",
    "------>classes/ fuctions (ndim)\n",
    "-------> function/ variables (rows/columns)\n",
    "---------> data(numrical) (numerical)"
   ]
  },
  {
   "cell_type": "markdown",
   "id": "4ce00fbb-404e-49cd-853f-1986ee056f11",
   "metadata": {},
   "source": [
    "## variables"
   ]
  },
  {
   "cell_type": "markdown",
   "id": "90a72fb6-ff37-46e2-becc-8ae83584f57a",
   "metadata": {},
   "source": [
    "correct way  of variable creation"
   ]
  },
  {
   "cell_type": "code",
   "execution_count": null,
   "id": "206dc62f-e489-4949-a0f0-bf4422ffbab6",
   "metadata": {},
   "outputs": [],
   "source": [
    "a = 10\n",
    "abcd = 20\n",
    "a_b = 30\n",
    "a_b_1 = 40\n",
    "data_type = 30"
   ]
  },
  {
   "cell_type": "markdown",
   "id": "4f0f2765-c630-4e53-82e5-0eb20357ddbc",
   "metadata": {},
   "source": [
    "Incorrect way of variable creation"
   ]
  },
  {
   "cell_type": "code",
   "execution_count": null,
   "id": "ff7c10ee-58cf-4a04-831e-cfdcf49e5c6f",
   "metadata": {},
   "outputs": [],
   "source": [
    " a = 10\n",
    "1a = 20\n",
    "if = 30"
   ]
  },
  {
   "cell_type": "code",
   "execution_count": 6,
   "id": "e39dedea-03fb-4fff-b373-428bf5728a7c",
   "metadata": {
    "scrolled": true
   },
   "outputs": [
    {
     "name": "stdout",
     "output_type": "stream",
     "text": [
      "['False', 'None', 'True', 'and', 'as', 'assert', 'async', 'await', 'break', 'class', 'continue', 'def', 'del', 'elif', 'else', 'except', 'finally', 'for', 'from', 'global', 'if', 'import', 'in', 'is', 'lambda', 'nonlocal', 'not', 'or', 'pass', 'raise', 'return', 'try', 'while', 'with', 'yield']\n"
     ]
    }
   ],
   "source": [
    "import keyword\n",
    "print(keyword.kwlist)"
   ]
  },
  {
   "cell_type": "markdown",
   "id": "ed6ee6b0-c601-49ef-90d7-00cdf7584fb3",
   "metadata": {},
   "source": [
    "## Data types\n",
    "1. --> int, float, bool, str, complex, object, Nonetype."
   ]
  },
  {
   "cell_type": "code",
   "execution_count": 7,
   "id": "3bf064cd-f269-4718-8379-c81f45e6c764",
   "metadata": {},
   "outputs": [],
   "source": [
    "a = 10"
   ]
  },
  {
   "cell_type": "code",
   "execution_count": 8,
   "id": "d0210e2e-bf1c-4778-8174-f7182ed2b5a6",
   "metadata": {},
   "outputs": [
    {
     "data": {
      "text/plain": [
       "int"
      ]
     },
     "execution_count": 8,
     "metadata": {},
     "output_type": "execute_result"
    }
   ],
   "source": [
    "type(a)"
   ]
  },
  {
   "cell_type": "code",
   "execution_count": 9,
   "id": "ac6b4be2-3f71-4afb-88d5-46d67eb57218",
   "metadata": {},
   "outputs": [
    {
     "data": {
      "text/plain": [
       "float"
      ]
     },
     "execution_count": 9,
     "metadata": {},
     "output_type": "execute_result"
    }
   ],
   "source": [
    "b = 10.5\n",
    "type(b)"
   ]
  },
  {
   "cell_type": "code",
   "execution_count": 11,
   "id": "9a879b83-abce-48f7-ab19-d1f643f20c88",
   "metadata": {},
   "outputs": [
    {
     "data": {
      "text/plain": [
       "bool"
      ]
     },
     "execution_count": 11,
     "metadata": {},
     "output_type": "execute_result"
    }
   ],
   "source": [
    "c = True\n",
    "type(c)"
   ]
  },
  {
   "cell_type": "code",
   "execution_count": 12,
   "id": "61ed9402-40ba-401a-8b44-cd8e3f3bcd98",
   "metadata": {},
   "outputs": [
    {
     "data": {
      "text/plain": [
       "str"
      ]
     },
     "execution_count": 12,
     "metadata": {},
     "output_type": "execute_result"
    }
   ],
   "source": [
    "d = 'syeda'\n",
    "type(d)"
   ]
  },
  {
   "cell_type": "code",
   "execution_count": 14,
   "id": "71d7f132-cacf-484f-9cf9-2777086c9544",
   "metadata": {},
   "outputs": [
    {
     "name": "stdout",
     "output_type": "stream",
     "text": [
      "(10+5j)\n"
     ]
    },
    {
     "data": {
      "text/plain": [
       "complex"
      ]
     },
     "execution_count": 14,
     "metadata": {},
     "output_type": "execute_result"
    }
   ],
   "source": [
    "e = 10+5j\n",
    "print(e)\n",
    "type(e)"
   ]
  },
  {
   "cell_type": "code",
   "execution_count": 15,
   "id": "1112e7f5-784f-4c6b-bae7-54dfc2342f4d",
   "metadata": {},
   "outputs": [
    {
     "data": {
      "text/plain": [
       "NoneType"
      ]
     },
     "execution_count": 15,
     "metadata": {},
     "output_type": "execute_result"
    }
   ],
   "source": [
    "f = None\n",
    "type(f)"
   ]
  },
  {
   "cell_type": "code",
   "execution_count": null,
   "id": "1febf9fc-edfc-4c17-8d4f-34f54c1d3ec1",
   "metadata": {},
   "outputs": [],
   "source": [
    "# string data\n",
    "1. '' --> word\n",
    "2. \"\" --> statments\n",
    "3. \"\"\"\"\"\"/'''''' --> paragraphs/multiline."
   ]
  },
  {
   "cell_type": "code",
   "execution_count": 16,
   "id": "38c0c344-c4fb-4852-9c5c-6656e20c8267",
   "metadata": {},
   "outputs": [
    {
     "data": {
      "text/plain": [
       "str"
      ]
     },
     "execution_count": 16,
     "metadata": {},
     "output_type": "execute_result"
    }
   ],
   "source": [
    "name = 'syeda'\n",
    "type(name)"
   ]
  },
  {
   "cell_type": "code",
   "execution_count": 18,
   "id": "79572c28-7d65-4d84-9e69-611a045345c4",
   "metadata": {},
   "outputs": [
    {
     "data": {
      "text/plain": [
       "str"
      ]
     },
     "execution_count": 18,
     "metadata": {},
     "output_type": "execute_result"
    }
   ],
   "source": [
    "info = \"my name is syeda, syeda's class is going on.\"\n",
    "type(info)"
   ]
  },
  {
   "cell_type": "code",
   "execution_count": 19,
   "id": "4cecb7ba-6647-4354-8ed2-3d2c8db448fa",
   "metadata": {},
   "outputs": [
    {
     "data": {
      "text/plain": [
       "str"
      ]
     },
     "execution_count": 19,
     "metadata": {},
     "output_type": "execute_result"
    }
   ],
   "source": [
    "info_data = \"\"\"my name is syeda, syeda's class is going on.\n",
    "DS class started for python\n",
    "Programming\"\"\"\n",
    "type(info_data)"
   ]
  },
  {
   "cell_type": "code",
   "execution_count": 21,
   "id": "6f770d6a-7590-44ca-901c-6503af5a69b3",
   "metadata": {},
   "outputs": [
    {
     "name": "stdout",
     "output_type": "stream",
     "text": [
      "my name is syeda, syeda's class is going on.\n"
     ]
    }
   ],
   "source": [
    "# comment\n",
    "info = \"my name is syeda, syeda's class is going on.\" # info\n",
    "print(info)"
   ]
  },
  {
   "cell_type": "code",
   "execution_count": 23,
   "id": "dff138c5-e7c6-4a05-a5bd-7cc6a09169ff",
   "metadata": {},
   "outputs": [
    {
     "name": "stdout",
     "output_type": "stream",
     "text": [
      "my name is syeda, syeda's class is going on.\n",
      "DS class started for python\n",
      "Programming\n"
     ]
    }
   ],
   "source": [
    "print(info_data)"
   ]
  },
  {
   "cell_type": "code",
   "execution_count": 24,
   "id": "699c1287-5d2d-4941-8481-80a3f826d402",
   "metadata": {},
   "outputs": [
    {
     "data": {
      "text/plain": [
       "\"MY NAME IS SYEDA, SYEDA'S CLASS IS GOING ON.\\nDS CLASS STARTED FOR PYTHON\\nPROGRAMMING\""
      ]
     },
     "execution_count": 24,
     "metadata": {},
     "output_type": "execute_result"
    }
   ],
   "source": [
    "info_data.upper()"
   ]
  },
  {
   "cell_type": "code",
   "execution_count": 25,
   "id": "59dcbd4c-3838-4973-a62a-ca9c54021812",
   "metadata": {},
   "outputs": [
    {
     "data": {
      "text/plain": [
       "\"my name is syeda, syeda's class is going on.\\nds class started for python\\nprogramming\""
      ]
     },
     "execution_count": 25,
     "metadata": {},
     "output_type": "execute_result"
    }
   ],
   "source": [
    "info_data.lower()"
   ]
  },
  {
   "cell_type": "code",
   "execution_count": 26,
   "id": "0d1d41f7-56d7-4106-9db1-b3af83b5eb2a",
   "metadata": {},
   "outputs": [
    {
     "data": {
      "text/plain": [
       "\"My name is syeda, syeda's class is going on.\\nds class started for python\\nprogramming\""
      ]
     },
     "execution_count": 26,
     "metadata": {},
     "output_type": "execute_result"
    }
   ],
   "source": [
    "info_data.capitalize()"
   ]
  },
  {
   "cell_type": "code",
   "execution_count": 27,
   "id": "83a71136-843f-4e7b-8bd9-b8505824906d",
   "metadata": {},
   "outputs": [
    {
     "data": {
      "text/plain": [
       "\"MY NAME IS SYEDA, SYEDA'S CLASS IS GOING ON.\\nds CLASS STARTED FOR PYTHON\\npROGRAMMING\""
      ]
     },
     "execution_count": 27,
     "metadata": {},
     "output_type": "execute_result"
    }
   ],
   "source": [
    "info_data.swapcase()"
   ]
  },
  {
   "cell_type": "code",
   "execution_count": 28,
   "id": "96ec631b-34f1-4021-8b8b-4599bb742ef3",
   "metadata": {},
   "outputs": [
    {
     "data": {
      "text/plain": [
       "\"my name is syeda, syeda's class is going on.\\nds class started for python\\nprogramming\""
      ]
     },
     "execution_count": 28,
     "metadata": {},
     "output_type": "execute_result"
    }
   ],
   "source": [
    "info_data.casefold()"
   ]
  },
  {
   "cell_type": "code",
   "execution_count": null,
   "id": "b59581d7-5bcb-403b-ad58-cc300f9b0b82",
   "metadata": {},
   "outputs": [],
   "source": []
  }
 ],
 "metadata": {
  "kernelspec": {
   "display_name": "Python 3 (ipykernel)",
   "language": "python",
   "name": "python3"
  },
  "language_info": {
   "codemirror_mode": {
    "name": "ipython",
    "version": 3
   },
   "file_extension": ".py",
   "mimetype": "text/x-python",
   "name": "python",
   "nbconvert_exporter": "python",
   "pygments_lexer": "ipython3",
   "version": "3.11.9"
  },
  "widgets": {
   "application/vnd.jupyter.widget-state+json": {
    "state": {},
    "version_major": 2,
    "version_minor": 0
   }
  }
 },
 "nbformat": 4,
 "nbformat_minor": 5
}
