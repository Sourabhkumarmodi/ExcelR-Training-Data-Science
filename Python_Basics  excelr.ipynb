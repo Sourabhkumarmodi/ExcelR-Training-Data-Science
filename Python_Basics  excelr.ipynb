{
 "cells": [
  {
   "cell_type": "markdown",
   "id": "9d1882d1-1b10-43e8-86eb-9428d3494b8c",
   "metadata": {},
   "source": [
    "# Introduction to python "
   ]
  },
  {
   "cell_type": "code",
   "execution_count": 1,
   "id": "ed59a5f1",
   "metadata": {},
   "outputs": [
    {
     "name": "stdout",
     "output_type": "stream",
     "text": [
      "this: 2\n",
      "is: 1\n",
      "a: 1\n",
      "sample: 1\n",
      "text: 2\n",
      "will: 1\n",
      "be: 1\n",
      "used: 1\n",
      "to: 1\n",
      "demonstrate: 1\n",
      "the: 1\n",
      "word: 1\n",
      "counter: 1\n"
     ]
    }
   ],
   "source": [
    "#Here's a Python program that counts the number of words in a given text:\n",
    "\n",
    "\n",
    "input_text = \"This is a sample text. This text will be used to demonstrate the word counter.\"\n",
    "\n",
    "# Convert the text to lowercase and split it into words\n",
    "words = input_text.lower().split()\n",
    "\n",
    "# Create a dictionary to store the word counts\n",
    "word_counts = {}\n",
    "\n",
    "# Iterate over each word in the list\n",
    "for word in words:\n",
    "    # Remove punctuation from the word\n",
    "    word = word.strip('.,!?\"\\'')\n",
    "    \n",
    "    # If the word is already in the dictionary, increment its count\n",
    "    if word in word_counts:\n",
    "        word_counts[word] += 1\n",
    "    # Otherwise, add the word to the dictionary with a count of 1\n",
    "    else:\n",
    "        word_counts[word] = 1\n",
    "\n",
    "# Print the word counts\n",
    "for word, count in word_counts.items():\n",
    "    print(f'{word}: {count}')\n",
    "\n",
    "\n"
   ]
  },
  {
   "cell_type": "raw",
   "id": "0be9774f",
   "metadata": {},
   "source": [
    "--> Library (numpy)\n",
    "---> packges  (array)\n",
    "----> modules/pyfiles (matrices)\n",
    "------>classes/ fuctions (ndim)\n",
    "-------> function/ variables (rows/columns)\n",
    "---------> data(numrical) (numerical)"
   ]
  },
  {
   "cell_type": "markdown",
   "id": "4ce00fbb-404e-49cd-853f-1986ee056f11",
   "metadata": {},
   "source": [
    "## variables"
   ]
  },
  {
   "cell_type": "markdown",
   "id": "90a72fb6-ff37-46e2-becc-8ae83584f57a",
   "metadata": {},
   "source": [
    "correct way  of variable creation"
   ]
  },
  {
   "cell_type": "code",
   "execution_count": 2,
   "id": "206dc62f-e489-4949-a0f0-bf4422ffbab6",
   "metadata": {},
   "outputs": [],
   "source": [
    "a = 10\n",
    "abcd = 20\n",
    "a_b = 30\n",
    "a_b_1 = 40\n",
    "data_type = 30"
   ]
  },
  {
   "cell_type": "markdown",
   "id": "4f0f2765-c630-4e53-82e5-0eb20357ddbc",
   "metadata": {},
   "source": [
    "Incorrect way of variable creation"
   ]
  },
  {
   "cell_type": "raw",
   "id": "8be1b9d4",
   "metadata": {},
   "source": [
    " a = 10\n",
    "1a = 20\n",
    "if = 30"
   ]
  },
  {
   "cell_type": "code",
   "execution_count": 3,
   "id": "e39dedea-03fb-4fff-b373-428bf5728a7c",
   "metadata": {
    "scrolled": true
   },
   "outputs": [
    {
     "name": "stdout",
     "output_type": "stream",
     "text": [
      "['False', 'None', 'True', '__peg_parser__', 'and', 'as', 'assert', 'async', 'await', 'break', 'class', 'continue', 'def', 'del', 'elif', 'else', 'except', 'finally', 'for', 'from', 'global', 'if', 'import', 'in', 'is', 'lambda', 'nonlocal', 'not', 'or', 'pass', 'raise', 'return', 'try', 'while', 'with', 'yield']\n"
     ]
    }
   ],
   "source": [
    "import keyword\n",
    "print(keyword.kwlist)"
   ]
  },
  {
   "cell_type": "markdown",
   "id": "ed6ee6b0-c601-49ef-90d7-00cdf7584fb3",
   "metadata": {},
   "source": [
    "## Data types\n",
    "1. --> int, float, bool, str, complex, object, Nonetype."
   ]
  },
  {
   "cell_type": "code",
   "execution_count": 4,
   "id": "3bf064cd-f269-4718-8379-c81f45e6c764",
   "metadata": {},
   "outputs": [],
   "source": [
    "a = 10"
   ]
  },
  {
   "cell_type": "code",
   "execution_count": 5,
   "id": "d0210e2e-bf1c-4778-8174-f7182ed2b5a6",
   "metadata": {},
   "outputs": [
    {
     "data": {
      "text/plain": [
       "int"
      ]
     },
     "execution_count": 5,
     "metadata": {},
     "output_type": "execute_result"
    }
   ],
   "source": [
    "type(a)"
   ]
  },
  {
   "cell_type": "code",
   "execution_count": 6,
   "id": "ac6b4be2-3f71-4afb-88d5-46d67eb57218",
   "metadata": {},
   "outputs": [
    {
     "data": {
      "text/plain": [
       "float"
      ]
     },
     "execution_count": 6,
     "metadata": {},
     "output_type": "execute_result"
    }
   ],
   "source": [
    "b = 10.5\n",
    "type(b)"
   ]
  },
  {
   "cell_type": "code",
   "execution_count": 7,
   "id": "9a879b83-abce-48f7-ab19-d1f643f20c88",
   "metadata": {},
   "outputs": [
    {
     "data": {
      "text/plain": [
       "bool"
      ]
     },
     "execution_count": 7,
     "metadata": {},
     "output_type": "execute_result"
    }
   ],
   "source": [
    "c = True\n",
    "type(c)"
   ]
  },
  {
   "cell_type": "code",
   "execution_count": 8,
   "id": "61ed9402-40ba-401a-8b44-cd8e3f3bcd98",
   "metadata": {},
   "outputs": [
    {
     "data": {
      "text/plain": [
       "str"
      ]
     },
     "execution_count": 8,
     "metadata": {},
     "output_type": "execute_result"
    }
   ],
   "source": [
    "d = 'syeda'\n",
    "type(d)"
   ]
  },
  {
   "cell_type": "code",
   "execution_count": 9,
   "id": "71d7f132-cacf-484f-9cf9-2777086c9544",
   "metadata": {},
   "outputs": [
    {
     "name": "stdout",
     "output_type": "stream",
     "text": [
      "(10+5j)\n"
     ]
    },
    {
     "data": {
      "text/plain": [
       "complex"
      ]
     },
     "execution_count": 9,
     "metadata": {},
     "output_type": "execute_result"
    }
   ],
   "source": [
    "e = 10+5j\n",
    "print(e)\n",
    "type(e)"
   ]
  },
  {
   "cell_type": "code",
   "execution_count": 10,
   "id": "1112e7f5-784f-4c6b-bae7-54dfc2342f4d",
   "metadata": {},
   "outputs": [
    {
     "data": {
      "text/plain": [
       "NoneType"
      ]
     },
     "execution_count": 10,
     "metadata": {},
     "output_type": "execute_result"
    }
   ],
   "source": [
    "f = None\n",
    "type(f)"
   ]
  },
  {
   "cell_type": "raw",
   "id": "7ec48409",
   "metadata": {},
   "source": [
    "# string data\n",
    "1. '' --> word\n",
    "2. \"\" --> statments\n",
    "3. \"\"\"\"\"\"/'''''' --> paragraphs/multiline."
   ]
  },
  {
   "cell_type": "code",
   "execution_count": 11,
   "id": "38c0c344-c4fb-4852-9c5c-6656e20c8267",
   "metadata": {},
   "outputs": [
    {
     "data": {
      "text/plain": [
       "str"
      ]
     },
     "execution_count": 11,
     "metadata": {},
     "output_type": "execute_result"
    }
   ],
   "source": [
    "name = 'syeda'\n",
    "type(name)"
   ]
  },
  {
   "cell_type": "code",
   "execution_count": 12,
   "id": "79572c28-7d65-4d84-9e69-611a045345c4",
   "metadata": {},
   "outputs": [
    {
     "data": {
      "text/plain": [
       "str"
      ]
     },
     "execution_count": 12,
     "metadata": {},
     "output_type": "execute_result"
    }
   ],
   "source": [
    "info = \"my name is syeda, syeda's class is going on.\"\n",
    "type(info)"
   ]
  },
  {
   "cell_type": "code",
   "execution_count": 13,
   "id": "4cecb7ba-6647-4354-8ed2-3d2c8db448fa",
   "metadata": {},
   "outputs": [
    {
     "data": {
      "text/plain": [
       "str"
      ]
     },
     "execution_count": 13,
     "metadata": {},
     "output_type": "execute_result"
    }
   ],
   "source": [
    "info_data = \"\"\"my name is syeda, syeda's class is going on.\n",
    "DS class started for python\n",
    "Programming\"\"\"\n",
    "type(info_data)"
   ]
  },
  {
   "cell_type": "code",
   "execution_count": 14,
   "id": "6f770d6a-7590-44ca-901c-6503af5a69b3",
   "metadata": {},
   "outputs": [
    {
     "name": "stdout",
     "output_type": "stream",
     "text": [
      "my name is syeda, syeda's class is going on.\n"
     ]
    }
   ],
   "source": [
    "# comment\n",
    "info = \"my name is syeda, syeda's class is going on.\" # info\n",
    "print(info)"
   ]
  },
  {
   "cell_type": "code",
   "execution_count": 15,
   "id": "dff138c5-e7c6-4a05-a5bd-7cc6a09169ff",
   "metadata": {},
   "outputs": [
    {
     "name": "stdout",
     "output_type": "stream",
     "text": [
      "my name is syeda, syeda's class is going on.\n",
      "DS class started for python\n",
      "Programming\n"
     ]
    }
   ],
   "source": [
    "print(info_data)"
   ]
  },
  {
   "cell_type": "code",
   "execution_count": 16,
   "id": "699c1287-5d2d-4941-8481-80a3f826d402",
   "metadata": {},
   "outputs": [
    {
     "data": {
      "text/plain": [
       "\"MY NAME IS SYEDA, SYEDA'S CLASS IS GOING ON.\\nDS CLASS STARTED FOR PYTHON\\nPROGRAMMING\""
      ]
     },
     "execution_count": 16,
     "metadata": {},
     "output_type": "execute_result"
    }
   ],
   "source": [
    "info_data.upper()"
   ]
  },
  {
   "cell_type": "code",
   "execution_count": 17,
   "id": "59dcbd4c-3838-4973-a62a-ca9c54021812",
   "metadata": {},
   "outputs": [
    {
     "data": {
      "text/plain": [
       "\"my name is syeda, syeda's class is going on.\\nds class started for python\\nprogramming\""
      ]
     },
     "execution_count": 17,
     "metadata": {},
     "output_type": "execute_result"
    }
   ],
   "source": [
    "info_data.lower()"
   ]
  },
  {
   "cell_type": "code",
   "execution_count": 18,
   "id": "0d1d41f7-56d7-4106-9db1-b3af83b5eb2a",
   "metadata": {},
   "outputs": [
    {
     "data": {
      "text/plain": [
       "\"My name is syeda, syeda's class is going on.\\nds class started for python\\nprogramming\""
      ]
     },
     "execution_count": 18,
     "metadata": {},
     "output_type": "execute_result"
    }
   ],
   "source": [
    "info_data.capitalize()"
   ]
  },
  {
   "cell_type": "code",
   "execution_count": 19,
   "id": "83a71136-843f-4e7b-8bd9-b8505824906d",
   "metadata": {},
   "outputs": [
    {
     "data": {
      "text/plain": [
       "\"MY NAME IS SYEDA, SYEDA'S CLASS IS GOING ON.\\nds CLASS STARTED FOR PYTHON\\npROGRAMMING\""
      ]
     },
     "execution_count": 19,
     "metadata": {},
     "output_type": "execute_result"
    }
   ],
   "source": [
    "info_data.swapcase()"
   ]
  },
  {
   "cell_type": "code",
   "execution_count": 20,
   "id": "96ec631b-34f1-4021-8b8b-4599bb742ef3",
   "metadata": {},
   "outputs": [
    {
     "data": {
      "text/plain": [
       "\"my name is syeda, syeda's class is going on.\\nds class started for python\\nprogramming\""
      ]
     },
     "execution_count": 20,
     "metadata": {},
     "output_type": "execute_result"
    }
   ],
   "source": [
    "info_data.casefold()"
   ]
  },
  {
   "cell_type": "markdown",
   "id": "c3305458",
   "metadata": {},
   "source": [
    "### Day-2"
   ]
  },
  {
   "cell_type": "code",
   "execution_count": 21,
   "id": "6893019c",
   "metadata": {},
   "outputs": [
    {
     "data": {
      "text/plain": [
       "True"
      ]
     },
     "execution_count": 21,
     "metadata": {},
     "output_type": "execute_result"
    }
   ],
   "source": [
    "info_data.startswith('m')"
   ]
  },
  {
   "cell_type": "code",
   "execution_count": 22,
   "id": "dcd59cc7",
   "metadata": {},
   "outputs": [
    {
     "data": {
      "text/plain": [
       "True"
      ]
     },
     "execution_count": 22,
     "metadata": {},
     "output_type": "execute_result"
    }
   ],
   "source": [
    "info_data.endswith('g')"
   ]
  },
  {
   "cell_type": "code",
   "execution_count": 23,
   "id": "d3c5e170",
   "metadata": {},
   "outputs": [
    {
     "data": {
      "text/plain": [
       "['my name is syeda',\n",
       " \" syeda's class is going on.\\nDS class started for python\\nProgramming\"]"
      ]
     },
     "execution_count": 23,
     "metadata": {},
     "output_type": "execute_result"
    }
   ],
   "source": [
    "data=info_data.split(sep=',')\n",
    "data"
   ]
  },
  {
   "cell_type": "code",
   "execution_count": 24,
   "id": "3b3f16cf",
   "metadata": {},
   "outputs": [
    {
     "data": {
      "text/plain": [
       "0"
      ]
     },
     "execution_count": 24,
     "metadata": {},
     "output_type": "execute_result"
    }
   ],
   "source": [
    "info_data.find('m')"
   ]
  },
  {
   "cell_type": "code",
   "execution_count": 25,
   "id": "5ec8a941",
   "metadata": {},
   "outputs": [
    {
     "data": {
      "text/plain": [
       "\"I name is syeda, syeda's class is going on.\\nDS class started for python\\nProgramming\""
      ]
     },
     "execution_count": 25,
     "metadata": {},
     "output_type": "execute_result"
    }
   ],
   "source": [
    "info_data.replace('my','I')"
   ]
  },
  {
   "cell_type": "code",
   "execution_count": 26,
   "id": "e4bff181",
   "metadata": {},
   "outputs": [],
   "source": [
    "info_data=info_data.replace(\"syeda\",\"sourabh\")"
   ]
  },
  {
   "cell_type": "code",
   "execution_count": 27,
   "id": "8eeecd16",
   "metadata": {},
   "outputs": [
    {
     "data": {
      "text/plain": [
       "\"my name is sourabh, sourabh's class is going on.\\nDS class started for python\\nProgramming\""
      ]
     },
     "execution_count": 27,
     "metadata": {},
     "output_type": "execute_result"
    }
   ],
   "source": [
    "info_data"
   ]
  },
  {
   "cell_type": "code",
   "execution_count": 28,
   "id": "e9c16c7a",
   "metadata": {},
   "outputs": [
    {
     "data": {
      "text/plain": [
       "[\"my name is sourabh, sourabh's class is going on.\",\n",
       " 'DS class started for python',\n",
       " 'Programming']"
      ]
     },
     "execution_count": 28,
     "metadata": {},
     "output_type": "execute_result"
    }
   ],
   "source": [
    "info_data.split('\\n')"
   ]
  },
  {
   "cell_type": "code",
   "execution_count": 29,
   "id": "22686aec",
   "metadata": {},
   "outputs": [],
   "source": [
    "str1= ' string'\n",
    "str2= 'string '\n",
    "str3= ' string '"
   ]
  },
  {
   "cell_type": "code",
   "execution_count": 30,
   "id": "43c3d03f",
   "metadata": {},
   "outputs": [
    {
     "name": "stdout",
     "output_type": "stream",
     "text": [
      " string\n"
     ]
    }
   ],
   "source": [
    "print(str1)"
   ]
  },
  {
   "cell_type": "code",
   "execution_count": 31,
   "id": "914b9530",
   "metadata": {},
   "outputs": [
    {
     "data": {
      "text/plain": [
       "6"
      ]
     },
     "execution_count": 31,
     "metadata": {},
     "output_type": "execute_result"
    }
   ],
   "source": [
    "len(str1.strip())"
   ]
  },
  {
   "cell_type": "code",
   "execution_count": 32,
   "id": "ac0ffaf8",
   "metadata": {},
   "outputs": [
    {
     "name": "stdout",
     "output_type": "stream",
     "text": [
      "string\n"
     ]
    }
   ],
   "source": [
    "print(str2.rstrip())"
   ]
  },
  {
   "cell_type": "code",
   "execution_count": 33,
   "id": "7530ecbd",
   "metadata": {},
   "outputs": [
    {
     "data": {
      "text/plain": [
       "'string'"
      ]
     },
     "execution_count": 33,
     "metadata": {},
     "output_type": "execute_result"
    }
   ],
   "source": [
    "str1.lstrip()"
   ]
  },
  {
   "cell_type": "code",
   "execution_count": 34,
   "id": "ee3b898e",
   "metadata": {},
   "outputs": [
    {
     "data": {
      "text/plain": [
       "'Data Analyst'"
      ]
     },
     "execution_count": 34,
     "metadata": {},
     "output_type": "execute_result"
    }
   ],
   "source": [
    "str4 = 'Data Science'\n",
    "str4.replace('Science','Analyst')"
   ]
  },
  {
   "cell_type": "code",
   "execution_count": 35,
   "id": "ffb080b5",
   "metadata": {},
   "outputs": [
    {
     "data": {
      "text/plain": [
       "False"
      ]
     },
     "execution_count": 35,
     "metadata": {},
     "output_type": "execute_result"
    }
   ],
   "source": [
    "str4.isalnum()"
   ]
  },
  {
   "cell_type": "code",
   "execution_count": 36,
   "id": "91d9ba16",
   "metadata": {},
   "outputs": [
    {
     "data": {
      "text/plain": [
       "True"
      ]
     },
     "execution_count": 36,
     "metadata": {},
     "output_type": "execute_result"
    }
   ],
   "source": [
    "sb='ssd'\n",
    "sb.isalpha()"
   ]
  },
  {
   "cell_type": "code",
   "execution_count": 37,
   "id": "115110ef",
   "metadata": {},
   "outputs": [
    {
     "data": {
      "text/plain": [
       "True"
      ]
     },
     "execution_count": 37,
     "metadata": {},
     "output_type": "execute_result"
    }
   ],
   "source": [
    "ab='a'\n",
    "ab.isascii()"
   ]
  },
  {
   "cell_type": "code",
   "execution_count": 38,
   "id": "4b040808",
   "metadata": {},
   "outputs": [
    {
     "data": {
      "text/plain": [
       "False"
      ]
     },
     "execution_count": 38,
     "metadata": {},
     "output_type": "execute_result"
    }
   ],
   "source": [
    "c='52.2'\n",
    "c.isdecimal()"
   ]
  },
  {
   "cell_type": "code",
   "execution_count": 39,
   "id": "37a0c64f",
   "metadata": {},
   "outputs": [
    {
     "data": {
      "text/plain": [
       "False"
      ]
     },
     "execution_count": 39,
     "metadata": {},
     "output_type": "execute_result"
    }
   ],
   "source": [
    "c='52.2'\n",
    "c.isnumeric()"
   ]
  },
  {
   "cell_type": "code",
   "execution_count": 40,
   "id": "671f933c",
   "metadata": {},
   "outputs": [
    {
     "data": {
      "text/plain": [
       "False"
      ]
     },
     "execution_count": 40,
     "metadata": {},
     "output_type": "execute_result"
    }
   ],
   "source": [
    "abc=\"Sourabh\"\n",
    "abc.isupper()"
   ]
  },
  {
   "cell_type": "code",
   "execution_count": 41,
   "id": "96a92c5a",
   "metadata": {},
   "outputs": [
    {
     "data": {
      "text/plain": [
       "True"
      ]
     },
     "execution_count": 41,
     "metadata": {},
     "output_type": "execute_result"
    }
   ],
   "source": [
    "ab=\"SOURABH\"\n",
    "ab.isupper()"
   ]
  },
  {
   "cell_type": "code",
   "execution_count": 42,
   "id": "c40ae019",
   "metadata": {},
   "outputs": [
    {
     "data": {
      "text/plain": [
       "False"
      ]
     },
     "execution_count": 42,
     "metadata": {},
     "output_type": "execute_result"
    }
   ],
   "source": [
    "abc.islower()"
   ]
  },
  {
   "cell_type": "code",
   "execution_count": 43,
   "id": "6df3cfc9",
   "metadata": {},
   "outputs": [
    {
     "data": {
      "text/plain": [
       "False"
      ]
     },
     "execution_count": 43,
     "metadata": {},
     "output_type": "execute_result"
    }
   ],
   "source": [
    "ab.istitle()"
   ]
  },
  {
   "cell_type": "code",
   "execution_count": 44,
   "id": "35aeb9bc",
   "metadata": {},
   "outputs": [
    {
     "data": {
      "text/plain": [
       "False"
      ]
     },
     "execution_count": 44,
     "metadata": {},
     "output_type": "execute_result"
    }
   ],
   "source": [
    "str4.isspace()"
   ]
  },
  {
   "cell_type": "code",
   "execution_count": 45,
   "id": "25bb50c7",
   "metadata": {},
   "outputs": [
    {
     "data": {
      "text/plain": [
       "False"
      ]
     },
     "execution_count": 45,
     "metadata": {},
     "output_type": "execute_result"
    }
   ],
   "source": [
    "st=\"  I am working as a data scientist\"\n",
    "st.isspace()"
   ]
  },
  {
   "cell_type": "code",
   "execution_count": 46,
   "id": "580e2dcf",
   "metadata": {},
   "outputs": [
    {
     "data": {
      "text/plain": [
       "True"
      ]
     },
     "execution_count": 46,
     "metadata": {},
     "output_type": "execute_result"
    }
   ],
   "source": [
    "e=\" \"\n",
    "e.isspace()"
   ]
  },
  {
   "cell_type": "code",
   "execution_count": 47,
   "id": "31030115",
   "metadata": {},
   "outputs": [
    {
     "data": {
      "text/plain": [
       "12"
      ]
     },
     "execution_count": 47,
     "metadata": {},
     "output_type": "execute_result"
    }
   ],
   "source": [
    "len(str4)"
   ]
  },
  {
   "cell_type": "code",
   "execution_count": 48,
   "id": "3ce90131",
   "metadata": {},
   "outputs": [
    {
     "data": {
      "text/plain": [
       "0"
      ]
     },
     "execution_count": 48,
     "metadata": {},
     "output_type": "execute_result"
    }
   ],
   "source": [
    "str4.index('D')"
   ]
  },
  {
   "cell_type": "code",
   "execution_count": 49,
   "id": "52feb9d5",
   "metadata": {},
   "outputs": [
    {
     "data": {
      "text/plain": [
       "1"
      ]
     },
     "execution_count": 49,
     "metadata": {},
     "output_type": "execute_result"
    }
   ],
   "source": [
    "str4.count('D')"
   ]
  },
  {
   "cell_type": "code",
   "execution_count": 50,
   "id": "f05f4eeb",
   "metadata": {},
   "outputs": [
    {
     "data": {
      "text/plain": [
       "6"
      ]
     },
     "execution_count": 50,
     "metadata": {},
     "output_type": "execute_result"
    }
   ],
   "source": [
    "#similar to index\n",
    "str4.find('c')"
   ]
  },
  {
   "cell_type": "code",
   "execution_count": 51,
   "id": "541ae288",
   "metadata": {},
   "outputs": [
    {
     "data": {
      "text/plain": [
       "5"
      ]
     },
     "execution_count": 51,
     "metadata": {},
     "output_type": "execute_result"
    }
   ],
   "source": [
    "str4.find('Science')"
   ]
  },
  {
   "cell_type": "code",
   "execution_count": 52,
   "id": "1f9d4f8c",
   "metadata": {},
   "outputs": [],
   "source": [
    "d=d.upper()"
   ]
  },
  {
   "cell_type": "code",
   "execution_count": 53,
   "id": "123056e2",
   "metadata": {},
   "outputs": [
    {
     "data": {
      "text/plain": [
       "'SYEDA'"
      ]
     },
     "execution_count": 53,
     "metadata": {},
     "output_type": "execute_result"
    }
   ],
   "source": [
    "d"
   ]
  },
  {
   "cell_type": "code",
   "execution_count": 54,
   "id": "a59faf19",
   "metadata": {},
   "outputs": [
    {
     "data": {
      "text/plain": [
       "('SYEDA#', '#SYEDA', '###SYEDA####')"
      ]
     },
     "execution_count": 54,
     "metadata": {},
     "output_type": "execute_result"
    }
   ],
   "source": [
    "d.ljust(6,\"#\"),d.rjust(6,'#'),d.center(12,'#')"
   ]
  },
  {
   "cell_type": "code",
   "execution_count": 55,
   "id": "20bb9466",
   "metadata": {},
   "outputs": [
    {
     "data": {
      "text/plain": [
       "('SYEDA#####', '#####SYEDA', '###SYEDA####')"
      ]
     },
     "execution_count": 55,
     "metadata": {},
     "output_type": "execute_result"
    }
   ],
   "source": [
    "d.ljust(10,\"#\"),d.rjust(10,'#'),d.center(12,'#')"
   ]
  },
  {
   "cell_type": "code",
   "execution_count": 56,
   "id": "5fb568a4",
   "metadata": {},
   "outputs": [
    {
     "data": {
      "text/plain": [
       "'My name is Sourabh'"
      ]
     },
     "execution_count": 56,
     "metadata": {},
     "output_type": "execute_result"
    }
   ],
   "source": [
    "name=\"Sourabh\"\n",
    "'My name is {}'.format(name)"
   ]
  },
  {
   "cell_type": "code",
   "execution_count": 57,
   "id": "a8d93883",
   "metadata": {},
   "outputs": [
    {
     "data": {
      "text/plain": [
       "'My name is SourabhSourabh'"
      ]
     },
     "execution_count": 57,
     "metadata": {},
     "output_type": "execute_result"
    }
   ],
   "source": [
    "name=\"Sourabh\"\n",
    "'My name is {}{}'.format(name,name)"
   ]
  },
  {
   "cell_type": "code",
   "execution_count": 58,
   "id": "4837ff04",
   "metadata": {},
   "outputs": [
    {
     "data": {
      "text/plain": [
       "'my name is stuti,my age is 22'"
      ]
     },
     "execution_count": 58,
     "metadata": {},
     "output_type": "execute_result"
    }
   ],
   "source": [
    "name= 'stuti'\n",
    "age=22\n",
    "\"my name is {},my age is {}\".format(name,age)"
   ]
  },
  {
   "cell_type": "code",
   "execution_count": 59,
   "id": "c6836e08",
   "metadata": {},
   "outputs": [
    {
     "name": "stdout",
     "output_type": "stream",
     "text": [
      "enter the name:sourabh\n",
      "sourabh\n"
     ]
    }
   ],
   "source": [
    "#user input\n",
    "name=input(\"enter the name:\")\n",
    "print(name)"
   ]
  },
  {
   "cell_type": "code",
   "execution_count": 60,
   "id": "3a52379d",
   "metadata": {},
   "outputs": [
    {
     "name": "stdout",
     "output_type": "stream",
     "text": [
      "sourabh\n",
      "23\n",
      "my name is sourabh,\n",
      "my age is 23\n"
     ]
    }
   ],
   "source": [
    "name=input()\n",
    "age=input()\n",
    "statement='''my name is {},\n",
    "my age is {}'''.format(name,age)\n",
    "print(statement)"
   ]
  },
  {
   "cell_type": "code",
   "execution_count": 61,
   "id": "8c126df7",
   "metadata": {},
   "outputs": [],
   "source": [
    "# data type-casting\n",
    "a=10\n",
    "b='10'\n",
    "c=10.5\n",
    "d=10+5j\n",
    "a=int(a)\n",
    "b=int(b)\n",
    "c=int(c)\n",
    "\n",
    "\n",
    "\n",
    "\n"
   ]
  },
  {
   "cell_type": "code",
   "execution_count": 62,
   "id": "9c2830db",
   "metadata": {},
   "outputs": [
    {
     "data": {
      "text/plain": [
       "10"
      ]
     },
     "execution_count": 62,
     "metadata": {},
     "output_type": "execute_result"
    }
   ],
   "source": [
    "a"
   ]
  },
  {
   "cell_type": "code",
   "execution_count": 63,
   "id": "c6128152",
   "metadata": {},
   "outputs": [
    {
     "data": {
      "text/plain": [
       "10"
      ]
     },
     "execution_count": 63,
     "metadata": {},
     "output_type": "execute_result"
    }
   ],
   "source": [
    "b"
   ]
  },
  {
   "cell_type": "code",
   "execution_count": 64,
   "id": "6ff7664a",
   "metadata": {},
   "outputs": [
    {
     "data": {
      "text/plain": [
       "10"
      ]
     },
     "execution_count": 64,
     "metadata": {},
     "output_type": "execute_result"
    }
   ],
   "source": [
    "c"
   ]
  },
  {
   "cell_type": "code",
   "execution_count": 65,
   "id": "dd39d87c",
   "metadata": {},
   "outputs": [
    {
     "data": {
      "text/plain": [
       "(10.0, 10.0, 10.0)"
      ]
     },
     "execution_count": 65,
     "metadata": {},
     "output_type": "execute_result"
    }
   ],
   "source": [
    "# floating --> float\n",
    "float(a),float(b),float(c)"
   ]
  },
  {
   "cell_type": "code",
   "execution_count": 66,
   "id": "01f93be7",
   "metadata": {},
   "outputs": [
    {
     "data": {
      "text/plain": [
       "('10', '10', '10', '(10+5j)')"
      ]
     },
     "execution_count": 66,
     "metadata": {},
     "output_type": "execute_result"
    }
   ],
   "source": [
    "# string --> str()\n",
    "str(a),str(b),str(c),str(d)"
   ]
  },
  {
   "cell_type": "code",
   "execution_count": 67,
   "id": "92f936a3",
   "metadata": {},
   "outputs": [
    {
     "data": {
      "text/plain": [
       "((10+0j), (10+0j), (10+0j), (10+5j))"
      ]
     },
     "execution_count": 67,
     "metadata": {},
     "output_type": "execute_result"
    }
   ],
   "source": [
    "complex(a),complex(b),complex(c),complex(d)"
   ]
  },
  {
   "cell_type": "code",
   "execution_count": 68,
   "id": "7f4c686c",
   "metadata": {},
   "outputs": [
    {
     "name": "stdout",
     "output_type": "stream",
     "text": [
      "This is string1 \n",
      " This is string2\n"
     ]
    }
   ],
   "source": [
    "# string concatination\n",
    "st1= 'This is string1'\n",
    "st2= 'This is string2'\n",
    "print(st1,\"\\n\",st2)"
   ]
  },
  {
   "cell_type": "code",
   "execution_count": 69,
   "id": "713b488d",
   "metadata": {},
   "outputs": [
    {
     "data": {
      "text/plain": [
       "'TThis is string1hThis is string1iThis is string1sThis is string1 This is string1iThis is string1sThis is string1 This is string1sThis is string1tThis is string1rThis is string1iThis is string1nThis is string1gThis is string12'"
      ]
     },
     "execution_count": 69,
     "metadata": {},
     "output_type": "execute_result"
    }
   ],
   "source": [
    "#iterate\n",
    "st1.join(st2)"
   ]
  },
  {
   "cell_type": "code",
   "execution_count": 70,
   "id": "efeccc6e",
   "metadata": {},
   "outputs": [
    {
     "data": {
      "text/plain": [
       "' This is string2-This is string2-This is string2-This is string2>This is string2 '"
      ]
     },
     "execution_count": 70,
     "metadata": {},
     "output_type": "execute_result"
    }
   ],
   "source": [
    "st2.join(' ---> ')"
   ]
  },
  {
   "cell_type": "code",
   "execution_count": 71,
   "id": "9cd1e674",
   "metadata": {},
   "outputs": [
    {
     "data": {
      "text/plain": [
       "20"
      ]
     },
     "execution_count": 71,
     "metadata": {},
     "output_type": "execute_result"
    }
   ],
   "source": [
    "import math\n",
    "a=20.5\n",
    "math.floor(a)"
   ]
  },
  {
   "cell_type": "code",
   "execution_count": 72,
   "id": "2871b917",
   "metadata": {},
   "outputs": [],
   "source": [
    "a=10/3"
   ]
  },
  {
   "cell_type": "code",
   "execution_count": 73,
   "id": "f2dc736c",
   "metadata": {},
   "outputs": [
    {
     "data": {
      "text/plain": [
       "3.33"
      ]
     },
     "execution_count": 73,
     "metadata": {},
     "output_type": "execute_result"
    }
   ],
   "source": [
    "round(a,2)"
   ]
  },
  {
   "cell_type": "code",
   "execution_count": 74,
   "id": "92b8ceae",
   "metadata": {},
   "outputs": [],
   "source": [
    "name='sourabh'\n",
    "age=20\n"
   ]
  },
  {
   "cell_type": "code",
   "execution_count": 75,
   "id": "6606634d",
   "metadata": {},
   "outputs": [],
   "source": [
    "#name+age"
   ]
  },
  {
   "cell_type": "code",
   "execution_count": 76,
   "id": "3e933703",
   "metadata": {},
   "outputs": [],
   "source": [
    "#name-age"
   ]
  },
  {
   "cell_type": "code",
   "execution_count": 77,
   "id": "cc8c5dd3",
   "metadata": {},
   "outputs": [
    {
     "data": {
      "text/plain": [
       "'sourabhsourabhsourabhsourabhsourabhsourabhsourabhsourabhsourabhsourabhsourabhsourabhsourabhsourabhsourabhsourabhsourabhsourabhsourabhsourabh'"
      ]
     },
     "execution_count": 77,
     "metadata": {},
     "output_type": "execute_result"
    }
   ],
   "source": [
    "name*age"
   ]
  },
  {
   "cell_type": "code",
   "execution_count": 78,
   "id": "0b20bb6b",
   "metadata": {},
   "outputs": [],
   "source": [
    "#name/age"
   ]
  },
  {
   "cell_type": "code",
   "execution_count": 79,
   "id": "d38ed1cb",
   "metadata": {},
   "outputs": [],
   "source": [
    "#name**age"
   ]
  },
  {
   "cell_type": "code",
   "execution_count": 80,
   "id": "b8831010",
   "metadata": {},
   "outputs": [],
   "source": [
    "#name//age"
   ]
  },
  {
   "cell_type": "code",
   "execution_count": 81,
   "id": "f203af2b",
   "metadata": {},
   "outputs": [],
   "source": [
    "#name%age"
   ]
  },
  {
   "cell_type": "raw",
   "id": "0cab785b",
   "metadata": {},
   "source": [
    "#Task 2: create a 4 user defined function with parameters, r, B,h, taking value by the user and calculate the\n",
    "\n",
    "import math\n",
    "\n",
    "math.pi\n",
    "\n",
    "math.e\n",
    "\n",
    "math.sqrt\n",
    "\n",
    "valume spear --> v = 4/3 * math.pi * r**3\n",
    "\n",
    "area of triangle --> A = 1/2 b h\n",
    "\n",
    "distance of two points --> d = math.sqrt((x2 - x1)*2 + (y2 - y1)*2))\n",
    "slop of line --> m=(y2-y1)/(x2-x1)"
   ]
  },
  {
   "cell_type": "code",
   "execution_count": 82,
   "id": "6d8c8ca5",
   "metadata": {},
   "outputs": [],
   "source": [
    "import math\n",
    "r=math.pi\n"
   ]
  },
  {
   "cell_type": "code",
   "execution_count": 83,
   "id": "89d7823f",
   "metadata": {},
   "outputs": [],
   "source": [
    "b=math.e"
   ]
  },
  {
   "cell_type": "code",
   "execution_count": 84,
   "id": "96c67139",
   "metadata": {},
   "outputs": [],
   "source": [
    "h=math.sqrt(12)"
   ]
  },
  {
   "cell_type": "code",
   "execution_count": 85,
   "id": "0843ba53",
   "metadata": {},
   "outputs": [
    {
     "name": "stdout",
     "output_type": "stream",
     "text": [
      "valume spear: 129.87878804533656\n",
      "area of triangle: 4.708202236182293\n"
     ]
    }
   ],
   "source": [
    "print(\"valume spear:\",4/3 * math.pi * r**3)\n",
    "print(\"area of triangle:\" ,1/2*b*h)"
   ]
  },
  {
   "cell_type": "code",
   "execution_count": 86,
   "id": "0099e65d",
   "metadata": {},
   "outputs": [
    {
     "name": "stdout",
     "output_type": "stream",
     "text": [
      "23\n",
      "36\n",
      "35\n",
      "36\n"
     ]
    }
   ],
   "source": [
    "x1=int(input())\n",
    "x2=int(input())\n",
    "y2=int(input())\n",
    "y1=int(input())"
   ]
  },
  {
   "cell_type": "code",
   "execution_count": 87,
   "id": "7ed7896a",
   "metadata": {},
   "outputs": [
    {
     "name": "stdout",
     "output_type": "stream",
     "text": [
      "distance of two points: 13.038404810405298\n"
     ]
    }
   ],
   "source": [
    "print(\"distance of two points:\",math.sqrt((x2 - x1)**2 + (y2 - y1)**2))"
   ]
  },
  {
   "cell_type": "code",
   "execution_count": 88,
   "id": "06ba848f",
   "metadata": {},
   "outputs": [
    {
     "name": "stdout",
     "output_type": "stream",
     "text": [
      "slop of line: -0.07692307692307693\n"
     ]
    }
   ],
   "source": [
    "print(\"slop of line:\",(y2-y1)/(x2-x1))"
   ]
  },
  {
   "cell_type": "markdown",
   "id": "d0b0ab24",
   "metadata": {},
   "source": [
    "### Day-3"
   ]
  },
  {
   "cell_type": "raw",
   "id": "2944bb63",
   "metadata": {},
   "source": [
    "# Data structures\n",
    "--> list, tuple, set, dictionary\n",
    "List:\n",
    "    creating --> [],list()\n",
    "    list mutable--> manipulation of the data is possible.\n",
    "    list data can be stored different types of data\n",
    "    \n",
    "    \n",
    "tuple:\n",
    "    creating--> comma seperated will values create tuple.\n",
    "    tuple immutable-->can't changes\n",
    "    tuple data can be stored different types of data\n",
    "    \n",
    "set:\n",
    "    creating --> {},set()\n",
    "    defult data will be written in ascending order, unique values.\n",
    "    set is not present on the basis of index,\n",
    "    functions can be utilized to manipulation\n",
    "    \n",
    "dict:\n",
    "    create using {},dict()\n",
    "    default values, key:pair\n",
    "        key:unique,(int,str)\n",
    "        values:single,list/tuple/set\n",
    "    dict is mutable, we can make changes only for values not key.         \n",
    "    \n",
    "    "
   ]
  },
  {
   "cell_type": "code",
   "execution_count": 89,
   "id": "edbe3078",
   "metadata": {},
   "outputs": [
    {
     "name": "stdout",
     "output_type": "stream",
     "text": [
      "[1, 2, 3, 4, 5, 6]\n"
     ]
    }
   ],
   "source": [
    "list1 = [1,2,3,4,5,6]\n",
    "print(list1)"
   ]
  },
  {
   "cell_type": "code",
   "execution_count": 90,
   "id": "4fa8d440",
   "metadata": {},
   "outputs": [
    {
     "data": {
      "text/plain": [
       "list"
      ]
     },
     "execution_count": 90,
     "metadata": {},
     "output_type": "execute_result"
    }
   ],
   "source": [
    "type(list1)"
   ]
  },
  {
   "cell_type": "code",
   "execution_count": 91,
   "id": "70e0a565",
   "metadata": {},
   "outputs": [],
   "source": [
    "# indexing/ slicing [0,1,2,...][start:end:step]"
   ]
  },
  {
   "cell_type": "code",
   "execution_count": 92,
   "id": "4e3febcb",
   "metadata": {},
   "outputs": [
    {
     "data": {
      "text/plain": [
       "(1, 2, 3, 4, 5, 6)"
      ]
     },
     "execution_count": 92,
     "metadata": {},
     "output_type": "execute_result"
    }
   ],
   "source": [
    "list1[0],list1[1],list1[2],list1[3],list1[4],list1[5]"
   ]
  },
  {
   "cell_type": "code",
   "execution_count": 93,
   "id": "a2b124ba",
   "metadata": {},
   "outputs": [
    {
     "data": {
      "text/plain": [
       "[1, 2, 3, 4, 5, 6]"
      ]
     },
     "execution_count": 93,
     "metadata": {},
     "output_type": "execute_result"
    }
   ],
   "source": [
    "list1[0:6]"
   ]
  },
  {
   "cell_type": "code",
   "execution_count": 94,
   "id": "a9ede190",
   "metadata": {},
   "outputs": [],
   "source": [
    "list1[2]=9"
   ]
  },
  {
   "cell_type": "code",
   "execution_count": 95,
   "id": "d43683c3",
   "metadata": {},
   "outputs": [
    {
     "data": {
      "text/plain": [
       "[1, 2, 9, 4, 5, 6]"
      ]
     },
     "execution_count": 95,
     "metadata": {},
     "output_type": "execute_result"
    }
   ],
   "source": [
    "list1"
   ]
  },
  {
   "cell_type": "code",
   "execution_count": 96,
   "id": "af2a43c4",
   "metadata": {},
   "outputs": [
    {
     "data": {
      "text/plain": [
       "[1, 2, 9, 4, 5, 6]"
      ]
     },
     "execution_count": 96,
     "metadata": {},
     "output_type": "execute_result"
    }
   ],
   "source": [
    "list1[0:]"
   ]
  },
  {
   "cell_type": "code",
   "execution_count": 97,
   "id": "dce9218c",
   "metadata": {},
   "outputs": [
    {
     "data": {
      "text/plain": [
       "[5, 6]"
      ]
     },
     "execution_count": 97,
     "metadata": {},
     "output_type": "execute_result"
    }
   ],
   "source": [
    "list1[4:]"
   ]
  },
  {
   "cell_type": "code",
   "execution_count": 98,
   "id": "159c22b7",
   "metadata": {},
   "outputs": [
    {
     "data": {
      "text/plain": [
       "[5, 6]"
      ]
     },
     "execution_count": 98,
     "metadata": {},
     "output_type": "execute_result"
    }
   ],
   "source": [
    "list1[4:]"
   ]
  },
  {
   "cell_type": "code",
   "execution_count": 99,
   "id": "1ac29eac",
   "metadata": {},
   "outputs": [
    {
     "data": {
      "text/plain": [
       "[1, 2, 9, 4, 5]"
      ]
     },
     "execution_count": 99,
     "metadata": {},
     "output_type": "execute_result"
    }
   ],
   "source": [
    "list1[0:5:1]"
   ]
  },
  {
   "cell_type": "code",
   "execution_count": 100,
   "id": "fe52fb86",
   "metadata": {},
   "outputs": [
    {
     "data": {
      "text/plain": [
       "[1, 9, 5]"
      ]
     },
     "execution_count": 100,
     "metadata": {},
     "output_type": "execute_result"
    }
   ],
   "source": [
    "list1[0:5:2]"
   ]
  },
  {
   "cell_type": "code",
   "execution_count": 101,
   "id": "69a80a17",
   "metadata": {},
   "outputs": [
    {
     "data": {
      "text/plain": [
       "[6, 5, 4, 9, 2, 1]"
      ]
     },
     "execution_count": 101,
     "metadata": {},
     "output_type": "execute_result"
    }
   ],
   "source": [
    "list1[::-1]"
   ]
  },
  {
   "cell_type": "code",
   "execution_count": 102,
   "id": "a5c7e1cf",
   "metadata": {},
   "outputs": [
    {
     "data": {
      "text/plain": [
       "([1, 2, 9, 4, 5, 6], [1, 2, 9, 4, 5, 6], [1, 2, 9, 4, 5, 6])"
      ]
     },
     "execution_count": 102,
     "metadata": {},
     "output_type": "execute_result"
    }
   ],
   "source": [
    "list1,list1[:],list1[::] # --> selection of all data."
   ]
  },
  {
   "cell_type": "markdown",
   "id": "34c6ebc3",
   "metadata": {},
   "source": [
    "### negative indexing"
   ]
  },
  {
   "cell_type": "code",
   "execution_count": 103,
   "id": "82b04d57",
   "metadata": {},
   "outputs": [
    {
     "data": {
      "text/plain": [
       "[1, 2, 9, 4, 5, 6]"
      ]
     },
     "execution_count": 103,
     "metadata": {},
     "output_type": "execute_result"
    }
   ],
   "source": [
    "#reading data from l to r\n",
    "list1"
   ]
  },
  {
   "cell_type": "code",
   "execution_count": 104,
   "id": "e597c628",
   "metadata": {},
   "outputs": [
    {
     "data": {
      "text/plain": [
       "6"
      ]
     },
     "execution_count": 104,
     "metadata": {},
     "output_type": "execute_result"
    }
   ],
   "source": [
    "list1[-1]"
   ]
  },
  {
   "cell_type": "code",
   "execution_count": 105,
   "id": "af571115",
   "metadata": {},
   "outputs": [
    {
     "data": {
      "text/plain": [
       "[9, 4, 5]"
      ]
     },
     "execution_count": 105,
     "metadata": {},
     "output_type": "execute_result"
    }
   ],
   "source": [
    "list1[-4:-1]"
   ]
  },
  {
   "cell_type": "code",
   "execution_count": 106,
   "id": "cfd9b020",
   "metadata": {},
   "outputs": [
    {
     "data": {
      "text/plain": [
       "[1, 2, 9]"
      ]
     },
     "execution_count": 106,
     "metadata": {},
     "output_type": "execute_result"
    }
   ],
   "source": [
    "list1[-6:-3]"
   ]
  },
  {
   "cell_type": "markdown",
   "id": "2d752cdb",
   "metadata": {},
   "source": [
    "### Reversing the list"
   ]
  },
  {
   "cell_type": "code",
   "execution_count": 107,
   "id": "88d39ac1",
   "metadata": {},
   "outputs": [
    {
     "data": {
      "text/plain": [
       "[1, 2, 9, 4, 5, 6]"
      ]
     },
     "execution_count": 107,
     "metadata": {},
     "output_type": "execute_result"
    }
   ],
   "source": [
    "list1"
   ]
  },
  {
   "cell_type": "code",
   "execution_count": 108,
   "id": "321df0a0",
   "metadata": {},
   "outputs": [
    {
     "data": {
      "text/plain": [
       "[6, 5, 4, 9, 2, 1]"
      ]
     },
     "execution_count": 108,
     "metadata": {},
     "output_type": "execute_result"
    }
   ],
   "source": [
    "list1[::-1]"
   ]
  },
  {
   "cell_type": "markdown",
   "id": "7b2541bd",
   "metadata": {},
   "source": [
    "### assignment of value to index."
   ]
  },
  {
   "cell_type": "code",
   "execution_count": 109,
   "id": "5ded3960",
   "metadata": {},
   "outputs": [
    {
     "data": {
      "text/plain": [
       "4"
      ]
     },
     "execution_count": 109,
     "metadata": {},
     "output_type": "execute_result"
    }
   ],
   "source": [
    "list1[3]"
   ]
  },
  {
   "cell_type": "code",
   "execution_count": 110,
   "id": "5e4a79af",
   "metadata": {},
   "outputs": [],
   "source": [
    "list1[3]=15"
   ]
  },
  {
   "cell_type": "code",
   "execution_count": 111,
   "id": "c4d8cfbb",
   "metadata": {},
   "outputs": [
    {
     "data": {
      "text/plain": [
       "[1, 2, 9, 15, 5, 6]"
      ]
     },
     "execution_count": 111,
     "metadata": {},
     "output_type": "execute_result"
    }
   ],
   "source": [
    "list1"
   ]
  },
  {
   "cell_type": "code",
   "execution_count": 112,
   "id": "f8abd1b2",
   "metadata": {},
   "outputs": [],
   "source": [
    "list1.append(4)"
   ]
  },
  {
   "cell_type": "code",
   "execution_count": 113,
   "id": "82ea3374",
   "metadata": {},
   "outputs": [
    {
     "data": {
      "text/plain": [
       "[1, 2, 9, 15, 5, 6, 4]"
      ]
     },
     "execution_count": 113,
     "metadata": {},
     "output_type": "execute_result"
    }
   ],
   "source": [
    "list1"
   ]
  },
  {
   "cell_type": "code",
   "execution_count": 114,
   "id": "3cac6cc0",
   "metadata": {},
   "outputs": [],
   "source": [
    "list1[6]=16,17"
   ]
  },
  {
   "cell_type": "code",
   "execution_count": 115,
   "id": "8efc5626",
   "metadata": {},
   "outputs": [
    {
     "data": {
      "text/plain": [
       "[1, 2, 9, 15, 5, 6, (16, 17)]"
      ]
     },
     "execution_count": 115,
     "metadata": {},
     "output_type": "execute_result"
    }
   ],
   "source": [
    "list1"
   ]
  },
  {
   "cell_type": "code",
   "execution_count": 116,
   "id": "a4e10ff0",
   "metadata": {},
   "outputs": [],
   "source": [
    "# list functions adding the value\n",
    "list1.append(7) #append at the end, single value index at a time."
   ]
  },
  {
   "cell_type": "code",
   "execution_count": 117,
   "id": "242979b1",
   "metadata": {},
   "outputs": [
    {
     "data": {
      "text/plain": [
       "[1, 2, 9, 15, 5, 6, (16, 17), 7]"
      ]
     },
     "execution_count": 117,
     "metadata": {},
     "output_type": "execute_result"
    }
   ],
   "source": [
    "list1"
   ]
  },
  {
   "cell_type": "code",
   "execution_count": 118,
   "id": "d41708fb",
   "metadata": {},
   "outputs": [],
   "source": [
    "list1.append([8,9])"
   ]
  },
  {
   "cell_type": "code",
   "execution_count": 119,
   "id": "385d26e7",
   "metadata": {},
   "outputs": [
    {
     "data": {
      "text/plain": [
       "[1, 2, 9, 15, 5, 6, (16, 17), 7, [8, 9]]"
      ]
     },
     "execution_count": 119,
     "metadata": {},
     "output_type": "execute_result"
    }
   ],
   "source": [
    "list1"
   ]
  },
  {
   "cell_type": "code",
   "execution_count": 120,
   "id": "28990d91",
   "metadata": {},
   "outputs": [],
   "source": [
    "list1.extend([10,11,12,13]) #--> multi values at once."
   ]
  },
  {
   "cell_type": "code",
   "execution_count": 121,
   "id": "0cbabb03",
   "metadata": {},
   "outputs": [
    {
     "data": {
      "text/plain": [
       "[1, 2, 9, 15, 5, 6, (16, 17), 7, [8, 9], 10, 11, 12, 13]"
      ]
     },
     "execution_count": 121,
     "metadata": {},
     "output_type": "execute_result"
    }
   ],
   "source": [
    "list1"
   ]
  },
  {
   "cell_type": "code",
   "execution_count": 122,
   "id": "f01f0af8",
   "metadata": {},
   "outputs": [],
   "source": [
    "list1.insert(8,8) #given index the value is written."
   ]
  },
  {
   "cell_type": "code",
   "execution_count": 123,
   "id": "a821f557",
   "metadata": {},
   "outputs": [
    {
     "data": {
      "text/plain": [
       "[1, 2, 9, 15, 5, 6, (16, 17), 7, 8, [8, 9], 10, 11, 12, 13]"
      ]
     },
     "execution_count": 123,
     "metadata": {},
     "output_type": "execute_result"
    }
   ],
   "source": [
    "list1"
   ]
  },
  {
   "cell_type": "code",
   "execution_count": 124,
   "id": "d098db79",
   "metadata": {},
   "outputs": [
    {
     "data": {
      "text/plain": [
       "1"
      ]
     },
     "execution_count": 124,
     "metadata": {},
     "output_type": "execute_result"
    }
   ],
   "source": [
    "list1.count(8) #it will count th"
   ]
  },
  {
   "cell_type": "code",
   "execution_count": 125,
   "id": "826831c6",
   "metadata": {},
   "outputs": [
    {
     "data": {
      "text/plain": [
       "3"
      ]
     },
     "execution_count": 125,
     "metadata": {},
     "output_type": "execute_result"
    }
   ],
   "source": [
    "list1.index(15)"
   ]
  },
  {
   "cell_type": "code",
   "execution_count": 126,
   "id": "5a7c203f",
   "metadata": {},
   "outputs": [
    {
     "data": {
      "text/plain": [
       "13"
      ]
     },
     "execution_count": 126,
     "metadata": {},
     "output_type": "execute_result"
    }
   ],
   "source": [
    "list1.pop() # --> deleting the last at time."
   ]
  },
  {
   "cell_type": "code",
   "execution_count": 127,
   "id": "21b60dda",
   "metadata": {},
   "outputs": [
    {
     "data": {
      "text/plain": [
       "[1, 2, 9, 15, 5, 6, (16, 17), 7, 8, [8, 9], 10, 11, 12]"
      ]
     },
     "execution_count": 127,
     "metadata": {},
     "output_type": "execute_result"
    }
   ],
   "source": [
    "list1"
   ]
  },
  {
   "cell_type": "code",
   "execution_count": 128,
   "id": "ab56ed50",
   "metadata": {},
   "outputs": [
    {
     "data": {
      "text/plain": [
       "[8, 9]"
      ]
     },
     "execution_count": 128,
     "metadata": {},
     "output_type": "execute_result"
    }
   ],
   "source": [
    "list1.pop(9)"
   ]
  },
  {
   "cell_type": "code",
   "execution_count": 129,
   "id": "01f80b7e",
   "metadata": {},
   "outputs": [
    {
     "data": {
      "text/plain": [
       "[1, 2, 9, 15, 5, 6, (16, 17), 7, 8, 10, 11, 12]"
      ]
     },
     "execution_count": 129,
     "metadata": {},
     "output_type": "execute_result"
    }
   ],
   "source": [
    "list1"
   ]
  },
  {
   "cell_type": "code",
   "execution_count": 130,
   "id": "285226b6",
   "metadata": {},
   "outputs": [],
   "source": [
    "list1.remove(2) # which value we want to remove"
   ]
  },
  {
   "cell_type": "code",
   "execution_count": 131,
   "id": "0fc3fccf",
   "metadata": {},
   "outputs": [
    {
     "data": {
      "text/plain": [
       "[1, 9, 15, 5, 6, (16, 17), 7, 8, 10, 11, 12]"
      ]
     },
     "execution_count": 131,
     "metadata": {},
     "output_type": "execute_result"
    }
   ],
   "source": [
    "list1"
   ]
  },
  {
   "cell_type": "code",
   "execution_count": 132,
   "id": "1e6fa5f9",
   "metadata": {},
   "outputs": [
    {
     "ename": "ValueError",
     "evalue": "list.remove(x): x not in list",
     "output_type": "error",
     "traceback": [
      "\u001b[1;31m---------------------------------------------------------------------------\u001b[0m",
      "\u001b[1;31mValueError\u001b[0m                                Traceback (most recent call last)",
      "\u001b[1;32m~\\AppData\\Local\\Temp\\ipykernel_1276\\2069608821.py\u001b[0m in \u001b[0;36m<module>\u001b[1;34m\u001b[0m\n\u001b[1;32m----> 1\u001b[1;33m \u001b[0mlist1\u001b[0m\u001b[1;33m.\u001b[0m\u001b[0mremove\u001b[0m\u001b[1;33m(\u001b[0m\u001b[1;33m[\u001b[0m\u001b[1;36m8\u001b[0m\u001b[1;33m,\u001b[0m\u001b[1;36m9\u001b[0m\u001b[1;33m]\u001b[0m\u001b[1;33m)\u001b[0m\u001b[1;33m\u001b[0m\u001b[1;33m\u001b[0m\u001b[0m\n\u001b[0m",
      "\u001b[1;31mValueError\u001b[0m: list.remove(x): x not in list"
     ]
    }
   ],
   "source": [
    "list1.remove([8,9])"
   ]
  },
  {
   "cell_type": "code",
   "execution_count": 133,
   "id": "19470ba7",
   "metadata": {},
   "outputs": [],
   "source": [
    "list1.reverse()"
   ]
  },
  {
   "cell_type": "code",
   "execution_count": 134,
   "id": "6fda4b4e",
   "metadata": {},
   "outputs": [
    {
     "data": {
      "text/plain": [
       "[12, 11, 10, 8, 7, (16, 17), 6, 5, 15, 9, 1]"
      ]
     },
     "execution_count": 134,
     "metadata": {},
     "output_type": "execute_result"
    }
   ],
   "source": [
    "list1"
   ]
  },
  {
   "cell_type": "code",
   "execution_count": 135,
   "id": "2731ff5a",
   "metadata": {},
   "outputs": [
    {
     "ename": "TypeError",
     "evalue": "'<' not supported between instances of 'tuple' and 'int'",
     "output_type": "error",
     "traceback": [
      "\u001b[1;31m---------------------------------------------------------------------------\u001b[0m",
      "\u001b[1;31mTypeError\u001b[0m                                 Traceback (most recent call last)",
      "\u001b[1;32m~\\AppData\\Local\\Temp\\ipykernel_1276\\1072437983.py\u001b[0m in \u001b[0;36m<module>\u001b[1;34m\u001b[0m\n\u001b[0;32m      1\u001b[0m \u001b[1;31m#ascending\u001b[0m\u001b[1;33m\u001b[0m\u001b[1;33m\u001b[0m\u001b[0m\n\u001b[1;32m----> 2\u001b[1;33m \u001b[0mlist1\u001b[0m\u001b[1;33m.\u001b[0m\u001b[0msort\u001b[0m\u001b[1;33m(\u001b[0m\u001b[1;33m)\u001b[0m\u001b[1;33m\u001b[0m\u001b[1;33m\u001b[0m\u001b[0m\n\u001b[0m",
      "\u001b[1;31mTypeError\u001b[0m: '<' not supported between instances of 'tuple' and 'int'"
     ]
    }
   ],
   "source": [
    "#ascending\n",
    "list1.sort()"
   ]
  },
  {
   "cell_type": "code",
   "execution_count": 136,
   "id": "b797f2ff",
   "metadata": {},
   "outputs": [
    {
     "data": {
      "text/plain": [
       "[12, 11, 10, 8, 7, (16, 17), 6, 5, 15, 9, 1]"
      ]
     },
     "execution_count": 136,
     "metadata": {},
     "output_type": "execute_result"
    }
   ],
   "source": [
    "list1"
   ]
  },
  {
   "cell_type": "code",
   "execution_count": 137,
   "id": "fe6a5a8b",
   "metadata": {},
   "outputs": [
    {
     "ename": "TypeError",
     "evalue": "'<' not supported between instances of 'tuple' and 'int'",
     "output_type": "error",
     "traceback": [
      "\u001b[1;31m---------------------------------------------------------------------------\u001b[0m",
      "\u001b[1;31mTypeError\u001b[0m                                 Traceback (most recent call last)",
      "\u001b[1;32m~\\AppData\\Local\\Temp\\ipykernel_1276\\2467190053.py\u001b[0m in \u001b[0;36m<module>\u001b[1;34m\u001b[0m\n\u001b[0;32m      1\u001b[0m \u001b[1;31m#\u001b[0m\u001b[1;33m\u001b[0m\u001b[1;33m\u001b[0m\u001b[0m\n\u001b[1;32m----> 2\u001b[1;33m \u001b[0mlist1\u001b[0m\u001b[1;33m.\u001b[0m\u001b[0msort\u001b[0m\u001b[1;33m(\u001b[0m\u001b[0mreverse\u001b[0m\u001b[1;33m=\u001b[0m\u001b[1;32mTrue\u001b[0m\u001b[1;33m)\u001b[0m\u001b[1;33m\u001b[0m\u001b[1;33m\u001b[0m\u001b[0m\n\u001b[0m",
      "\u001b[1;31mTypeError\u001b[0m: '<' not supported between instances of 'tuple' and 'int'"
     ]
    }
   ],
   "source": [
    "#\n",
    "list1.sort(reverse=True)"
   ]
  },
  {
   "cell_type": "code",
   "execution_count": 138,
   "id": "7465f436",
   "metadata": {},
   "outputs": [
    {
     "data": {
      "text/plain": [
       "[12, 11, 10, 8, 7, (16, 17), 15, 9, 6, 5, 1]"
      ]
     },
     "execution_count": 138,
     "metadata": {},
     "output_type": "execute_result"
    }
   ],
   "source": [
    "list1"
   ]
  },
  {
   "cell_type": "code",
   "execution_count": 139,
   "id": "50a3df66",
   "metadata": {},
   "outputs": [],
   "source": [
    "list2=list1.copy()"
   ]
  },
  {
   "cell_type": "code",
   "execution_count": 140,
   "id": "0de88d29",
   "metadata": {},
   "outputs": [
    {
     "data": {
      "text/plain": [
       "[12, 11, 10, 8, 7, (16, 17), 15, 9, 6, 5, 1]"
      ]
     },
     "execution_count": 140,
     "metadata": {},
     "output_type": "execute_result"
    }
   ],
   "source": [
    "list2"
   ]
  },
  {
   "cell_type": "code",
   "execution_count": 141,
   "id": "47ac75f8",
   "metadata": {},
   "outputs": [],
   "source": [
    "list1.clear()"
   ]
  },
  {
   "cell_type": "code",
   "execution_count": 142,
   "id": "1ff333dc",
   "metadata": {},
   "outputs": [
    {
     "data": {
      "text/plain": [
       "[]"
      ]
     },
     "execution_count": 142,
     "metadata": {},
     "output_type": "execute_result"
    }
   ],
   "source": [
    "list1"
   ]
  },
  {
   "cell_type": "code",
   "execution_count": 143,
   "id": "667ae960",
   "metadata": {},
   "outputs": [
    {
     "data": {
      "text/plain": [
       "[12, 11, 10, 8, 7, (16, 17), 15, 9, 6, 5, 1]"
      ]
     },
     "execution_count": 143,
     "metadata": {},
     "output_type": "execute_result"
    }
   ],
   "source": [
    "list2"
   ]
  },
  {
   "cell_type": "code",
   "execution_count": 144,
   "id": "3833da3e",
   "metadata": {},
   "outputs": [],
   "source": [
    "list3=[1,5,6,9]"
   ]
  },
  {
   "cell_type": "code",
   "execution_count": 145,
   "id": "140c643a",
   "metadata": {},
   "outputs": [
    {
     "data": {
      "text/plain": [
       "[12, 11, 10, 8, 7, (16, 17), 15, 9, 6, 5, 1, 1, 5, 6, 9]"
      ]
     },
     "execution_count": 145,
     "metadata": {},
     "output_type": "execute_result"
    }
   ],
   "source": [
    "#list cancatenation\n",
    "list2+list3"
   ]
  },
  {
   "cell_type": "code",
   "execution_count": 146,
   "id": "0898781b",
   "metadata": {},
   "outputs": [],
   "source": [
    "#list multiplication\n",
    "#list2 * list3"
   ]
  },
  {
   "cell_type": "code",
   "execution_count": 147,
   "id": "64f6b525",
   "metadata": {},
   "outputs": [
    {
     "data": {
      "text/plain": [
       "[12,\n",
       " 11,\n",
       " 10,\n",
       " 8,\n",
       " 7,\n",
       " (16, 17),\n",
       " 15,\n",
       " 9,\n",
       " 6,\n",
       " 5,\n",
       " 1,\n",
       " 12,\n",
       " 11,\n",
       " 10,\n",
       " 8,\n",
       " 7,\n",
       " (16, 17),\n",
       " 15,\n",
       " 9,\n",
       " 6,\n",
       " 5,\n",
       " 1]"
      ]
     },
     "execution_count": 147,
     "metadata": {},
     "output_type": "execute_result"
    }
   ],
   "source": [
    "list2 * 2"
   ]
  },
  {
   "cell_type": "code",
   "execution_count": 148,
   "id": "edad45f9",
   "metadata": {},
   "outputs": [],
   "source": [
    "# membership operators\n",
    "#in, not in, is, is not."
   ]
  },
  {
   "cell_type": "code",
   "execution_count": 149,
   "id": "4c71917f",
   "metadata": {},
   "outputs": [
    {
     "data": {
      "text/plain": [
       "True"
      ]
     },
     "execution_count": 149,
     "metadata": {},
     "output_type": "execute_result"
    }
   ],
   "source": [
    "11 in list2"
   ]
  },
  {
   "cell_type": "code",
   "execution_count": 150,
   "id": "d95417d8",
   "metadata": {},
   "outputs": [
    {
     "data": {
      "text/plain": [
       "True"
      ]
     },
     "execution_count": 150,
     "metadata": {},
     "output_type": "execute_result"
    }
   ],
   "source": [
    "16 not in list2"
   ]
  },
  {
   "cell_type": "code",
   "execution_count": 151,
   "id": "5f37d2b2",
   "metadata": {},
   "outputs": [
    {
     "data": {
      "text/plain": [
       "list"
      ]
     },
     "execution_count": 151,
     "metadata": {},
     "output_type": "execute_result"
    }
   ],
   "source": [
    "type(list2)"
   ]
  },
  {
   "cell_type": "code",
   "execution_count": 152,
   "id": "40497b5c",
   "metadata": {},
   "outputs": [
    {
     "data": {
      "text/plain": [
       "True"
      ]
     },
     "execution_count": 152,
     "metadata": {},
     "output_type": "execute_result"
    }
   ],
   "source": [
    "type(list2) is list"
   ]
  },
  {
   "cell_type": "code",
   "execution_count": 153,
   "id": "8e6903d5",
   "metadata": {},
   "outputs": [
    {
     "data": {
      "text/plain": [
       "False"
      ]
     },
     "execution_count": 153,
     "metadata": {},
     "output_type": "execute_result"
    }
   ],
   "source": [
    "type(list2) is str"
   ]
  },
  {
   "cell_type": "code",
   "execution_count": 154,
   "id": "d0443cc6",
   "metadata": {},
   "outputs": [
    {
     "data": {
      "text/plain": [
       "True"
      ]
     },
     "execution_count": 154,
     "metadata": {},
     "output_type": "execute_result"
    }
   ],
   "source": [
    "type(list2) is not str"
   ]
  },
  {
   "cell_type": "code",
   "execution_count": 155,
   "id": "e4f26a1e",
   "metadata": {},
   "outputs": [],
   "source": [
    "# builtin function\n",
    "#https://docs.python.org/3/library/functions.html"
   ]
  },
  {
   "cell_type": "code",
   "execution_count": 156,
   "id": "32c5a67a",
   "metadata": {},
   "outputs": [],
   "source": [
    "# python builtin function on list --> min, sum(),max,len(),round()"
   ]
  },
  {
   "cell_type": "code",
   "execution_count": 157,
   "id": "d59623e6",
   "metadata": {},
   "outputs": [
    {
     "ename": "TypeError",
     "evalue": "'>' not supported between instances of 'tuple' and 'int'",
     "output_type": "error",
     "traceback": [
      "\u001b[1;31m---------------------------------------------------------------------------\u001b[0m",
      "\u001b[1;31mTypeError\u001b[0m                                 Traceback (most recent call last)",
      "\u001b[1;32m~\\AppData\\Local\\Temp\\ipykernel_1276\\1119603792.py\u001b[0m in \u001b[0;36m<module>\u001b[1;34m\u001b[0m\n\u001b[1;32m----> 1\u001b[1;33m \u001b[0mmax\u001b[0m\u001b[1;33m(\u001b[0m\u001b[0mlist2\u001b[0m\u001b[1;33m)\u001b[0m\u001b[1;33m\u001b[0m\u001b[1;33m\u001b[0m\u001b[0m\n\u001b[0m",
      "\u001b[1;31mTypeError\u001b[0m: '>' not supported between instances of 'tuple' and 'int'"
     ]
    }
   ],
   "source": [
    "max(list2)"
   ]
  },
  {
   "cell_type": "code",
   "execution_count": 158,
   "id": "50b3a1a9",
   "metadata": {},
   "outputs": [
    {
     "ename": "TypeError",
     "evalue": "'<' not supported between instances of 'tuple' and 'int'",
     "output_type": "error",
     "traceback": [
      "\u001b[1;31m---------------------------------------------------------------------------\u001b[0m",
      "\u001b[1;31mTypeError\u001b[0m                                 Traceback (most recent call last)",
      "\u001b[1;32m~\\AppData\\Local\\Temp\\ipykernel_1276\\1177197247.py\u001b[0m in \u001b[0;36m<module>\u001b[1;34m\u001b[0m\n\u001b[1;32m----> 1\u001b[1;33m \u001b[0msorted\u001b[0m\u001b[1;33m(\u001b[0m\u001b[0mlist2\u001b[0m\u001b[1;33m)\u001b[0m\u001b[1;33m\u001b[0m\u001b[1;33m\u001b[0m\u001b[0m\n\u001b[0m",
      "\u001b[1;31mTypeError\u001b[0m: '<' not supported between instances of 'tuple' and 'int'"
     ]
    }
   ],
   "source": [
    "sorted(list2)"
   ]
  },
  {
   "cell_type": "code",
   "execution_count": 159,
   "id": "61129e3a",
   "metadata": {},
   "outputs": [
    {
     "ename": "TypeError",
     "evalue": "unsupported operand type(s) for +: 'int' and 'tuple'",
     "output_type": "error",
     "traceback": [
      "\u001b[1;31m---------------------------------------------------------------------------\u001b[0m",
      "\u001b[1;31mTypeError\u001b[0m                                 Traceback (most recent call last)",
      "\u001b[1;32m~\\AppData\\Local\\Temp\\ipykernel_1276\\867626261.py\u001b[0m in \u001b[0;36m<module>\u001b[1;34m\u001b[0m\n\u001b[1;32m----> 1\u001b[1;33m \u001b[0msum\u001b[0m\u001b[1;33m(\u001b[0m\u001b[0mlist2\u001b[0m\u001b[1;33m)\u001b[0m\u001b[1;33m\u001b[0m\u001b[1;33m\u001b[0m\u001b[0m\n\u001b[0m",
      "\u001b[1;31mTypeError\u001b[0m: unsupported operand type(s) for +: 'int' and 'tuple'"
     ]
    }
   ],
   "source": [
    "sum(list2)"
   ]
  },
  {
   "cell_type": "code",
   "execution_count": 160,
   "id": "c43a0bde",
   "metadata": {},
   "outputs": [
    {
     "ename": "TypeError",
     "evalue": "'<' not supported between instances of 'tuple' and 'int'",
     "output_type": "error",
     "traceback": [
      "\u001b[1;31m---------------------------------------------------------------------------\u001b[0m",
      "\u001b[1;31mTypeError\u001b[0m                                 Traceback (most recent call last)",
      "\u001b[1;32m~\\AppData\\Local\\Temp\\ipykernel_1276\\3306722551.py\u001b[0m in \u001b[0;36m<module>\u001b[1;34m\u001b[0m\n\u001b[1;32m----> 1\u001b[1;33m \u001b[0mmin\u001b[0m\u001b[1;33m(\u001b[0m\u001b[0mlist2\u001b[0m\u001b[1;33m)\u001b[0m\u001b[1;33m,\u001b[0m \u001b[0msum\u001b[0m\u001b[1;33m(\u001b[0m\u001b[0mlist2\u001b[0m\u001b[1;33m)\u001b[0m\u001b[1;33m,\u001b[0m\u001b[0mmax\u001b[0m\u001b[1;33m(\u001b[0m\u001b[0mlist2\u001b[0m\u001b[1;33m)\u001b[0m\u001b[1;33m,\u001b[0m\u001b[0mlen\u001b[0m\u001b[1;33m(\u001b[0m\u001b[0mlist2\u001b[0m\u001b[1;33m)\u001b[0m\u001b[1;33m\u001b[0m\u001b[1;33m\u001b[0m\u001b[0m\n\u001b[0m",
      "\u001b[1;31mTypeError\u001b[0m: '<' not supported between instances of 'tuple' and 'int'"
     ]
    }
   ],
   "source": [
    "min(list2), sum(list2),max(list2),len(list2)"
   ]
  },
  {
   "cell_type": "code",
   "execution_count": 161,
   "id": "ad3e4657",
   "metadata": {},
   "outputs": [
    {
     "ename": "TypeError",
     "evalue": "unsupported operand type(s) for +: 'int' and 'tuple'",
     "output_type": "error",
     "traceback": [
      "\u001b[1;31m---------------------------------------------------------------------------\u001b[0m",
      "\u001b[1;31mTypeError\u001b[0m                                 Traceback (most recent call last)",
      "\u001b[1;32m~\\AppData\\Local\\Temp\\ipykernel_1276\\3101604859.py\u001b[0m in \u001b[0;36m<module>\u001b[1;34m\u001b[0m\n\u001b[1;32m----> 1\u001b[1;33m \u001b[0mavg\u001b[0m \u001b[1;33m=\u001b[0m\u001b[0msum\u001b[0m\u001b[1;33m(\u001b[0m\u001b[0mlist2\u001b[0m\u001b[1;33m)\u001b[0m\u001b[1;33m/\u001b[0m\u001b[0msum\u001b[0m\u001b[1;33m(\u001b[0m\u001b[0mlist3\u001b[0m\u001b[1;33m)\u001b[0m\u001b[1;33m\u001b[0m\u001b[1;33m\u001b[0m\u001b[0m\n\u001b[0m",
      "\u001b[1;31mTypeError\u001b[0m: unsupported operand type(s) for +: 'int' and 'tuple'"
     ]
    }
   ],
   "source": [
    "avg =sum(list2)/sum(list3)"
   ]
  },
  {
   "cell_type": "code",
   "execution_count": 162,
   "id": "a1806f12",
   "metadata": {},
   "outputs": [
    {
     "ename": "NameError",
     "evalue": "name 'avg' is not defined",
     "output_type": "error",
     "traceback": [
      "\u001b[1;31m---------------------------------------------------------------------------\u001b[0m",
      "\u001b[1;31mNameError\u001b[0m                                 Traceback (most recent call last)",
      "\u001b[1;32m~\\AppData\\Local\\Temp\\ipykernel_1276\\1298768490.py\u001b[0m in \u001b[0;36m<module>\u001b[1;34m\u001b[0m\n\u001b[1;32m----> 1\u001b[1;33m \u001b[0mavg\u001b[0m\u001b[1;33m\u001b[0m\u001b[1;33m\u001b[0m\u001b[0m\n\u001b[0m",
      "\u001b[1;31mNameError\u001b[0m: name 'avg' is not defined"
     ]
    }
   ],
   "source": [
    "avg"
   ]
  },
  {
   "cell_type": "code",
   "execution_count": 163,
   "id": "0bbe459a",
   "metadata": {},
   "outputs": [
    {
     "ename": "NameError",
     "evalue": "name 'avg' is not defined",
     "output_type": "error",
     "traceback": [
      "\u001b[1;31m---------------------------------------------------------------------------\u001b[0m",
      "\u001b[1;31mNameError\u001b[0m                                 Traceback (most recent call last)",
      "\u001b[1;32m~\\AppData\\Local\\Temp\\ipykernel_1276\\1071903626.py\u001b[0m in \u001b[0;36m<module>\u001b[1;34m\u001b[0m\n\u001b[1;32m----> 1\u001b[1;33m \u001b[0mround\u001b[0m\u001b[1;33m(\u001b[0m\u001b[0mavg\u001b[0m\u001b[1;33m,\u001b[0m\u001b[1;36m2\u001b[0m\u001b[1;33m)\u001b[0m\u001b[1;33m\u001b[0m\u001b[1;33m\u001b[0m\u001b[0m\n\u001b[0m",
      "\u001b[1;31mNameError\u001b[0m: name 'avg' is not defined"
     ]
    }
   ],
   "source": [
    "round(avg,2)"
   ]
  },
  {
   "cell_type": "code",
   "execution_count": 164,
   "id": "aaa5b11d",
   "metadata": {},
   "outputs": [],
   "source": [
    "# task-3\n"
   ]
  },
  {
   "cell_type": "code",
   "execution_count": 165,
   "id": "434b4588",
   "metadata": {},
   "outputs": [],
   "source": [
    "names = ['prajwal ',' juhaib','aryan ','ram ',' pyarellall','binit ','venkatesh ']"
   ]
  },
  {
   "cell_type": "code",
   "execution_count": 166,
   "id": "7363a26a",
   "metadata": {},
   "outputs": [
    {
     "data": {
      "text/plain": [
       "['prajwal ',\n",
       " ' juhaib',\n",
       " 'aryan ',\n",
       " 'ram ',\n",
       " ' pyarellall',\n",
       " 'binit ',\n",
       " 'venkatesh ']"
      ]
     },
     "execution_count": 166,
     "metadata": {},
     "output_type": "execute_result"
    }
   ],
   "source": [
    "names"
   ]
  },
  {
   "cell_type": "code",
   "execution_count": 167,
   "id": "28282d7f",
   "metadata": {},
   "outputs": [],
   "source": [
    "names[0]=names[0].strip()\n",
    "names[1]=names[1].strip()\n",
    "names[2]=names[2].strip()\n",
    "names[3]=names[3].strip()\n",
    "names[4]=names[4].strip()\n",
    "names[5]=names[5].strip()\n",
    "names[6]=names[6].strip()\n"
   ]
  },
  {
   "cell_type": "code",
   "execution_count": 168,
   "id": "35bb915e",
   "metadata": {},
   "outputs": [
    {
     "data": {
      "text/plain": [
       "['prajwal', 'juhaib', 'aryan', 'ram', 'pyarellall', 'binit', 'venkatesh']"
      ]
     },
     "execution_count": 168,
     "metadata": {},
     "output_type": "execute_result"
    }
   ],
   "source": [
    "names"
   ]
  },
  {
   "cell_type": "code",
   "execution_count": 169,
   "id": "bd4b890d",
   "metadata": {},
   "outputs": [],
   "source": [
    "names[0]=names[0].upper()"
   ]
  },
  {
   "cell_type": "code",
   "execution_count": 170,
   "id": "7f4270f4",
   "metadata": {},
   "outputs": [],
   "source": [
    "names[1]=names[1].capitalize()"
   ]
  },
  {
   "cell_type": "code",
   "execution_count": 171,
   "id": "17c0bd78",
   "metadata": {},
   "outputs": [],
   "source": [
    "names[2]=names[2].swapcase()"
   ]
  },
  {
   "cell_type": "code",
   "execution_count": 172,
   "id": "2e678286",
   "metadata": {},
   "outputs": [],
   "source": [
    "names[3]=names[3].replace(\"ram\",\"Abhishek\")"
   ]
  },
  {
   "cell_type": "code",
   "execution_count": 173,
   "id": "66791bb4",
   "metadata": {},
   "outputs": [],
   "source": [
    "names[4]=names[4].split('l')"
   ]
  },
  {
   "cell_type": "code",
   "execution_count": 174,
   "id": "36998d65",
   "metadata": {},
   "outputs": [],
   "source": [
    "names[5]=['mr binit']"
   ]
  },
  {
   "cell_type": "code",
   "execution_count": 175,
   "id": "836850d7",
   "metadata": {},
   "outputs": [],
   "source": [
    "names[6]=names[6]=\"rohan\""
   ]
  },
  {
   "cell_type": "code",
   "execution_count": 176,
   "id": "215683af",
   "metadata": {},
   "outputs": [
    {
     "data": {
      "text/plain": [
       "['PRAJWAL',\n",
       " 'Juhaib',\n",
       " 'ARYAN',\n",
       " 'Abhishek',\n",
       " ['pyare', '', 'a', '', ''],\n",
       " ['mr binit'],\n",
       " 'rohan']"
      ]
     },
     "execution_count": 176,
     "metadata": {},
     "output_type": "execute_result"
    }
   ],
   "source": [
    "names"
   ]
  },
  {
   "cell_type": "markdown",
   "id": "4c397341",
   "metadata": {},
   "source": [
    "### tuple"
   ]
  },
  {
   "cell_type": "code",
   "execution_count": 177,
   "id": "8c825928",
   "metadata": {},
   "outputs": [
    {
     "data": {
      "text/plain": [
       "(10, 11, 12, 13)"
      ]
     },
     "execution_count": 177,
     "metadata": {},
     "output_type": "execute_result"
    }
   ],
   "source": [
    "Tup = 10,11,12,13\n",
    "Tup\n"
   ]
  },
  {
   "cell_type": "code",
   "execution_count": 178,
   "id": "9757e501",
   "metadata": {},
   "outputs": [
    {
     "data": {
      "text/plain": [
       "tuple"
      ]
     },
     "execution_count": 178,
     "metadata": {},
     "output_type": "execute_result"
    }
   ],
   "source": [
    "type(Tup)"
   ]
  },
  {
   "cell_type": "code",
   "execution_count": 179,
   "id": "d55e638f",
   "metadata": {},
   "outputs": [
    {
     "data": {
      "text/plain": [
       "tuple"
      ]
     },
     "execution_count": 179,
     "metadata": {},
     "output_type": "execute_result"
    }
   ],
   "source": [
    "tup = (10,11,12,13)\n",
    "type(tup)"
   ]
  },
  {
   "cell_type": "code",
   "execution_count": 180,
   "id": "d62cbfa3",
   "metadata": {},
   "outputs": [
    {
     "data": {
      "text/plain": [
       "10"
      ]
     },
     "execution_count": 180,
     "metadata": {},
     "output_type": "execute_result"
    }
   ],
   "source": [
    "tup[0]"
   ]
  },
  {
   "cell_type": "code",
   "execution_count": 181,
   "id": "411f4708",
   "metadata": {},
   "outputs": [
    {
     "data": {
      "text/plain": [
       "(11, 12)"
      ]
     },
     "execution_count": 181,
     "metadata": {},
     "output_type": "execute_result"
    }
   ],
   "source": [
    "tup[1:3]"
   ]
  },
  {
   "cell_type": "raw",
   "id": "a235477d",
   "metadata": {},
   "source": [
    "tup[0]=12\n",
    "\n",
    "#TypeError: 'tuple' object does not support item assignment"
   ]
  },
  {
   "cell_type": "code",
   "execution_count": 182,
   "id": "d99d0945",
   "metadata": {},
   "outputs": [
    {
     "data": {
      "text/plain": [
       "1"
      ]
     },
     "execution_count": 182,
     "metadata": {},
     "output_type": "execute_result"
    }
   ],
   "source": [
    "tup.count(10)"
   ]
  },
  {
   "cell_type": "code",
   "execution_count": 183,
   "id": "40c5460e",
   "metadata": {},
   "outputs": [
    {
     "data": {
      "text/plain": [
       "0"
      ]
     },
     "execution_count": 183,
     "metadata": {},
     "output_type": "execute_result"
    }
   ],
   "source": [
    "tup.index(10)"
   ]
  },
  {
   "cell_type": "code",
   "execution_count": 184,
   "id": "512a7da6",
   "metadata": {},
   "outputs": [],
   "source": [
    "tupl= list(tup)"
   ]
  },
  {
   "cell_type": "code",
   "execution_count": 185,
   "id": "a7313f9a",
   "metadata": {},
   "outputs": [
    {
     "data": {
      "text/plain": [
       "[10, 11, 12, 13]"
      ]
     },
     "execution_count": 185,
     "metadata": {},
     "output_type": "execute_result"
    }
   ],
   "source": [
    "tupl"
   ]
  },
  {
   "cell_type": "code",
   "execution_count": 186,
   "id": "671431d2",
   "metadata": {},
   "outputs": [],
   "source": [
    "tupl[2]=17"
   ]
  },
  {
   "cell_type": "code",
   "execution_count": 187,
   "id": "475d9877",
   "metadata": {},
   "outputs": [
    {
     "data": {
      "text/plain": [
       "[10, 11, 17, 13]"
      ]
     },
     "execution_count": 187,
     "metadata": {},
     "output_type": "execute_result"
    }
   ],
   "source": [
    "tupl"
   ]
  },
  {
   "cell_type": "code",
   "execution_count": 188,
   "id": "18d270f4",
   "metadata": {},
   "outputs": [],
   "source": [
    "tup=tuple(tupl)"
   ]
  },
  {
   "cell_type": "code",
   "execution_count": 189,
   "id": "93015016",
   "metadata": {},
   "outputs": [
    {
     "data": {
      "text/plain": [
       "(10, 11, 17, 13)"
      ]
     },
     "execution_count": 189,
     "metadata": {},
     "output_type": "execute_result"
    }
   ],
   "source": [
    "tup"
   ]
  },
  {
   "cell_type": "code",
   "execution_count": 190,
   "id": "3c2df1dd",
   "metadata": {},
   "outputs": [
    {
     "data": {
      "text/plain": [
       "tuple"
      ]
     },
     "execution_count": 190,
     "metadata": {},
     "output_type": "execute_result"
    }
   ],
   "source": [
    "type(tup)"
   ]
  },
  {
   "cell_type": "code",
   "execution_count": 191,
   "id": "2655705b",
   "metadata": {},
   "outputs": [
    {
     "data": {
      "text/plain": [
       "51"
      ]
     },
     "execution_count": 191,
     "metadata": {},
     "output_type": "execute_result"
    }
   ],
   "source": [
    "sum(tupl)"
   ]
  },
  {
   "cell_type": "code",
   "execution_count": 192,
   "id": "92a311b5",
   "metadata": {},
   "outputs": [
    {
     "data": {
      "text/plain": [
       "4"
      ]
     },
     "execution_count": 192,
     "metadata": {},
     "output_type": "execute_result"
    }
   ],
   "source": [
    "len(tupl)"
   ]
  },
  {
   "cell_type": "code",
   "execution_count": 193,
   "id": "915ff2b0",
   "metadata": {},
   "outputs": [],
   "source": [
    "del tupl[2]"
   ]
  },
  {
   "cell_type": "code",
   "execution_count": 194,
   "id": "49f5a869",
   "metadata": {},
   "outputs": [
    {
     "data": {
      "text/plain": [
       "[10, 11, 13]"
      ]
     },
     "execution_count": 194,
     "metadata": {},
     "output_type": "execute_result"
    }
   ],
   "source": [
    "tupl"
   ]
  },
  {
   "cell_type": "markdown",
   "id": "99aa85dc",
   "metadata": {},
   "source": [
    "### set"
   ]
  },
  {
   "cell_type": "code",
   "execution_count": 195,
   "id": "d42870aa",
   "metadata": {},
   "outputs": [
    {
     "data": {
      "text/plain": [
       "['In',\n",
       " 'Out',\n",
       " 'Tup',\n",
       " '_',\n",
       " '_10',\n",
       " '_100',\n",
       " '_101',\n",
       " '_102',\n",
       " '_103',\n",
       " '_104',\n",
       " '_105',\n",
       " '_106',\n",
       " '_107',\n",
       " '_108',\n",
       " '_109',\n",
       " '_11',\n",
       " '_111',\n",
       " '_113',\n",
       " '_115',\n",
       " '_117',\n",
       " '_119',\n",
       " '_12',\n",
       " '_121',\n",
       " '_123',\n",
       " '_124',\n",
       " '_125',\n",
       " '_126',\n",
       " '_127',\n",
       " '_128',\n",
       " '_129',\n",
       " '_13',\n",
       " '_131',\n",
       " '_134',\n",
       " '_136',\n",
       " '_138',\n",
       " '_140',\n",
       " '_142',\n",
       " '_143',\n",
       " '_145',\n",
       " '_147',\n",
       " '_149',\n",
       " '_150',\n",
       " '_151',\n",
       " '_152',\n",
       " '_153',\n",
       " '_154',\n",
       " '_16',\n",
       " '_166',\n",
       " '_168',\n",
       " '_17',\n",
       " '_176',\n",
       " '_177',\n",
       " '_178',\n",
       " '_179',\n",
       " '_18',\n",
       " '_180',\n",
       " '_181',\n",
       " '_182',\n",
       " '_183',\n",
       " '_185',\n",
       " '_187',\n",
       " '_189',\n",
       " '_19',\n",
       " '_190',\n",
       " '_191',\n",
       " '_192',\n",
       " '_194',\n",
       " '_20',\n",
       " '_21',\n",
       " '_22',\n",
       " '_23',\n",
       " '_24',\n",
       " '_25',\n",
       " '_27',\n",
       " '_28',\n",
       " '_31',\n",
       " '_33',\n",
       " '_34',\n",
       " '_35',\n",
       " '_36',\n",
       " '_37',\n",
       " '_38',\n",
       " '_39',\n",
       " '_40',\n",
       " '_41',\n",
       " '_42',\n",
       " '_43',\n",
       " '_44',\n",
       " '_45',\n",
       " '_46',\n",
       " '_47',\n",
       " '_48',\n",
       " '_49',\n",
       " '_5',\n",
       " '_50',\n",
       " '_51',\n",
       " '_53',\n",
       " '_54',\n",
       " '_55',\n",
       " '_56',\n",
       " '_57',\n",
       " '_58',\n",
       " '_6',\n",
       " '_62',\n",
       " '_63',\n",
       " '_64',\n",
       " '_65',\n",
       " '_66',\n",
       " '_67',\n",
       " '_69',\n",
       " '_7',\n",
       " '_70',\n",
       " '_71',\n",
       " '_73',\n",
       " '_77',\n",
       " '_8',\n",
       " '_9',\n",
       " '_90',\n",
       " '_92',\n",
       " '_93',\n",
       " '_95',\n",
       " '_96',\n",
       " '_97',\n",
       " '_98',\n",
       " '_99',\n",
       " '__',\n",
       " '___',\n",
       " '__builtin__',\n",
       " '__builtins__',\n",
       " '__doc__',\n",
       " '__loader__',\n",
       " '__name__',\n",
       " '__package__',\n",
       " '__spec__',\n",
       " '_dh',\n",
       " '_i',\n",
       " '_i1',\n",
       " '_i10',\n",
       " '_i100',\n",
       " '_i101',\n",
       " '_i102',\n",
       " '_i103',\n",
       " '_i104',\n",
       " '_i105',\n",
       " '_i106',\n",
       " '_i107',\n",
       " '_i108',\n",
       " '_i109',\n",
       " '_i11',\n",
       " '_i110',\n",
       " '_i111',\n",
       " '_i112',\n",
       " '_i113',\n",
       " '_i114',\n",
       " '_i115',\n",
       " '_i116',\n",
       " '_i117',\n",
       " '_i118',\n",
       " '_i119',\n",
       " '_i12',\n",
       " '_i120',\n",
       " '_i121',\n",
       " '_i122',\n",
       " '_i123',\n",
       " '_i124',\n",
       " '_i125',\n",
       " '_i126',\n",
       " '_i127',\n",
       " '_i128',\n",
       " '_i129',\n",
       " '_i13',\n",
       " '_i130',\n",
       " '_i131',\n",
       " '_i132',\n",
       " '_i133',\n",
       " '_i134',\n",
       " '_i135',\n",
       " '_i136',\n",
       " '_i137',\n",
       " '_i138',\n",
       " '_i139',\n",
       " '_i14',\n",
       " '_i140',\n",
       " '_i141',\n",
       " '_i142',\n",
       " '_i143',\n",
       " '_i144',\n",
       " '_i145',\n",
       " '_i146',\n",
       " '_i147',\n",
       " '_i148',\n",
       " '_i149',\n",
       " '_i15',\n",
       " '_i150',\n",
       " '_i151',\n",
       " '_i152',\n",
       " '_i153',\n",
       " '_i154',\n",
       " '_i155',\n",
       " '_i156',\n",
       " '_i157',\n",
       " '_i158',\n",
       " '_i159',\n",
       " '_i16',\n",
       " '_i160',\n",
       " '_i161',\n",
       " '_i162',\n",
       " '_i163',\n",
       " '_i164',\n",
       " '_i165',\n",
       " '_i166',\n",
       " '_i167',\n",
       " '_i168',\n",
       " '_i169',\n",
       " '_i17',\n",
       " '_i170',\n",
       " '_i171',\n",
       " '_i172',\n",
       " '_i173',\n",
       " '_i174',\n",
       " '_i175',\n",
       " '_i176',\n",
       " '_i177',\n",
       " '_i178',\n",
       " '_i179',\n",
       " '_i18',\n",
       " '_i180',\n",
       " '_i181',\n",
       " '_i182',\n",
       " '_i183',\n",
       " '_i184',\n",
       " '_i185',\n",
       " '_i186',\n",
       " '_i187',\n",
       " '_i188',\n",
       " '_i189',\n",
       " '_i19',\n",
       " '_i190',\n",
       " '_i191',\n",
       " '_i192',\n",
       " '_i193',\n",
       " '_i194',\n",
       " '_i195',\n",
       " '_i2',\n",
       " '_i20',\n",
       " '_i21',\n",
       " '_i22',\n",
       " '_i23',\n",
       " '_i24',\n",
       " '_i25',\n",
       " '_i26',\n",
       " '_i27',\n",
       " '_i28',\n",
       " '_i29',\n",
       " '_i3',\n",
       " '_i30',\n",
       " '_i31',\n",
       " '_i32',\n",
       " '_i33',\n",
       " '_i34',\n",
       " '_i35',\n",
       " '_i36',\n",
       " '_i37',\n",
       " '_i38',\n",
       " '_i39',\n",
       " '_i4',\n",
       " '_i40',\n",
       " '_i41',\n",
       " '_i42',\n",
       " '_i43',\n",
       " '_i44',\n",
       " '_i45',\n",
       " '_i46',\n",
       " '_i47',\n",
       " '_i48',\n",
       " '_i49',\n",
       " '_i5',\n",
       " '_i50',\n",
       " '_i51',\n",
       " '_i52',\n",
       " '_i53',\n",
       " '_i54',\n",
       " '_i55',\n",
       " '_i56',\n",
       " '_i57',\n",
       " '_i58',\n",
       " '_i59',\n",
       " '_i6',\n",
       " '_i60',\n",
       " '_i61',\n",
       " '_i62',\n",
       " '_i63',\n",
       " '_i64',\n",
       " '_i65',\n",
       " '_i66',\n",
       " '_i67',\n",
       " '_i68',\n",
       " '_i69',\n",
       " '_i7',\n",
       " '_i70',\n",
       " '_i71',\n",
       " '_i72',\n",
       " '_i73',\n",
       " '_i74',\n",
       " '_i75',\n",
       " '_i76',\n",
       " '_i77',\n",
       " '_i78',\n",
       " '_i79',\n",
       " '_i8',\n",
       " '_i80',\n",
       " '_i81',\n",
       " '_i82',\n",
       " '_i83',\n",
       " '_i84',\n",
       " '_i85',\n",
       " '_i86',\n",
       " '_i87',\n",
       " '_i88',\n",
       " '_i89',\n",
       " '_i9',\n",
       " '_i90',\n",
       " '_i91',\n",
       " '_i92',\n",
       " '_i93',\n",
       " '_i94',\n",
       " '_i95',\n",
       " '_i96',\n",
       " '_i97',\n",
       " '_i98',\n",
       " '_i99',\n",
       " '_ih',\n",
       " '_ii',\n",
       " '_iii',\n",
       " '_oh',\n",
       " 'a',\n",
       " 'a_b',\n",
       " 'a_b_1',\n",
       " 'ab',\n",
       " 'abc',\n",
       " 'abcd',\n",
       " 'age',\n",
       " 'b',\n",
       " 'c',\n",
       " 'count',\n",
       " 'd',\n",
       " 'data',\n",
       " 'data_type',\n",
       " 'e',\n",
       " 'exit',\n",
       " 'f',\n",
       " 'get_ipython',\n",
       " 'h',\n",
       " 'info',\n",
       " 'info_data',\n",
       " 'input_text',\n",
       " 'keyword',\n",
       " 'list1',\n",
       " 'list2',\n",
       " 'list3',\n",
       " 'math',\n",
       " 'name',\n",
       " 'names',\n",
       " 'quit',\n",
       " 'r',\n",
       " 'sb',\n",
       " 'st',\n",
       " 'st1',\n",
       " 'st2',\n",
       " 'statement',\n",
       " 'str1',\n",
       " 'str2',\n",
       " 'str3',\n",
       " 'str4',\n",
       " 'tup',\n",
       " 'tupl',\n",
       " 'word',\n",
       " 'word_counts',\n",
       " 'words',\n",
       " 'x1',\n",
       " 'x2',\n",
       " 'y1',\n",
       " 'y2']"
      ]
     },
     "execution_count": 195,
     "metadata": {},
     "output_type": "execute_result"
    }
   ],
   "source": [
    "dir()"
   ]
  },
  {
   "cell_type": "code",
   "execution_count": 196,
   "id": "c1c94109",
   "metadata": {},
   "outputs": [
    {
     "data": {
      "text/plain": [
       "{10, 11, 12, 13, 14, 15, 16, 17, 18}"
      ]
     },
     "execution_count": 196,
     "metadata": {},
     "output_type": "execute_result"
    }
   ],
   "source": [
    "s1 ={10,11,11,12,13,15,11,16,17,14,18}\n",
    "s1"
   ]
  },
  {
   "cell_type": "code",
   "execution_count": 197,
   "id": "21231f78",
   "metadata": {},
   "outputs": [
    {
     "data": {
      "text/plain": [
       "{10, 12, 14, 15, 17, 18, 21}"
      ]
     },
     "execution_count": 197,
     "metadata": {},
     "output_type": "execute_result"
    }
   ],
   "source": [
    "s2={10,15,17,12,14,18,21,17}\n",
    "s2"
   ]
  },
  {
   "cell_type": "code",
   "execution_count": 198,
   "id": "c30ad3a4",
   "metadata": {},
   "outputs": [
    {
     "data": {
      "text/plain": [
       "({10, 11, 12, 13, 14, 15, 16, 17, 18}, {10, 12, 14, 15, 17, 18, 21})"
      ]
     },
     "execution_count": 198,
     "metadata": {},
     "output_type": "execute_result"
    }
   ],
   "source": [
    "s1,s2"
   ]
  },
  {
   "cell_type": "code",
   "execution_count": 199,
   "id": "79fdd3af",
   "metadata": {},
   "outputs": [],
   "source": [
    "s1.add(15)"
   ]
  },
  {
   "cell_type": "code",
   "execution_count": 200,
   "id": "113491de",
   "metadata": {},
   "outputs": [
    {
     "data": {
      "text/plain": [
       "{10, 11, 12, 13, 14, 15, 16, 17, 18}"
      ]
     },
     "execution_count": 200,
     "metadata": {},
     "output_type": "execute_result"
    }
   ],
   "source": [
    "s1"
   ]
  },
  {
   "cell_type": "code",
   "execution_count": 201,
   "id": "06531712",
   "metadata": {},
   "outputs": [],
   "source": [
    "s1.add(22)"
   ]
  },
  {
   "cell_type": "code",
   "execution_count": 202,
   "id": "efc90fb0",
   "metadata": {},
   "outputs": [
    {
     "data": {
      "text/plain": [
       "{10, 11, 12, 13, 14, 15, 16, 17, 18, 22}"
      ]
     },
     "execution_count": 202,
     "metadata": {},
     "output_type": "execute_result"
    }
   ],
   "source": [
    "s1"
   ]
  },
  {
   "cell_type": "code",
   "execution_count": 203,
   "id": "87b117b9",
   "metadata": {},
   "outputs": [],
   "source": [
    "s1.update({25,20}) #--> multiple value can be updated."
   ]
  },
  {
   "cell_type": "code",
   "execution_count": 204,
   "id": "1c3d567f",
   "metadata": {},
   "outputs": [
    {
     "data": {
      "text/plain": [
       "{10, 11, 12, 13, 14, 15, 16, 17, 18, 20, 22, 25}"
      ]
     },
     "execution_count": 204,
     "metadata": {},
     "output_type": "execute_result"
    }
   ],
   "source": [
    "s1"
   ]
  },
  {
   "cell_type": "code",
   "execution_count": 205,
   "id": "3000add4",
   "metadata": {},
   "outputs": [
    {
     "ename": "SyntaxError",
     "evalue": "invalid syntax (3410036642.py, line 1)",
     "output_type": "error",
     "traceback": [
      "\u001b[1;36m  File \u001b[1;32m\"C:\\Users\\Saurabh\\AppData\\Local\\Temp\\ipykernel_1276\\3410036642.py\"\u001b[1;36m, line \u001b[1;32m1\u001b[0m\n\u001b[1;33m    union --> combine\u001b[0m\n\u001b[1;37m           ^\u001b[0m\n\u001b[1;31mSyntaxError\u001b[0m\u001b[1;31m:\u001b[0m invalid syntax\n"
     ]
    }
   ],
   "source": [
    "union --> combine\n",
    "difference -->different values\n",
    "intersection--> common values\n"
   ]
  },
  {
   "cell_type": "code",
   "execution_count": 206,
   "id": "4780ca34",
   "metadata": {},
   "outputs": [
    {
     "data": {
      "text/plain": [
       "{10, 11, 12, 13, 14, 15, 16, 17, 18, 20, 21, 22, 25}"
      ]
     },
     "execution_count": 206,
     "metadata": {},
     "output_type": "execute_result"
    }
   ],
   "source": [
    "s1.union(s2)"
   ]
  },
  {
   "cell_type": "code",
   "execution_count": 207,
   "id": "7ee29ea1",
   "metadata": {},
   "outputs": [
    {
     "data": {
      "text/plain": [
       "{11, 13, 16, 20, 22, 25}"
      ]
     },
     "execution_count": 207,
     "metadata": {},
     "output_type": "execute_result"
    }
   ],
   "source": [
    "s1.difference(s2)"
   ]
  },
  {
   "cell_type": "code",
   "execution_count": 208,
   "id": "563e0dad",
   "metadata": {},
   "outputs": [
    {
     "data": {
      "text/plain": [
       "{10, 12, 14, 15, 17, 18}"
      ]
     },
     "execution_count": 208,
     "metadata": {},
     "output_type": "execute_result"
    }
   ],
   "source": [
    "s1.intersection(s2)"
   ]
  },
  {
   "cell_type": "code",
   "execution_count": 209,
   "id": "e16782ea",
   "metadata": {},
   "outputs": [
    {
     "data": {
      "text/plain": [
       "({10, 11, 12, 13, 14, 15, 16, 17, 18, 20, 22, 25},\n",
       " {10, 12, 14, 15, 17, 18, 21})"
      ]
     },
     "execution_count": 209,
     "metadata": {},
     "output_type": "execute_result"
    }
   ],
   "source": [
    "s1,s2"
   ]
  },
  {
   "cell_type": "code",
   "execution_count": 210,
   "id": "2aa5433e",
   "metadata": {},
   "outputs": [
    {
     "data": {
      "text/plain": [
       "{11, 13, 16, 20, 21, 22, 25}"
      ]
     },
     "execution_count": 210,
     "metadata": {},
     "output_type": "execute_result"
    }
   ],
   "source": [
    "s1.symmetric_difference(s2)"
   ]
  },
  {
   "cell_type": "code",
   "execution_count": 211,
   "id": "6de6b3eb",
   "metadata": {},
   "outputs": [
    {
     "data": {
      "text/plain": [
       "False"
      ]
     },
     "execution_count": 211,
     "metadata": {},
     "output_type": "execute_result"
    }
   ],
   "source": [
    "s1.isdisjoint(s2)"
   ]
  },
  {
   "cell_type": "code",
   "execution_count": 212,
   "id": "58504ce5",
   "metadata": {},
   "outputs": [
    {
     "data": {
      "text/plain": [
       "True"
      ]
     },
     "execution_count": 212,
     "metadata": {},
     "output_type": "execute_result"
    }
   ],
   "source": [
    "s3 ={1,2,3}\n",
    "s4 ={4,5,6}\n",
    "s3.isdisjoint(s4)"
   ]
  },
  {
   "cell_type": "code",
   "execution_count": 213,
   "id": "17e983e3",
   "metadata": {},
   "outputs": [
    {
     "data": {
      "text/plain": [
       "False"
      ]
     },
     "execution_count": 213,
     "metadata": {},
     "output_type": "execute_result"
    }
   ],
   "source": [
    "a = {1,2,3,4,5,6}\n",
    "b = {1,2,3}\n",
    "a.issubset(b)"
   ]
  },
  {
   "cell_type": "code",
   "execution_count": 214,
   "id": "5725801a",
   "metadata": {},
   "outputs": [
    {
     "data": {
      "text/plain": [
       "True"
      ]
     },
     "execution_count": 214,
     "metadata": {},
     "output_type": "execute_result"
    }
   ],
   "source": [
    "b.issubset(a)"
   ]
  },
  {
   "cell_type": "code",
   "execution_count": 215,
   "id": "01cce964",
   "metadata": {},
   "outputs": [
    {
     "data": {
      "text/plain": [
       "(True, False)"
      ]
     },
     "execution_count": 215,
     "metadata": {},
     "output_type": "execute_result"
    }
   ],
   "source": [
    "a.issuperset(b),b.issuperset(a)"
   ]
  },
  {
   "cell_type": "code",
   "execution_count": 216,
   "id": "43491e6e",
   "metadata": {},
   "outputs": [
    {
     "data": {
      "text/plain": [
       "({10, 11, 12, 13, 14, 15, 16, 17, 18, 20, 22, 25},\n",
       " {10, 12, 14, 15, 17, 18, 21})"
      ]
     },
     "execution_count": 216,
     "metadata": {},
     "output_type": "execute_result"
    }
   ],
   "source": [
    "s1,s2"
   ]
  },
  {
   "cell_type": "code",
   "execution_count": 217,
   "id": "d9171333",
   "metadata": {},
   "outputs": [],
   "source": [
    "# update\n",
    "s1.difference_update(s2)"
   ]
  },
  {
   "cell_type": "code",
   "execution_count": 218,
   "id": "06c3ce50",
   "metadata": {},
   "outputs": [
    {
     "data": {
      "text/plain": [
       "{11, 13, 16, 20, 22, 25}"
      ]
     },
     "execution_count": 218,
     "metadata": {},
     "output_type": "execute_result"
    }
   ],
   "source": [
    "s1"
   ]
  },
  {
   "cell_type": "code",
   "execution_count": 219,
   "id": "2d680984",
   "metadata": {},
   "outputs": [],
   "source": [
    "s1.intersection_update(s2)"
   ]
  },
  {
   "cell_type": "code",
   "execution_count": 220,
   "id": "a7a786eb",
   "metadata": {},
   "outputs": [
    {
     "data": {
      "text/plain": [
       "set()"
      ]
     },
     "execution_count": 220,
     "metadata": {},
     "output_type": "execute_result"
    }
   ],
   "source": [
    "s1"
   ]
  },
  {
   "cell_type": "code",
   "execution_count": 221,
   "id": "74f00e3f",
   "metadata": {},
   "outputs": [],
   "source": [
    "s1.symmetric_difference_update(s2)"
   ]
  },
  {
   "cell_type": "code",
   "execution_count": 222,
   "id": "510ab4f3",
   "metadata": {},
   "outputs": [
    {
     "data": {
      "text/plain": [
       "{10, 12, 14, 15, 17, 18, 21}"
      ]
     },
     "execution_count": 222,
     "metadata": {},
     "output_type": "execute_result"
    }
   ],
   "source": [
    "s1"
   ]
  },
  {
   "cell_type": "code",
   "execution_count": 223,
   "id": "c9c50acb",
   "metadata": {},
   "outputs": [
    {
     "data": {
      "text/plain": [
       "{10, 12, 14, 15, 17, 18, 21}"
      ]
     },
     "execution_count": 223,
     "metadata": {},
     "output_type": "execute_result"
    }
   ],
   "source": [
    "s1.intersection(s2)"
   ]
  },
  {
   "cell_type": "code",
   "execution_count": 224,
   "id": "38059b1b",
   "metadata": {},
   "outputs": [],
   "source": [
    "s1.intersection_update(s2)"
   ]
  },
  {
   "cell_type": "code",
   "execution_count": 225,
   "id": "6d369915",
   "metadata": {},
   "outputs": [
    {
     "data": {
      "text/plain": [
       "{10, 12, 14, 15, 17, 18, 21}"
      ]
     },
     "execution_count": 225,
     "metadata": {},
     "output_type": "execute_result"
    }
   ],
   "source": [
    "s1"
   ]
  },
  {
   "cell_type": "code",
   "execution_count": 226,
   "id": "9e0f0d73",
   "metadata": {},
   "outputs": [],
   "source": [
    "# indexing/slicing\n",
    "#s1[0]"
   ]
  },
  {
   "cell_type": "code",
   "execution_count": 227,
   "id": "effae83e",
   "metadata": {},
   "outputs": [
    {
     "data": {
      "text/plain": [
       "10"
      ]
     },
     "execution_count": 227,
     "metadata": {},
     "output_type": "execute_result"
    }
   ],
   "source": [
    "s1.pop()"
   ]
  },
  {
   "cell_type": "code",
   "execution_count": 228,
   "id": "5d7e6212",
   "metadata": {},
   "outputs": [],
   "source": [
    "s1.remove(14)"
   ]
  },
  {
   "cell_type": "code",
   "execution_count": 229,
   "id": "e493592b",
   "metadata": {},
   "outputs": [
    {
     "data": {
      "text/plain": [
       "{12, 15, 17, 18, 21}"
      ]
     },
     "execution_count": 229,
     "metadata": {},
     "output_type": "execute_result"
    }
   ],
   "source": [
    "s1"
   ]
  },
  {
   "cell_type": "code",
   "execution_count": 230,
   "id": "8d002a6e",
   "metadata": {},
   "outputs": [],
   "source": [
    "ss1=s1.copy()"
   ]
  },
  {
   "cell_type": "code",
   "execution_count": 231,
   "id": "7a8a4520",
   "metadata": {},
   "outputs": [
    {
     "data": {
      "text/plain": [
       "{12, 15, 17, 18, 21}"
      ]
     },
     "execution_count": 231,
     "metadata": {},
     "output_type": "execute_result"
    }
   ],
   "source": [
    "ss1"
   ]
  },
  {
   "cell_type": "code",
   "execution_count": 232,
   "id": "85feb5c3",
   "metadata": {},
   "outputs": [],
   "source": [
    "# dictionary\n",
    "dt ={ \"name\":['sourabh','ravi'],\n",
    "    \"course_id\":[1,2]}"
   ]
  },
  {
   "cell_type": "code",
   "execution_count": 233,
   "id": "6089d367",
   "metadata": {},
   "outputs": [
    {
     "name": "stdout",
     "output_type": "stream",
     "text": [
      "{'name': ['sourabh', 'ravi'], 'course_id': [1, 2]}\n"
     ]
    }
   ],
   "source": [
    "print(dt)"
   ]
  },
  {
   "cell_type": "code",
   "execution_count": 234,
   "id": "08b26319",
   "metadata": {},
   "outputs": [
    {
     "data": {
      "text/plain": [
       "dict"
      ]
     },
     "execution_count": 234,
     "metadata": {},
     "output_type": "execute_result"
    }
   ],
   "source": [
    "type(dt)"
   ]
  },
  {
   "cell_type": "code",
   "execution_count": 235,
   "id": "eb713fcc",
   "metadata": {},
   "outputs": [],
   "source": [
    "data1= {'key1':[1,2,3,4,5,6],\n",
    "       'key2':[10,15,16,True],\n",
    "       'Key3':['a','b','c','d']}"
   ]
  },
  {
   "cell_type": "code",
   "execution_count": 236,
   "id": "8468ee1f",
   "metadata": {},
   "outputs": [
    {
     "data": {
      "text/plain": [
       "{'key1': [1, 2, 3, 4, 5, 6],\n",
       " 'key2': [10, 15, 16, True],\n",
       " 'Key3': ['a', 'b', 'c', 'd']}"
      ]
     },
     "execution_count": 236,
     "metadata": {},
     "output_type": "execute_result"
    }
   ],
   "source": [
    "data1"
   ]
  },
  {
   "cell_type": "code",
   "execution_count": 237,
   "id": "41fc97d9",
   "metadata": {},
   "outputs": [
    {
     "data": {
      "text/plain": [
       "dict"
      ]
     },
     "execution_count": 237,
     "metadata": {},
     "output_type": "execute_result"
    }
   ],
   "source": [
    "type(data1)"
   ]
  },
  {
   "cell_type": "code",
   "execution_count": 238,
   "id": "ad9b4151",
   "metadata": {},
   "outputs": [
    {
     "data": {
      "text/plain": [
       "dict_values([[1, 2, 3, 4, 5, 6], [10, 15, 16, True], ['a', 'b', 'c', 'd']])"
      ]
     },
     "execution_count": 238,
     "metadata": {},
     "output_type": "execute_result"
    }
   ],
   "source": [
    "data1.values()"
   ]
  },
  {
   "cell_type": "code",
   "execution_count": 239,
   "id": "12fa3857",
   "metadata": {},
   "outputs": [
    {
     "data": {
      "text/plain": [
       "dict_keys(['key1', 'key2', 'Key3'])"
      ]
     },
     "execution_count": 239,
     "metadata": {},
     "output_type": "execute_result"
    }
   ],
   "source": [
    "data1.keys()"
   ]
  },
  {
   "cell_type": "code",
   "execution_count": 240,
   "id": "2f1e7b34",
   "metadata": {},
   "outputs": [
    {
     "data": {
      "text/plain": [
       "[1, 2, 3, 4, 5, 6]"
      ]
     },
     "execution_count": 240,
     "metadata": {},
     "output_type": "execute_result"
    }
   ],
   "source": [
    "data1['key1']"
   ]
  },
  {
   "cell_type": "code",
   "execution_count": 241,
   "id": "4a994034",
   "metadata": {},
   "outputs": [
    {
     "data": {
      "text/plain": [
       "dict_items([('key1', [1, 2, 3, 4, 5, 6]), ('key2', [10, 15, 16, True]), ('Key3', ['a', 'b', 'c', 'd'])])"
      ]
     },
     "execution_count": 241,
     "metadata": {},
     "output_type": "execute_result"
    }
   ],
   "source": [
    "data1.items()"
   ]
  },
  {
   "cell_type": "code",
   "execution_count": 242,
   "id": "a3d5ec96",
   "metadata": {},
   "outputs": [
    {
     "data": {
      "text/plain": [
       "[1, 2, 3, 4, 5, 6]"
      ]
     },
     "execution_count": 242,
     "metadata": {},
     "output_type": "execute_result"
    }
   ],
   "source": [
    "data1.get('key1')"
   ]
  },
  {
   "cell_type": "code",
   "execution_count": 243,
   "id": "f95655e3",
   "metadata": {},
   "outputs": [
    {
     "data": {
      "text/plain": [
       "{'k': None, 'e': None, 'y': None, '1': None}"
      ]
     },
     "execution_count": 243,
     "metadata": {},
     "output_type": "execute_result"
    }
   ],
   "source": [
    "data1.fromkeys('key1')"
   ]
  },
  {
   "cell_type": "code",
   "execution_count": 244,
   "id": "b794c1d6",
   "metadata": {},
   "outputs": [
    {
     "data": {
      "text/plain": [
       "[1, 2, 3, 4, 5, 6]"
      ]
     },
     "execution_count": 244,
     "metadata": {},
     "output_type": "execute_result"
    }
   ],
   "source": [
    "data1.pop('key1')"
   ]
  },
  {
   "cell_type": "code",
   "execution_count": 245,
   "id": "f6d600bc",
   "metadata": {},
   "outputs": [
    {
     "data": {
      "text/plain": [
       "{'key2': [10, 15, 16, True], 'Key3': ['a', 'b', 'c', 'd']}"
      ]
     },
     "execution_count": 245,
     "metadata": {},
     "output_type": "execute_result"
    }
   ],
   "source": [
    "data1"
   ]
  },
  {
   "cell_type": "code",
   "execution_count": 246,
   "id": "82bf36a4",
   "metadata": {},
   "outputs": [],
   "source": [
    "data1.update({'key1':[1, 2, 3, 4, 5, 6]})"
   ]
  },
  {
   "cell_type": "code",
   "execution_count": 247,
   "id": "45c97558",
   "metadata": {},
   "outputs": [
    {
     "data": {
      "text/plain": [
       "{'key2': [10, 15, 16, True],\n",
       " 'Key3': ['a', 'b', 'c', 'd'],\n",
       " 'key1': [1, 2, 3, 4, 5, 6]}"
      ]
     },
     "execution_count": 247,
     "metadata": {},
     "output_type": "execute_result"
    }
   ],
   "source": [
    "data1"
   ]
  },
  {
   "cell_type": "code",
   "execution_count": 248,
   "id": "b7ecf9fb",
   "metadata": {},
   "outputs": [
    {
     "data": {
      "text/plain": [
       "3"
      ]
     },
     "execution_count": 248,
     "metadata": {},
     "output_type": "execute_result"
    }
   ],
   "source": [
    "data1['key1'][2]"
   ]
  },
  {
   "cell_type": "code",
   "execution_count": 249,
   "id": "83eb636f",
   "metadata": {},
   "outputs": [],
   "source": [
    "data1['key1'][2]=5"
   ]
  },
  {
   "cell_type": "code",
   "execution_count": 250,
   "id": "1cd9f704",
   "metadata": {},
   "outputs": [
    {
     "data": {
      "text/plain": [
       "{'key2': [10, 15, 16, True],\n",
       " 'Key3': ['a', 'b', 'c', 'd'],\n",
       " 'key1': [1, 2, 5, 4, 5, 6]}"
      ]
     },
     "execution_count": 250,
     "metadata": {},
     "output_type": "execute_result"
    }
   ],
   "source": [
    "data1"
   ]
  },
  {
   "cell_type": "markdown",
   "id": "d103fafd",
   "metadata": {},
   "source": [
    "### multi list and multi dictionary"
   ]
  },
  {
   "cell_type": "code",
   "execution_count": 251,
   "id": "3831924a",
   "metadata": {},
   "outputs": [
    {
     "data": {
      "text/plain": [
       "[[0, 1, 2, 3], [4, 5, 6, 7], [8, 9, 10, 11, 12]]"
      ]
     },
     "execution_count": 251,
     "metadata": {},
     "output_type": "execute_result"
    }
   ],
   "source": [
    "Mlist = [[0,1,2,3],[4,5,6,7],[8,9,10,11,12]]\n",
    "Mlist"
   ]
  },
  {
   "cell_type": "code",
   "execution_count": 252,
   "id": "b05c4ba8",
   "metadata": {},
   "outputs": [
    {
     "data": {
      "text/plain": [
       "[0, 1, 2, 3]"
      ]
     },
     "execution_count": 252,
     "metadata": {},
     "output_type": "execute_result"
    }
   ],
   "source": [
    "Mlist[0]"
   ]
  },
  {
   "cell_type": "code",
   "execution_count": 253,
   "id": "fe3b32ad",
   "metadata": {},
   "outputs": [
    {
     "data": {
      "text/plain": [
       "2"
      ]
     },
     "execution_count": 253,
     "metadata": {},
     "output_type": "execute_result"
    }
   ],
   "source": [
    "Mlist[0][2]"
   ]
  },
  {
   "cell_type": "code",
   "execution_count": 254,
   "id": "bf8fadf9",
   "metadata": {},
   "outputs": [
    {
     "data": {
      "text/plain": [
       "10"
      ]
     },
     "execution_count": 254,
     "metadata": {},
     "output_type": "execute_result"
    }
   ],
   "source": [
    "Mlist[2][2]"
   ]
  },
  {
   "cell_type": "code",
   "execution_count": 255,
   "id": "24442cb5",
   "metadata": {},
   "outputs": [],
   "source": [
    "Mlist1=[0,1,2,[10,151,6,[5,6,8,[8,9,10],[15,14,16],['a',5]]]]"
   ]
  },
  {
   "cell_type": "code",
   "execution_count": 256,
   "id": "bd58f462",
   "metadata": {},
   "outputs": [
    {
     "data": {
      "text/plain": [
       "[0, 1, 2, [10, 151, 6, [5, 6, 8, [8, 9, 10], [15, 14, 16], ['a', 5]]]]"
      ]
     },
     "execution_count": 256,
     "metadata": {},
     "output_type": "execute_result"
    }
   ],
   "source": [
    "Mlist1"
   ]
  },
  {
   "cell_type": "code",
   "execution_count": 257,
   "id": "85c7f92c",
   "metadata": {},
   "outputs": [
    {
     "data": {
      "text/plain": [
       "151"
      ]
     },
     "execution_count": 257,
     "metadata": {},
     "output_type": "execute_result"
    }
   ],
   "source": [
    "Mlist1[3][1]"
   ]
  },
  {
   "cell_type": "code",
   "execution_count": 258,
   "id": "ac1fefa5",
   "metadata": {},
   "outputs": [
    {
     "data": {
      "text/plain": [
       "'a'"
      ]
     },
     "execution_count": 258,
     "metadata": {},
     "output_type": "execute_result"
    }
   ],
   "source": [
    "Mlist1[3][3][5][0]"
   ]
  },
  {
   "cell_type": "code",
   "execution_count": 259,
   "id": "b099b1dd",
   "metadata": {},
   "outputs": [],
   "source": [
    "columns = ['name','age','subjects','Marks']\n",
    "student_marks = [\n",
    "    {'name':'sam',\n",
    "    'age':25,\n",
    "    'subjects':['Maths','science','CS','Statistics','Phyisics','Bio'],\n",
    "    'Marks':[60,70,80,90,70,60]},\n",
    "    \n",
    "    {'name':'jack',\n",
    "    'age':26,\n",
    "    'subjects':['Maths','science','CS','Statistics','Phyisics','Bio'],\n",
    "    'Marks':[60,70,80,80,70,60]},\n",
    "                 \n",
    "    {'name':'syeda',\n",
    "    'age':27,\n",
    "    'subjects':['Maths','science','CS','Statistics','Phyisics','Bio'],\n",
    "    'Marks':[60,50,80,70,70,60]}\n",
    "                ]"
   ]
  },
  {
   "cell_type": "code",
   "execution_count": 260,
   "id": "9bcd1317",
   "metadata": {},
   "outputs": [
    {
     "data": {
      "text/plain": [
       "{'name': 'sam',\n",
       " 'age': 25,\n",
       " 'subjects': ['Maths', 'science', 'CS', 'Statistics', 'Phyisics', 'Bio'],\n",
       " 'Marks': [60, 70, 80, 90, 70, 60]}"
      ]
     },
     "execution_count": 260,
     "metadata": {},
     "output_type": "execute_result"
    }
   ],
   "source": [
    "student_marks[0]"
   ]
  },
  {
   "cell_type": "code",
   "execution_count": 261,
   "id": "d30e181a",
   "metadata": {},
   "outputs": [
    {
     "data": {
      "text/plain": [
       "'Maths'"
      ]
     },
     "execution_count": 261,
     "metadata": {},
     "output_type": "execute_result"
    }
   ],
   "source": [
    "student_marks[0]['subjects'][0]"
   ]
  },
  {
   "cell_type": "code",
   "execution_count": 262,
   "id": "ededdc00",
   "metadata": {},
   "outputs": [
    {
     "data": {
      "text/plain": [
       "'sam'"
      ]
     },
     "execution_count": 262,
     "metadata": {},
     "output_type": "execute_result"
    }
   ],
   "source": [
    "student_marks[0]['name']"
   ]
  },
  {
   "cell_type": "code",
   "execution_count": 263,
   "id": "f180a370",
   "metadata": {},
   "outputs": [],
   "source": [
    "a=student_marks[0]['Marks']"
   ]
  },
  {
   "cell_type": "code",
   "execution_count": 264,
   "id": "e8675540",
   "metadata": {},
   "outputs": [
    {
     "data": {
      "text/plain": [
       "71.66666666666667"
      ]
     },
     "execution_count": 264,
     "metadata": {},
     "output_type": "execute_result"
    }
   ],
   "source": [
    "sum(a)/len(a)"
   ]
  },
  {
   "cell_type": "code",
   "execution_count": 265,
   "id": "f9fd7308",
   "metadata": {},
   "outputs": [],
   "source": [
    "a=student_marks[1]['Marks']"
   ]
  },
  {
   "cell_type": "code",
   "execution_count": 266,
   "id": "80907675",
   "metadata": {},
   "outputs": [
    {
     "data": {
      "text/plain": [
       "70.0"
      ]
     },
     "execution_count": 266,
     "metadata": {},
     "output_type": "execute_result"
    }
   ],
   "source": [
    "sum(a)/len(a)"
   ]
  },
  {
   "cell_type": "code",
   "execution_count": 267,
   "id": "a35d2c2d",
   "metadata": {},
   "outputs": [],
   "source": [
    "student_marks[0]['subjects'][1]=\"data science\""
   ]
  },
  {
   "cell_type": "code",
   "execution_count": 268,
   "id": "4afc4d8b",
   "metadata": {},
   "outputs": [
    {
     "data": {
      "text/plain": [
       "'data science'"
      ]
     },
     "execution_count": 268,
     "metadata": {},
     "output_type": "execute_result"
    }
   ],
   "source": [
    "student_marks[0]['subjects'][1]"
   ]
  },
  {
   "cell_type": "code",
   "execution_count": 269,
   "id": "3af642ec",
   "metadata": {},
   "outputs": [
    {
     "data": {
      "text/plain": [
       "{'name': 'sam',\n",
       " 'age': 25,\n",
       " 'subjects': ['Maths', 'data science', 'CS', 'Statistics', 'Phyisics', 'Bio'],\n",
       " 'Marks': [60, 70, 80, 90, 70, 60]}"
      ]
     },
     "execution_count": 269,
     "metadata": {},
     "output_type": "execute_result"
    }
   ],
   "source": [
    "student_marks[0]"
   ]
  },
  {
   "cell_type": "code",
   "execution_count": 270,
   "id": "83d9e5d6",
   "metadata": {},
   "outputs": [],
   "source": [
    "\n",
    "#Task4: calculate the avgrage hight of all list.\n",
    "students_heights = [[5.5,5.6,5.9,5.8,5.7,5.9],\n",
    "                    [6.5,6.8,7.1,6.3,6.4,6.6,6.4],\n",
    "                    [7.1,7.8,7.5,6.9,8.1,7.5,7.9]]    "
   ]
  },
  {
   "cell_type": "code",
   "execution_count": 271,
   "id": "0aa42eb2",
   "metadata": {},
   "outputs": [
    {
     "data": {
      "text/plain": [
       "[5.5, 5.6, 5.9, 5.8, 5.7, 5.9]"
      ]
     },
     "execution_count": 271,
     "metadata": {},
     "output_type": "execute_result"
    }
   ],
   "source": [
    "students_heights[0]"
   ]
  },
  {
   "cell_type": "code",
   "execution_count": 272,
   "id": "97a3ec26",
   "metadata": {},
   "outputs": [
    {
     "data": {
      "text/plain": [
       "5.733333333333333"
      ]
     },
     "execution_count": 272,
     "metadata": {},
     "output_type": "execute_result"
    }
   ],
   "source": [
    "First_avg_height=sum(students_heights[0])/len(students_heights[0])\n",
    "First_avg_height"
   ]
  },
  {
   "cell_type": "code",
   "execution_count": 273,
   "id": "b8574807",
   "metadata": {},
   "outputs": [
    {
     "data": {
      "text/plain": [
       "6.585714285714286"
      ]
     },
     "execution_count": 273,
     "metadata": {},
     "output_type": "execute_result"
    }
   ],
   "source": [
    "Sec_avg_height=sum(students_heights[1])/len(students_heights[1])\n",
    "Sec_avg_height"
   ]
  },
  {
   "cell_type": "code",
   "execution_count": 274,
   "id": "9144a439",
   "metadata": {},
   "outputs": [
    {
     "data": {
      "text/plain": [
       "7.542857142857143"
      ]
     },
     "execution_count": 274,
     "metadata": {},
     "output_type": "execute_result"
    }
   ],
   "source": [
    "third_avg_height=sum(students_heights[2])/len(students_heights[2])\n",
    "third_avg_height"
   ]
  },
  {
   "cell_type": "code",
   "execution_count": 275,
   "id": "0f9aba00",
   "metadata": {},
   "outputs": [],
   "source": [
    "# Task5: find the average marks if the students name is in terms of string.\n",
    "DS_students = [\n",
    "    {'name': 'Sam',\n",
    " 'age': 37,\n",
    " 'course': ['DS', 'Stat', 'AWS'],\n",
    " 'marks': [80, 95, 69,60]},\n",
    "  \n",
    "    {'name': None,\n",
    " 'age': 37,\n",
    " 'course': ['DS', 'Stat', 'AWS'],\n",
    " 'marks': [80, 95, 69,70]},\n",
    " \n",
    "    {'name': 10,\n",
    " 'age': 37,\n",
    " 'course': ['DS', 'Stat', 'AWS'],\n",
    " 'marks': [80, 95, 69,30]}]"
   ]
  },
  {
   "cell_type": "code",
   "execution_count": 276,
   "id": "a2d1b202",
   "metadata": {},
   "outputs": [
    {
     "data": {
      "text/plain": [
       "[76.0]"
      ]
     },
     "execution_count": 276,
     "metadata": {},
     "output_type": "execute_result"
    }
   ],
   "source": [
    "students_with_string_names = [student for student in DS_students if isinstance(student['name'], str)]\n",
    "\n",
    "# Calculate average marks for each student and overall\n",
    "average_marks = [sum(student['marks']) / len(student['marks']) for student in students_with_string_names]\n",
    "\n",
    "\n",
    "average_marks"
   ]
  },
  {
   "cell_type": "code",
   "execution_count": 277,
   "id": "3338a218",
   "metadata": {},
   "outputs": [
    {
     "data": {
      "text/plain": [
       "[{'name': 'Sam',\n",
       "  'age': 37,\n",
       "  'course': ['DS', 'Stat', 'AWS'],\n",
       "  'marks': [80, 95, 69, 60]}]"
      ]
     },
     "execution_count": 277,
     "metadata": {},
     "output_type": "execute_result"
    }
   ],
   "source": [
    "students_with_string_names"
   ]
  },
  {
   "cell_type": "code",
   "execution_count": 278,
   "id": "ebf9dcfe",
   "metadata": {},
   "outputs": [
    {
     "data": {
      "text/plain": [
       "76.0"
      ]
     },
     "execution_count": 278,
     "metadata": {},
     "output_type": "execute_result"
    }
   ],
   "source": [
    "#second-way\n",
    "first_name=sum(DS_students[0]['marks'])/len(DS_students[0]['marks'])\n",
    "first_name"
   ]
  },
  {
   "cell_type": "markdown",
   "id": "d160360a",
   "metadata": {},
   "source": [
    "### Conditional Statements"
   ]
  },
  {
   "cell_type": "raw",
   "id": "79973b17",
   "metadata": {},
   "source": [
    "--> if condition:\n",
    "    statements\n",
    "--> if condition:\n",
    "    statements\n",
    "    else:\n",
    "        statements\n",
    "--> if condition:\n",
    "    statements\n",
    "    elif condition:\n",
    "        statements\n",
    "    else:\n",
    "        statements        \n",
    "    "
   ]
  },
  {
   "cell_type": "raw",
   "id": "8a59dda3",
   "metadata": {},
   "source": [
    "#comparision operator\n",
    "\n",
    "equal ==\n",
    "not equal !=\n",
    "greater then >\n",
    "greater then equal >=\n",
    "less then <\n",
    "less then equal <="
   ]
  },
  {
   "cell_type": "code",
   "execution_count": 279,
   "id": "633b9c46",
   "metadata": {},
   "outputs": [],
   "source": [
    "a=10\n",
    "b=20"
   ]
  },
  {
   "cell_type": "code",
   "execution_count": 280,
   "id": "a21ec397",
   "metadata": {},
   "outputs": [
    {
     "name": "stdout",
     "output_type": "stream",
     "text": [
      "a is printed\n"
     ]
    }
   ],
   "source": [
    "if a>5:\n",
    "    print(\"a is printed\")\n",
    "    "
   ]
  },
  {
   "cell_type": "code",
   "execution_count": 281,
   "id": "4e407df9",
   "metadata": {},
   "outputs": [
    {
     "name": "stdout",
     "output_type": "stream",
     "text": [
      "30\n"
     ]
    }
   ],
   "source": [
    "if a!=b:\n",
    "    c=a+b\n",
    "    print(c)"
   ]
  },
  {
   "cell_type": "code",
   "execution_count": 282,
   "id": "1ef660b3",
   "metadata": {},
   "outputs": [
    {
     "name": "stdout",
     "output_type": "stream",
     "text": [
      "The a and b is not equal\n"
     ]
    }
   ],
   "source": [
    "if a == b:\n",
    "    c=a+b\n",
    "    print(c)\n",
    "else:\n",
    "    print(\"The a and b is not equal\")\n",
    "    "
   ]
  },
  {
   "cell_type": "code",
   "execution_count": 283,
   "id": "03425467",
   "metadata": {},
   "outputs": [
    {
     "data": {
      "text/plain": [
       "True"
      ]
     },
     "execution_count": 283,
     "metadata": {},
     "output_type": "execute_result"
    }
   ],
   "source": [
    "a<b"
   ]
  },
  {
   "cell_type": "code",
   "execution_count": 284,
   "id": "7a50fd15",
   "metadata": {},
   "outputs": [
    {
     "data": {
      "text/plain": [
       "False"
      ]
     },
     "execution_count": 284,
     "metadata": {},
     "output_type": "execute_result"
    }
   ],
   "source": [
    "a>b"
   ]
  },
  {
   "cell_type": "code",
   "execution_count": 285,
   "id": "5af8f441",
   "metadata": {},
   "outputs": [
    {
     "data": {
      "text/plain": [
       "False"
      ]
     },
     "execution_count": 285,
     "metadata": {},
     "output_type": "execute_result"
    }
   ],
   "source": [
    "a==b"
   ]
  },
  {
   "cell_type": "code",
   "execution_count": 286,
   "id": "50ea029b",
   "metadata": {},
   "outputs": [
    {
     "name": "stdout",
     "output_type": "stream",
     "text": [
      "a is less then b\n"
     ]
    }
   ],
   "source": [
    "if a>b:\n",
    "    print(\"a is greater then b\")\n",
    "elif a==b:\n",
    "    print('a is equal to b')\n",
    "elif a<b:\n",
    "    print(\"a is less then b\")\n",
    "else:\n",
    "    print(\"none of them\")\n",
    "    "
   ]
  },
  {
   "cell_type": "code",
   "execution_count": 287,
   "id": "2df455a2",
   "metadata": {},
   "outputs": [],
   "source": [
    "#logical operator\n",
    "#and,or,not\n"
   ]
  },
  {
   "cell_type": "code",
   "execution_count": 288,
   "id": "e4deb366",
   "metadata": {},
   "outputs": [
    {
     "name": "stdout",
     "output_type": "stream",
     "text": [
      "both are true\n"
     ]
    }
   ],
   "source": [
    "# and\n",
    "if a>5 and b>15:\n",
    "    print(\"both are true\")"
   ]
  },
  {
   "cell_type": "code",
   "execution_count": 289,
   "id": "70a0239a",
   "metadata": {},
   "outputs": [
    {
     "data": {
      "text/plain": [
       "True"
      ]
     },
     "execution_count": 289,
     "metadata": {},
     "output_type": "execute_result"
    }
   ],
   "source": [
    "a>5 and b>15 and a>8"
   ]
  },
  {
   "cell_type": "code",
   "execution_count": 290,
   "id": "bad5ffae",
   "metadata": {},
   "outputs": [
    {
     "name": "stdout",
     "output_type": "stream",
     "text": [
      "if any one condition is true then it is true\n"
     ]
    }
   ],
   "source": [
    "# or\n",
    "if a>5 or b>21:\n",
    "    print(\"if any one condition is true then it is true\")"
   ]
  },
  {
   "cell_type": "code",
   "execution_count": 291,
   "id": "c7dace64",
   "metadata": {},
   "outputs": [
    {
     "name": "stdout",
     "output_type": "stream",
     "text": [
      "if any one condition is true then it is true\n"
     ]
    }
   ],
   "source": [
    "if a>15 or b>18:\n",
    "    print(\"if any one condition is true then it is true\")"
   ]
  },
  {
   "cell_type": "code",
   "execution_count": 292,
   "id": "2260a792",
   "metadata": {},
   "outputs": [
    {
     "data": {
      "text/plain": [
       "True"
      ]
     },
     "execution_count": 292,
     "metadata": {},
     "output_type": "execute_result"
    }
   ],
   "source": [
    "a>5 or b>15 or a>8"
   ]
  },
  {
   "cell_type": "code",
   "execution_count": 293,
   "id": "77c7c8fc",
   "metadata": {},
   "outputs": [],
   "source": [
    "is_apple=True"
   ]
  },
  {
   "cell_type": "code",
   "execution_count": 294,
   "id": "4af8d8d1",
   "metadata": {},
   "outputs": [
    {
     "data": {
      "text/plain": [
       "False"
      ]
     },
     "execution_count": 294,
     "metadata": {},
     "output_type": "execute_result"
    }
   ],
   "source": [
    "not is_apple"
   ]
  },
  {
   "cell_type": "code",
   "execution_count": 295,
   "id": "f1d31aa0",
   "metadata": {},
   "outputs": [
    {
     "name": "stdout",
     "output_type": "stream",
     "text": [
      "Yes\n",
      "a is not equal to b\n"
     ]
    }
   ],
   "source": [
    "if not a==b:\n",
    "    print(\"Yes\")\n",
    "    print(\"a is not equal to b\")"
   ]
  },
  {
   "cell_type": "code",
   "execution_count": 296,
   "id": "6b668705",
   "metadata": {},
   "outputs": [],
   "source": [
    "#ternary operator\n",
    "out= 'a is 5' if a <5 else 'a is not known' "
   ]
  },
  {
   "cell_type": "code",
   "execution_count": 297,
   "id": "e00f25a3",
   "metadata": {},
   "outputs": [
    {
     "data": {
      "text/plain": [
       "'a is not known'"
      ]
     },
     "execution_count": 297,
     "metadata": {},
     "output_type": "execute_result"
    }
   ],
   "source": [
    "out"
   ]
  },
  {
   "cell_type": "code",
   "execution_count": 298,
   "id": "209c019a",
   "metadata": {},
   "outputs": [],
   "source": [
    "result = 5 if a>10 else 6"
   ]
  },
  {
   "cell_type": "code",
   "execution_count": 299,
   "id": "8d0ed0e8",
   "metadata": {},
   "outputs": [
    {
     "data": {
      "text/plain": [
       "6"
      ]
     },
     "execution_count": 299,
     "metadata": {},
     "output_type": "execute_result"
    }
   ],
   "source": [
    "result"
   ]
  },
  {
   "cell_type": "code",
   "execution_count": 300,
   "id": "958222c7",
   "metadata": {},
   "outputs": [
    {
     "data": {
      "text/plain": [
       "[{'name': 'Sam',\n",
       "  'age': 37,\n",
       "  'course': ['DS', 'Stat', 'AWS'],\n",
       "  'marks': [80, 95, 69, 60]},\n",
       " {'name': None,\n",
       "  'age': 37,\n",
       "  'course': ['DS', 'Stat', 'AWS'],\n",
       "  'marks': [80, 95, 69, 70]},\n",
       " {'name': 10,\n",
       "  'age': 37,\n",
       "  'course': ['DS', 'Stat', 'AWS'],\n",
       "  'marks': [80, 95, 69, 30]}]"
      ]
     },
     "execution_count": 300,
     "metadata": {},
     "output_type": "execute_result"
    }
   ],
   "source": [
    "DS_students"
   ]
  },
  {
   "cell_type": "code",
   "execution_count": 301,
   "id": "ead149fc",
   "metadata": {},
   "outputs": [
    {
     "data": {
      "text/plain": [
       "str"
      ]
     },
     "execution_count": 301,
     "metadata": {},
     "output_type": "execute_result"
    }
   ],
   "source": [
    "type(DS_students[0]['name'])"
   ]
  },
  {
   "cell_type": "code",
   "execution_count": 302,
   "id": "c0be9739",
   "metadata": {},
   "outputs": [
    {
     "name": "stdout",
     "output_type": "stream",
     "text": [
      "76.0\n"
     ]
    }
   ],
   "source": [
    "if type(DS_students[0]['name']) is str:\n",
    "    sam_marks=sum(DS_students[0]['marks'])/len(DS_students[0]['marks'])\n",
    "    print(sam_marks)\n",
    "    "
   ]
  },
  {
   "cell_type": "code",
   "execution_count": 303,
   "id": "90de1207",
   "metadata": {},
   "outputs": [],
   "source": [
    "if type(DS_students[1]['name']) is str:\n",
    "    non_marks=sum(DS_students[1]['marks'])/len(DS_students[1]['marks'])\n",
    "    print(non_marks)"
   ]
  },
  {
   "cell_type": "code",
   "execution_count": 304,
   "id": "ef1fd079",
   "metadata": {},
   "outputs": [
    {
     "name": "stdout",
     "output_type": "stream",
     "text": [
      "76.0\n"
     ]
    }
   ],
   "source": [
    "if type(DS_students[0]['name']) is str:\n",
    "    sam_marks=sum(DS_students[0]['marks'])/len(DS_students[0]['marks'])\n",
    "    print(sam_marks)\n",
    "elif DS_students[1]['name']==None:\n",
    "    _marks=sum(DS_students[1]['marks'])/len(DS_students[1]['marks'])\n",
    "    print(_marks) \n",
    "else:\n",
    "    print(\"Th name is not string\")\n",
    "    "
   ]
  },
  {
   "cell_type": "code",
   "execution_count": 305,
   "id": "3e245e5c",
   "metadata": {},
   "outputs": [
    {
     "name": "stdout",
     "output_type": "stream",
     "text": [
      "enter the number:\n"
     ]
    },
    {
     "ename": "ValueError",
     "evalue": "invalid literal for int() with base 10: ''",
     "output_type": "error",
     "traceback": [
      "\u001b[1;31m---------------------------------------------------------------------------\u001b[0m",
      "\u001b[1;31mValueError\u001b[0m                                Traceback (most recent call last)",
      "\u001b[1;32m~\\AppData\\Local\\Temp\\ipykernel_1276\\3768534502.py\u001b[0m in \u001b[0;36m<module>\u001b[1;34m\u001b[0m\n\u001b[0;32m      1\u001b[0m \u001b[1;31m# user input values\u001b[0m\u001b[1;33m\u001b[0m\u001b[1;33m\u001b[0m\u001b[0m\n\u001b[1;32m----> 2\u001b[1;33m \u001b[0mvalue\u001b[0m \u001b[1;33m=\u001b[0m \u001b[0mint\u001b[0m\u001b[1;33m(\u001b[0m\u001b[0minput\u001b[0m\u001b[1;33m(\u001b[0m\u001b[1;34m\"enter the number:\"\u001b[0m\u001b[1;33m)\u001b[0m\u001b[1;33m)\u001b[0m\u001b[1;33m\u001b[0m\u001b[1;33m\u001b[0m\u001b[0m\n\u001b[0m\u001b[0;32m      3\u001b[0m \u001b[1;32mif\u001b[0m \u001b[0mvalue\u001b[0m \u001b[1;33m>\u001b[0m\u001b[1;36m10\u001b[0m\u001b[1;33m:\u001b[0m\u001b[1;33m\u001b[0m\u001b[1;33m\u001b[0m\u001b[0m\n\u001b[0;32m      4\u001b[0m     \u001b[0mprint\u001b[0m\u001b[1;33m(\u001b[0m\u001b[1;34m'the value is more then 10'\u001b[0m\u001b[1;33m)\u001b[0m\u001b[1;33m\u001b[0m\u001b[1;33m\u001b[0m\u001b[0m\n\u001b[0;32m      5\u001b[0m \u001b[1;32melse\u001b[0m\u001b[1;33m:\u001b[0m\u001b[1;33m\u001b[0m\u001b[1;33m\u001b[0m\u001b[0m\n",
      "\u001b[1;31mValueError\u001b[0m: invalid literal for int() with base 10: ''"
     ]
    }
   ],
   "source": [
    "# user input values\n",
    "value = int(input(\"enter the number:\"))\n",
    "if value >10:\n",
    "    print('the value is more then 10')\n",
    "else:\n",
    "    print('the value is less then 10')\n",
    "    "
   ]
  },
  {
   "cell_type": "code",
   "execution_count": 307,
   "id": "e5606faf",
   "metadata": {},
   "outputs": [
    {
     "name": "stdout",
     "output_type": "stream",
     "text": [
      "enter the number:26\n",
      "odd number\n"
     ]
    }
   ],
   "source": [
    "# check wheather it is a even or odd\n",
    "num=int(input(\"enter the number:\"))\n",
    "if num/2==0:\n",
    "    print(\"even number\")\n",
    "else:\n",
    "    print(\"odd number\")"
   ]
  },
  {
   "cell_type": "code",
   "execution_count": 308,
   "id": "e63a424f",
   "metadata": {},
   "outputs": [
    {
     "name": "stdout",
     "output_type": "stream",
     "text": [
      "enter the number:26\n",
      "even number\n"
     ]
    }
   ],
   "source": [
    "num=int(input(\"enter the number:\"))\n",
    "if num/2==1:\n",
    "    print(\"odd number\")\n",
    "else:\n",
    "    print(\"even number\")"
   ]
  },
  {
   "cell_type": "raw",
   "id": "87b89aa8",
   "metadata": {},
   "source": []
  },
  {
   "cell_type": "raw",
   "id": "f3ab2837",
   "metadata": {},
   "source": [
    "Task 6:\n",
    "    the user input for age and gender info, check the age is > 18 and gender M F,\n",
    "    then print out that your are eligible for voting if M,\n",
    "    your are eligible for voting in male booth if F,\n",
    "    your are eligible for voting in female booth if both conditon is false,\n",
    "    not eligible for voting"
   ]
  },
  {
   "cell_type": "code",
   "execution_count": 309,
   "id": "535c702d",
   "metadata": {},
   "outputs": [
    {
     "name": "stdout",
     "output_type": "stream",
     "text": [
      "enter the number:26\n",
      "enter your gender:M\n",
      "you are eligible for voting in male booth \n"
     ]
    }
   ],
   "source": [
    "age =int(input(\"enter the number:\"))\n",
    "gender=input(\"enter your gender:\")\n",
    "if age>18 and gender=='M' and gender=='F':\n",
    "    print(\"you are eligible for voting \")\n",
    "elif age>18 and gender=='M':\n",
    "    print(\"you are eligible for voting in male booth \")\n",
    "elif age>18 and gender=='F':\n",
    "    print(\"you are eligible for voting in female booth \")  \n",
    "else:\n",
    "    print(\"not eligible for voting\")\n",
    "    "
   ]
  },
  {
   "cell_type": "raw",
   "id": "c0cd4b11",
   "metadata": {},
   "source": [
    "Task7:\n",
    "\n",
    "Give the fair price of given age of user eg: \n",
    "    if age is 5 years price wil be 10 rs,\n",
    "    if age is 6-15 price will be 15 rs,\n",
    "    greater than 15 will have 20 price.\n",
    "\n"
   ]
  },
  {
   "cell_type": "code",
   "execution_count": 310,
   "id": "401d90d5",
   "metadata": {},
   "outputs": [
    {
     "name": "stdout",
     "output_type": "stream",
     "text": [
      "enter the age : 36\n",
      "price wil be 20 rs\n"
     ]
    }
   ],
   "source": [
    "age = int(input('enter the age : '))\n",
    "if age==5:\n",
    "    print(\"price wil be 10 rs\")\n",
    "elif age<=6 and age>=15:\n",
    "    print(\"price wil be 15 rs\")\n",
    "elif age>15:\n",
    "    print(\"price wil be 20 rs\")"
   ]
  },
  {
   "cell_type": "raw",
   "id": "06f40882",
   "metadata": {},
   "source": [
    "Task 8:\n",
    "    Create a marksheet with grades of marks.\n",
    "    marks = [30-100]\n",
    "\n",
    "90+-- A grade\n",
    "\n",
    "70+ -- B grade\n",
    "\n",
    "50+ -- C grade\n",
    "\n",
    "30+ D grade\n",
    "\n",
    ">30 fail"
   ]
  },
  {
   "cell_type": "code",
   "execution_count": 311,
   "id": "db86f01e",
   "metadata": {},
   "outputs": [
    {
     "name": "stdout",
     "output_type": "stream",
     "text": [
      "enter a marks29\n",
      "Fail\n"
     ]
    }
   ],
   "source": [
    "marks = int(input(\"enter a marks\"))\n",
    "if marks>90:\n",
    "    print(\"A\")\n",
    "elif marks<=90 and marks>70:\n",
    "    print(\"B\")\n",
    "elif marks<=70 and marks>50:\n",
    "    print(\"C\")\n",
    "elif marks<=50 and marks>30:\n",
    "    print(\"D\")\n",
    "else:\n",
    "    print(\"Fail\")"
   ]
  },
  {
   "cell_type": "raw",
   "id": "92aed16c",
   "metadata": {},
   "source": [
    "# nested if statements\n",
    "if condition:\n",
    "    if condition:\n",
    "        if condition:\n",
    "            statements\n",
    "        else:\n",
    "            statements\n",
    "    else:\n",
    "        ststements\n",
    "else:\n",
    "    statements"
   ]
  },
  {
   "cell_type": "raw",
   "id": "1bcc0a69",
   "metadata": {},
   "source": [
    "age =int(input(\"enter the age:\"))\n",
    "gender =int(input(\"enter the gender:\"))\n",
    "\n",
    "if age>18:\n",
    "    if gender == 'M':\n",
    "        print(\"Eligible for voting\")\n",
    "    elif gender=='F':\n",
    "        print(\"eligible for voting\")\n",
    "    else :\n",
    "        print(\"Not eligible for voting\")\n",
    "else:\n",
    "    print(\"Not eligible for voting\")\n",
    "    \n",
    "        \n",
    "         "
   ]
  },
  {
   "cell_type": "code",
   "execution_count": 312,
   "id": "39bd6cc7",
   "metadata": {},
   "outputs": [
    {
     "name": "stdout",
     "output_type": "stream",
     "text": [
      "marks and course are not equal\n"
     ]
    }
   ],
   "source": [
    "if type(data)==dict:\n",
    "    if  len(data['course'])==  len(data['marks']):\n",
    "        print(\"avg:\",sum(data['marks'])/len(data['marks']))\n",
    "    else:\n",
    "        print(\"marks and course are not equal\")\n",
    "else:\n",
    "    print(\"marks and course are not equal\")"
   ]
  },
  {
   "cell_type": "code",
   "execution_count": 313,
   "id": "0f205ca2",
   "metadata": {},
   "outputs": [
    {
     "ename": "SyntaxError",
     "evalue": "invalid syntax (3723902494.py, line 2)",
     "output_type": "error",
     "traceback": [
      "\u001b[1;36m  File \u001b[1;32m\"C:\\Users\\Saurabh\\AppData\\Local\\Temp\\ipykernel_1276\\3723902494.py\"\u001b[1;36m, line \u001b[1;32m2\u001b[0m\n\u001b[1;33m    --> for loop\u001b[0m\n\u001b[1;37m     ^\u001b[0m\n\u001b[1;31mSyntaxError\u001b[0m\u001b[1;31m:\u001b[0m invalid syntax\n"
     ]
    }
   ],
   "source": [
    "#looping statements\n",
    "--> for loop\n",
    "--> while loop\n",
    "\n",
    "#syntax for loop\n",
    "\n",
    "for i in data:\n",
    "    statements\n",
    "    \n",
    "    \n"
   ]
  },
  {
   "cell_type": "code",
   "execution_count": null,
   "id": "747e9b87",
   "metadata": {},
   "outputs": [],
   "source": []
  },
  {
   "cell_type": "code",
   "execution_count": 314,
   "id": "0b1e9a3d",
   "metadata": {},
   "outputs": [
    {
     "ename": "NameError",
     "evalue": "name 'start' is not defined",
     "output_type": "error",
     "traceback": [
      "\u001b[1;31m---------------------------------------------------------------------------\u001b[0m",
      "\u001b[1;31mNameError\u001b[0m                                 Traceback (most recent call last)",
      "\u001b[1;32m~\\AppData\\Local\\Temp\\ipykernel_1276\\2810198658.py\u001b[0m in \u001b[0;36m<module>\u001b[1;34m\u001b[0m\n\u001b[0;32m      1\u001b[0m \u001b[1;31m# range() function\u001b[0m\u001b[1;33m\u001b[0m\u001b[1;33m\u001b[0m\u001b[0m\n\u001b[1;32m----> 2\u001b[1;33m \u001b[0mrange\u001b[0m\u001b[1;33m(\u001b[0m\u001b[0mstart\u001b[0m\u001b[1;33m,\u001b[0m\u001b[0mend\u001b[0m\u001b[1;33m,\u001b[0m\u001b[0mstep\u001b[0m\u001b[1;33m)\u001b[0m\u001b[1;33m\u001b[0m\u001b[1;33m\u001b[0m\u001b[0m\n\u001b[0m",
      "\u001b[1;31mNameError\u001b[0m: name 'start' is not defined"
     ]
    }
   ],
   "source": [
    "# range() function\n",
    "range(start,end,step)"
   ]
  },
  {
   "cell_type": "code",
   "execution_count": 315,
   "id": "2a62d8a2",
   "metadata": {},
   "outputs": [
    {
     "name": "stdout",
     "output_type": "stream",
     "text": [
      "2\n",
      "4\n",
      "6\n"
     ]
    }
   ],
   "source": [
    "print(2*1)\n",
    "print(2*2)\n",
    "print(2*3)"
   ]
  },
  {
   "cell_type": "code",
   "execution_count": 316,
   "id": "d38fbd25",
   "metadata": {},
   "outputs": [
    {
     "name": "stdout",
     "output_type": "stream",
     "text": [
      "2\n",
      "4\n",
      "6\n",
      "8\n",
      "10\n",
      "12\n",
      "14\n",
      "16\n",
      "18\n",
      "20\n"
     ]
    }
   ],
   "source": [
    "for i in range(1,11):\n",
    "    print(i*2)"
   ]
  },
  {
   "cell_type": "code",
   "execution_count": 317,
   "id": "f15cd3f0",
   "metadata": {},
   "outputs": [
    {
     "name": "stdout",
     "output_type": "stream",
     "text": [
      "1\n",
      "2\n",
      "3\n",
      "4\n",
      "5\n",
      "6\n",
      "7\n",
      "8\n",
      "9\n",
      "10\n"
     ]
    }
   ],
   "source": [
    "for i in range(1,11):\n",
    "    print(i)"
   ]
  },
  {
   "cell_type": "code",
   "execution_count": null,
   "id": "2525e740",
   "metadata": {},
   "outputs": [],
   "source": []
  },
  {
   "cell_type": "code",
   "execution_count": 318,
   "id": "ac2619b3",
   "metadata": {},
   "outputs": [
    {
     "name": "stdout",
     "output_type": "stream",
     "text": [
      "1\n",
      "3\n",
      "5\n",
      "7\n",
      "9\n"
     ]
    }
   ],
   "source": [
    "for i in range(1,11,2):\n",
    "    print(i)"
   ]
  },
  {
   "cell_type": "code",
   "execution_count": 319,
   "id": "7dbc28a9",
   "metadata": {},
   "outputs": [],
   "source": [
    "string = \"datascience\"\n",
    "List = [10,20,30,40,50]\n",
    "Tuple = (60,70,80,90,100)\n",
    "SET = {1,5,6,8,9,1,2,6,5,9,10}"
   ]
  },
  {
   "cell_type": "code",
   "execution_count": 320,
   "id": "5975fb7c",
   "metadata": {},
   "outputs": [
    {
     "name": "stdout",
     "output_type": "stream",
     "text": [
      "d\n",
      "a\n",
      "t\n",
      "a\n",
      "s\n",
      "c\n",
      "i\n",
      "e\n",
      "n\n",
      "c\n",
      "e\n"
     ]
    }
   ],
   "source": [
    "for i in string:\n",
    "    print(i)"
   ]
  },
  {
   "cell_type": "code",
   "execution_count": 321,
   "id": "423e2eac",
   "metadata": {},
   "outputs": [
    {
     "name": "stdout",
     "output_type": "stream",
     "text": [
      "D\n",
      "A\n",
      "T\n",
      "A\n",
      "S\n",
      "C\n",
      "I\n",
      "E\n",
      "N\n",
      "C\n",
      "E\n"
     ]
    }
   ],
   "source": [
    "for i in string:\n",
    "    #print(type(i))\n",
    "    print(i.upper())"
   ]
  },
  {
   "cell_type": "code",
   "execution_count": 322,
   "id": "4f97f396",
   "metadata": {},
   "outputs": [
    {
     "name": "stdout",
     "output_type": "stream",
     "text": [
      "12\n",
      "22\n",
      "32\n",
      "42\n",
      "52\n"
     ]
    }
   ],
   "source": [
    "for i in List:\n",
    "    print(i+2)"
   ]
  },
  {
   "cell_type": "code",
   "execution_count": 323,
   "id": "84958d67",
   "metadata": {},
   "outputs": [
    {
     "name": "stdout",
     "output_type": "stream",
     "text": [
      "100\n",
      "400\n",
      "900\n",
      "1600\n",
      "2500\n"
     ]
    }
   ],
   "source": [
    "for i in List:\n",
    "    print(i**2)"
   ]
  },
  {
   "cell_type": "code",
   "execution_count": 324,
   "id": "4659211c",
   "metadata": {},
   "outputs": [
    {
     "name": "stdout",
     "output_type": "stream",
     "text": [
      "60\n",
      "70\n",
      "80\n",
      "90\n",
      "100\n"
     ]
    }
   ],
   "source": [
    "for i in Tuple:\n",
    "    print(i)"
   ]
  },
  {
   "cell_type": "code",
   "execution_count": 325,
   "id": "0c09bd4e",
   "metadata": {},
   "outputs": [
    {
     "name": "stdout",
     "output_type": "stream",
     "text": [
      "30.0\n",
      "35.0\n",
      "40.0\n",
      "45.0\n",
      "50.0\n"
     ]
    }
   ],
   "source": [
    "for i in Tuple:\n",
    "    print(i/2)"
   ]
  },
  {
   "cell_type": "code",
   "execution_count": 326,
   "id": "4af18a65",
   "metadata": {},
   "outputs": [
    {
     "name": "stdout",
     "output_type": "stream",
     "text": [
      "1\n",
      "2\n",
      "5\n",
      "6\n",
      "8\n",
      "9\n",
      "10\n"
     ]
    }
   ],
   "source": [
    "for i in SET:\n",
    "    print(i)"
   ]
  },
  {
   "cell_type": "code",
   "execution_count": 327,
   "id": "423474c1",
   "metadata": {},
   "outputs": [
    {
     "name": "stdout",
     "output_type": "stream",
     "text": [
      "e\n",
      "d\n",
      "a\n",
      "c\n"
     ]
    }
   ],
   "source": [
    "alpha = {'a','c','a','d','e'}\n",
    "for j in alpha:\n",
    "    print(j)"
   ]
  },
  {
   "cell_type": "code",
   "execution_count": 328,
   "id": "37d2741d",
   "metadata": {},
   "outputs": [],
   "source": [
    "Data ={'name': 'Sam',\n",
    " 'age': 37,\n",
    " 'course': ['DS', 'Stat', 'AWS'],\n",
    " 'marks': [80, 95, 69,60]}"
   ]
  },
  {
   "cell_type": "code",
   "execution_count": 329,
   "id": "4c13e2ab",
   "metadata": {},
   "outputs": [
    {
     "name": "stdout",
     "output_type": "stream",
     "text": [
      "name\n",
      "age\n",
      "course\n",
      "marks\n"
     ]
    }
   ],
   "source": [
    "for i in Data:\n",
    "    print(i)"
   ]
  },
  {
   "cell_type": "code",
   "execution_count": 330,
   "id": "4d985453",
   "metadata": {},
   "outputs": [
    {
     "name": "stdout",
     "output_type": "stream",
     "text": [
      "Sam\n",
      "37\n",
      "['DS', 'Stat', 'AWS']\n",
      "[80, 95, 69, 60]\n"
     ]
    }
   ],
   "source": [
    "for i in Data.values():\n",
    "    print(i)"
   ]
  },
  {
   "cell_type": "code",
   "execution_count": 331,
   "id": "c4db0930",
   "metadata": {},
   "outputs": [
    {
     "name": "stdout",
     "output_type": "stream",
     "text": [
      "('name', 'Sam')\n",
      "('age', 37)\n",
      "('course', ['DS', 'Stat', 'AWS'])\n",
      "('marks', [80, 95, 69, 60])\n"
     ]
    }
   ],
   "source": [
    "for i in Data.items():\n",
    "    print(i)"
   ]
  },
  {
   "cell_type": "code",
   "execution_count": 332,
   "id": "01506fe1",
   "metadata": {},
   "outputs": [
    {
     "name": "stdout",
     "output_type": "stream",
     "text": [
      "name\n",
      "age\n",
      "course\n",
      "marks\n"
     ]
    }
   ],
   "source": [
    "for i in Data.keys():\n",
    "    print(i)"
   ]
  },
  {
   "cell_type": "code",
   "execution_count": 333,
   "id": "78edd200",
   "metadata": {},
   "outputs": [
    {
     "ename": "NameError",
     "evalue": "name 'heights' is not defined",
     "output_type": "error",
     "traceback": [
      "\u001b[1;31m---------------------------------------------------------------------------\u001b[0m",
      "\u001b[1;31mNameError\u001b[0m                                 Traceback (most recent call last)",
      "\u001b[1;32m~\\AppData\\Local\\Temp\\ipykernel_1276\\265424105.py\u001b[0m in \u001b[0;36m<module>\u001b[1;34m\u001b[0m\n\u001b[1;32m----> 1\u001b[1;33m \u001b[0mheights\u001b[0m\u001b[1;33m\u001b[0m\u001b[1;33m\u001b[0m\u001b[0m\n\u001b[0m",
      "\u001b[1;31mNameError\u001b[0m: name 'heights' is not defined"
     ]
    }
   ],
   "source": [
    "heights"
   ]
  },
  {
   "cell_type": "code",
   "execution_count": 334,
   "id": "c95aa024",
   "metadata": {},
   "outputs": [
    {
     "data": {
      "text/plain": [
       "[[5.5, 5.6, 5.9, 5.8, 5.7, 5.9],\n",
       " [6.5, 6.8, 7.1, 6.3, 6.4, 6.6, 6.4],\n",
       " [7.1, 7.8, 7.5, 6.9, 8.1, 7.5, 7.9]]"
      ]
     },
     "execution_count": 334,
     "metadata": {},
     "output_type": "execute_result"
    }
   ],
   "source": [
    "students_heights"
   ]
  },
  {
   "cell_type": "code",
   "execution_count": 335,
   "id": "8e76f602",
   "metadata": {},
   "outputs": [
    {
     "name": "stdout",
     "output_type": "stream",
     "text": [
      "5.73\n",
      "6.59\n",
      "7.54\n"
     ]
    }
   ],
   "source": [
    "for i in students_heights:\n",
    "    avg = round(sum(i)/len(i),2)\n",
    "    print(avg)"
   ]
  },
  {
   "cell_type": "code",
   "execution_count": 336,
   "id": "938cf85e",
   "metadata": {},
   "outputs": [
    {
     "name": "stdout",
     "output_type": "stream",
     "text": [
      "5.5\n",
      "6.3\n",
      "6.9\n"
     ]
    }
   ],
   "source": [
    "for i in students_heights:\n",
    "    minimum= min(i)\n",
    "    print(minimum)"
   ]
  },
  {
   "cell_type": "code",
   "execution_count": 337,
   "id": "f71c10de",
   "metadata": {},
   "outputs": [
    {
     "data": {
      "text/plain": [
       "[{'name': 'Sam',\n",
       "  'age': 37,\n",
       "  'course': ['DS', 'Stat', 'AWS'],\n",
       "  'marks': [80, 95, 69, 60]},\n",
       " {'name': None,\n",
       "  'age': 37,\n",
       "  'course': ['DS', 'Stat', 'AWS'],\n",
       "  'marks': [80, 95, 69, 70]},\n",
       " {'name': 10,\n",
       "  'age': 37,\n",
       "  'course': ['DS', 'Stat', 'AWS'],\n",
       "  'marks': [80, 95, 69, 30]}]"
      ]
     },
     "execution_count": 337,
     "metadata": {},
     "output_type": "execute_result"
    }
   ],
   "source": [
    "DS_students"
   ]
  },
  {
   "cell_type": "code",
   "execution_count": 338,
   "id": "8852e398",
   "metadata": {},
   "outputs": [],
   "source": [
    "students_height = ['Prajwal','juhaib','aryan','ram','pyarellall','binit','venkatesh','tej','rajshri','tanuja','akankshya','sandhya']\n"
   ]
  },
  {
   "cell_type": "code",
   "execution_count": 339,
   "id": "351df5a1",
   "metadata": {},
   "outputs": [
    {
     "data": {
      "text/plain": [
       "12"
      ]
     },
     "execution_count": 339,
     "metadata": {},
     "output_type": "execute_result"
    }
   ],
   "source": [
    "len(students_height)"
   ]
  },
  {
   "cell_type": "code",
   "execution_count": 340,
   "id": "3f4b2f97",
   "metadata": {},
   "outputs": [
    {
     "data": {
      "text/plain": [
       "2"
      ]
     },
     "execution_count": 340,
     "metadata": {},
     "output_type": "execute_result"
    }
   ],
   "source": [
    "a=1\n",
    "a+1\n"
   ]
  },
  {
   "cell_type": "code",
   "execution_count": 341,
   "id": "e2e0e860",
   "metadata": {},
   "outputs": [
    {
     "name": "stdout",
     "output_type": "stream",
     "text": [
      "12\n"
     ]
    }
   ],
   "source": [
    "length = 0\n",
    "for i in students_height:\n",
    "    length=length+1\n",
    "print(length)\n",
    "    "
   ]
  },
  {
   "cell_type": "code",
   "execution_count": 342,
   "id": "3c005798",
   "metadata": {},
   "outputs": [
    {
     "name": "stdout",
     "output_type": "stream",
     "text": [
      "12\n"
     ]
    }
   ],
   "source": [
    "length = 0\n",
    "for i in students_height:\n",
    "    length+=1\n",
    "print(length)"
   ]
  },
  {
   "cell_type": "code",
   "execution_count": 343,
   "id": "dbba9ff1",
   "metadata": {},
   "outputs": [
    {
     "name": "stdout",
     "output_type": "stream",
     "text": [
      "6\n"
     ]
    }
   ],
   "source": [
    "ht =[5.5, 5.6, 5.9, 5.8, 5.7, 5.9]\n",
    "l=0\n",
    "for i in ht:\n",
    "    l+=1\n",
    "print(l)    "
   ]
  },
  {
   "cell_type": "code",
   "execution_count": 344,
   "id": "6c9de41a",
   "metadata": {},
   "outputs": [
    {
     "data": {
      "text/plain": [
       "34.4"
      ]
     },
     "execution_count": 344,
     "metadata": {},
     "output_type": "execute_result"
    }
   ],
   "source": [
    "sum(ht)"
   ]
  },
  {
   "cell_type": "code",
   "execution_count": 345,
   "id": "ce384eba",
   "metadata": {},
   "outputs": [
    {
     "name": "stdout",
     "output_type": "stream",
     "text": [
      "34.4\n"
     ]
    }
   ],
   "source": [
    "l=0\n",
    "for i in ht:\n",
    "    l +=i\n",
    "print(l)    "
   ]
  },
  {
   "cell_type": "code",
   "execution_count": 346,
   "id": "909c5282",
   "metadata": {},
   "outputs": [
    {
     "name": "stdout",
     "output_type": "stream",
     "text": [
      "34.4\n"
     ]
    }
   ],
   "source": [
    "sum=0\n",
    "for i in ht:\n",
    "    sum+=i\n",
    "print(sum)    "
   ]
  },
  {
   "cell_type": "code",
   "execution_count": 347,
   "id": "b89e2f0c",
   "metadata": {},
   "outputs": [
    {
     "name": "stdout",
     "output_type": "stream",
     "text": [
      "5.5\n",
      "5.6\n",
      "5.9\n"
     ]
    }
   ],
   "source": [
    "#break\n",
    "ht =[5.5, 5.6, 5.9,'a', '5.8', 5.7, 5.9]\n",
    "\n",
    "for i in ht:\n",
    "    if i=='a':\n",
    "        break\n",
    "    print(i)"
   ]
  },
  {
   "cell_type": "code",
   "execution_count": 348,
   "id": "a4cdd1b9",
   "metadata": {},
   "outputs": [
    {
     "name": "stdout",
     "output_type": "stream",
     "text": [
      "5.5\n",
      "5.6\n",
      "5.9\n",
      "5.8\n",
      "5.7\n",
      "5.9\n"
     ]
    }
   ],
   "source": [
    "#continue\n",
    "ht =[5.5, 5.6, 5.9,'a', '5.8', 5.7, 5.9]\n",
    "\n",
    "for i in ht:\n",
    "    if i=='a':\n",
    "        continue\n",
    "    print(i)"
   ]
  },
  {
   "cell_type": "code",
   "execution_count": 349,
   "id": "22e9849a",
   "metadata": {},
   "outputs": [
    {
     "name": "stdout",
     "output_type": "stream",
     "text": [
      "5.5\n",
      "5.6\n",
      "5.9\n",
      "5.7\n",
      "5.9\n"
     ]
    }
   ],
   "source": [
    "ht =[5.5, 5.6, 5.9,'a', '5.8', 5.7, 5.9]\n",
    "\n",
    "for i in ht:\n",
    "    if type(i)==str:\n",
    "        continue\n",
    "    print(i)"
   ]
  },
  {
   "cell_type": "code",
   "execution_count": 350,
   "id": "d28f9ae3",
   "metadata": {},
   "outputs": [
    {
     "name": "stdout",
     "output_type": "stream",
     "text": [
      "5.5\n",
      "5.6\n",
      "5.9\n",
      "a\n",
      "5.8\n",
      "5.7\n",
      "5.9\n"
     ]
    }
   ],
   "source": [
    "#pass\n",
    "for i in ht:\n",
    "    if type(i)==str:\n",
    "        pass #don't want to change right now \n",
    "    print(i)"
   ]
  },
  {
   "cell_type": "code",
   "execution_count": 351,
   "id": "110621da",
   "metadata": {},
   "outputs": [
    {
     "name": "stdout",
     "output_type": "stream",
     "text": [
      "0\n",
      "1\n",
      "2\n",
      "3\n",
      "4\n",
      "5\n",
      "6\n"
     ]
    }
   ],
   "source": [
    "# using range function\n",
    "\n",
    "for i in range(0,len(ht)):\n",
    "    print(i)"
   ]
  },
  {
   "cell_type": "code",
   "execution_count": 352,
   "id": "901817da",
   "metadata": {},
   "outputs": [
    {
     "name": "stdout",
     "output_type": "stream",
     "text": [
      "5.5\n",
      "5.6\n",
      "5.9\n",
      "a\n",
      "5.8\n",
      "5.7\n",
      "5.9\n"
     ]
    }
   ],
   "source": [
    "for i in range(0,len(ht)):\n",
    "    print(ht[i])\n",
    "    "
   ]
  },
  {
   "cell_type": "code",
   "execution_count": 353,
   "id": "7a340cb4",
   "metadata": {},
   "outputs": [
    {
     "name": "stdout",
     "output_type": "stream",
     "text": [
      "5\n",
      "4\n",
      "3\n",
      "2\n",
      "1\n"
     ]
    }
   ],
   "source": [
    "for i in range(5,0,-1):\n",
    "    print(i)"
   ]
  },
  {
   "cell_type": "code",
   "execution_count": 354,
   "id": "ab976fb9",
   "metadata": {},
   "outputs": [
    {
     "name": "stdout",
     "output_type": "stream",
     "text": [
      "5.9\n",
      "5.7\n",
      "5.8\n",
      "a\n",
      "5.9\n",
      "5.6\n",
      "5.5\n"
     ]
    }
   ],
   "source": [
    "for i in range(len(ht)-1,-1,-1):\n",
    "    print(ht[i])"
   ]
  },
  {
   "cell_type": "code",
   "execution_count": 355,
   "id": "98ada314",
   "metadata": {},
   "outputs": [
    {
     "name": "stdout",
     "output_type": "stream",
     "text": [
      "10 2\n",
      "20 2\n",
      "30 2\n",
      "40 2\n",
      "50 3\n",
      "10 2\n",
      "20 2\n",
      "30 2\n",
      "50 3\n",
      "60 2\n",
      "40 2\n",
      "50 3\n",
      "60 2\n",
      "70 1\n"
     ]
    }
   ],
   "source": [
    "List=[10, 20, 30, 40, 50,10,20,30,50,60,40,50,60,70]\n",
    "\n",
    "for i in List:\n",
    "    d=List.count(i)\n",
    "    print(i,d)    "
   ]
  },
  {
   "cell_type": "code",
   "execution_count": 356,
   "id": "8adb6fb2",
   "metadata": {},
   "outputs": [
    {
     "name": "stdout",
     "output_type": "stream",
     "text": [
      "40\n",
      "10\n",
      "50\n",
      "20\n",
      "60\n",
      "30\n"
     ]
    }
   ],
   "source": [
    "#finding the duplicates values.\n",
    "for i in set(List):\n",
    "    d=List.count(i)\n",
    "    if d>1:\n",
    "        print(i)\n",
    "       "
   ]
  },
  {
   "cell_type": "code",
   "execution_count": 357,
   "id": "a1be1337",
   "metadata": {},
   "outputs": [],
   "source": [
    "List=[[10, 20, '30', 40, 50],[10,20,'30',50,60],[40,50,'60',70,10],[15,20,30,'40',50]]"
   ]
  },
  {
   "cell_type": "code",
   "execution_count": 358,
   "id": "0b27db5c",
   "metadata": {},
   "outputs": [
    {
     "data": {
      "text/plain": [
       "4"
      ]
     },
     "execution_count": 358,
     "metadata": {},
     "output_type": "execute_result"
    }
   ],
   "source": [
    "len(List)"
   ]
  },
  {
   "cell_type": "code",
   "execution_count": 359,
   "id": "eb50d22d",
   "metadata": {},
   "outputs": [
    {
     "name": "stdout",
     "output_type": "stream",
     "text": [
      "0\n",
      "0\n",
      "0\n",
      "0\n"
     ]
    }
   ],
   "source": [
    "Total = 0\n",
    "for i in List:\n",
    "    if type(i)== str:\n",
    "        continue\n",
    "        Total += i\n",
    "    \n",
    "    print(Total)"
   ]
  },
  {
   "cell_type": "code",
   "execution_count": 360,
   "id": "8986bcf0",
   "metadata": {},
   "outputs": [],
   "source": [
    "#nested loop"
   ]
  },
  {
   "cell_type": "code",
   "execution_count": 361,
   "id": "adc05a0f",
   "metadata": {},
   "outputs": [
    {
     "name": "stdout",
     "output_type": "stream",
     "text": [
      "0\n",
      "##1\n",
      "##2\n",
      "##3\n",
      "##4\n",
      "##"
     ]
    }
   ],
   "source": [
    "for i in range(5):\n",
    "        print(i)\n",
    "        for j in range(2):\n",
    "            print(\"#\",end=\"\")"
   ]
  },
  {
   "cell_type": "code",
   "execution_count": 362,
   "id": "21f3159e",
   "metadata": {},
   "outputs": [
    {
     "name": "stdout",
     "output_type": "stream",
     "text": [
      "0##1##2##3##4##"
     ]
    }
   ],
   "source": [
    "for i in range(5):\n",
    "        print(i,end=\"\")\n",
    "        for j in range(2):\n",
    "            print(\"#\",end=\"\")"
   ]
  },
  {
   "cell_type": "code",
   "execution_count": 363,
   "id": "3421ceff",
   "metadata": {},
   "outputs": [
    {
     "name": "stdout",
     "output_type": "stream",
     "text": [
      "0##\n",
      "1##\n",
      "2##\n",
      "3##\n",
      "4##\n"
     ]
    }
   ],
   "source": [
    "for i in range(5):\n",
    "        print(i,end='')\n",
    "        for j in range(2):\n",
    "            print(\"#\",end=\"\")\n",
    "        print()    "
   ]
  },
  {
   "cell_type": "code",
   "execution_count": 364,
   "id": "dacef3d2",
   "metadata": {},
   "outputs": [
    {
     "name": "stdout",
     "output_type": "stream",
     "text": [
      "\n",
      "*\n",
      "**\n",
      "***\n",
      "****\n"
     ]
    }
   ],
   "source": [
    "for i in range(5):\n",
    "    print(\"*\"*i)"
   ]
  },
  {
   "cell_type": "code",
   "execution_count": 365,
   "id": "ec943de9",
   "metadata": {},
   "outputs": [
    {
     "name": "stdout",
     "output_type": "stream",
     "text": [
      "0 \n",
      "0 1 \n",
      "0 1 2 \n",
      "0 1 2 3 \n",
      "0 1 2 3 4 \n",
      "0 1 2 3 4 5 \n"
     ]
    }
   ],
   "source": [
    "for i in range(6):\n",
    "    for j in range(i+1):\n",
    "        print(j,end=' ')\n",
    "    print()    "
   ]
  },
  {
   "cell_type": "code",
   "execution_count": 366,
   "id": "66a77d2e",
   "metadata": {},
   "outputs": [
    {
     "name": "stdout",
     "output_type": "stream",
     "text": [
      "1 \n",
      "1 2 \n",
      "1 2 3 \n",
      "1 2 3 4 \n",
      "1 2 3 4 5 \n"
     ]
    }
   ],
   "source": [
    "for i in range(1,6):\n",
    "    for j in range(i):\n",
    "        print(j+1,end=' ')\n",
    "    print() "
   ]
  },
  {
   "cell_type": "code",
   "execution_count": 367,
   "id": "57f1509d",
   "metadata": {},
   "outputs": [
    {
     "name": "stdout",
     "output_type": "stream",
     "text": [
      "1 \n",
      "2 2 \n",
      "3 3 3 \n",
      "4 4 4 4 \n",
      "5 5 5 5 5 \n"
     ]
    }
   ],
   "source": [
    "for i in range(1,6):\n",
    "    for j in range(i):\n",
    "        print(i,end=' ')\n",
    "    print() "
   ]
  },
  {
   "cell_type": "code",
   "execution_count": 368,
   "id": "436056e3",
   "metadata": {},
   "outputs": [
    {
     "name": "stdout",
     "output_type": "stream",
     "text": [
      "1 \n",
      "2 2 \n",
      "3 3 3 \n",
      "4 4 4 4 \n",
      "5 5 5 5 5 \n",
      "4 4 4 4 \n",
      "3 3 3 \n",
      "2 2 \n",
      "1 \n"
     ]
    }
   ],
   "source": [
    "for i in range(1,6):\n",
    "    for j in range(i):\n",
    "        print(i,end=' ')\n",
    "    print() \n",
    "for i in range(4,0,-1):\n",
    "    for j in range(i):\n",
    "        print(i,end=' ')\n",
    "    print()     "
   ]
  },
  {
   "cell_type": "code",
   "execution_count": 369,
   "id": "57ab4640",
   "metadata": {},
   "outputs": [
    {
     "name": "stdout",
     "output_type": "stream",
     "text": [
      "6 6 6 6 6 6 \n",
      "5 5 5 5 5 \n",
      "4 4 4 4 \n",
      "3 3 3 \n",
      "2 2 \n",
      "1 \n"
     ]
    }
   ],
   "source": [
    "for i in range(6,0,-1):\n",
    "    for j in range(i):\n",
    "        print(i,end=' ')\n",
    "    print() "
   ]
  },
  {
   "cell_type": "code",
   "execution_count": 370,
   "id": "5a9cb02d",
   "metadata": {},
   "outputs": [
    {
     "name": "stdout",
     "output_type": "stream",
     "text": [
      "1 \n",
      "2 2 \n",
      "3 3 3 \n",
      "4 4 4 4 \n",
      "5 5 5 5 5 \n"
     ]
    }
   ],
   "source": [
    "for i in range(1,6):\n",
    "    for j in range(i):\n",
    "        print(i,end=' ')\n",
    "    print()"
   ]
  },
  {
   "cell_type": "code",
   "execution_count": 371,
   "id": "4d5b31ee",
   "metadata": {},
   "outputs": [
    {
     "name": "stdout",
     "output_type": "stream",
     "text": [
      "6 6 6 6 6 6 \n",
      "5 5 5 5 5 \n",
      "4 4 4 4 \n",
      "3 3 3 \n",
      "2 2 \n",
      "1 \n"
     ]
    }
   ],
   "source": [
    "for i in range(6,0,-1):\n",
    "    for j in range(i):\n",
    "        print(i,end=' ')\n",
    "    print() "
   ]
  },
  {
   "cell_type": "code",
   "execution_count": 372,
   "id": "079d4bd1",
   "metadata": {},
   "outputs": [
    {
     "name": "stdout",
     "output_type": "stream",
     "text": [
      "\n",
      "  \n",
      "    \n",
      "      \n",
      "        \n"
     ]
    }
   ],
   "source": [
    "#pyramid\n",
    "for i in range(5):\n",
    "    for j in range(i):\n",
    "        print(\" \",end=' ')\n",
    "    print() "
   ]
  },
  {
   "cell_type": "code",
   "execution_count": 373,
   "id": "ec7118f5",
   "metadata": {},
   "outputs": [
    {
     "name": "stdout",
     "output_type": "stream",
     "text": [
      "     * \n",
      "    * * \n",
      "   * * * \n",
      "  * * * * \n",
      " * * * * * \n"
     ]
    }
   ],
   "source": [
    "#pyramid\n",
    "for i in range(5):\n",
    "    for b in range(5-i):\n",
    "        print(' ',end='')\n",
    "    for j in range(i+1):\n",
    "        print(\"*\",end=\" \")\n",
    "    print()    \n",
    "    \n",
    "    "
   ]
  },
  {
   "cell_type": "code",
   "execution_count": 374,
   "id": "1350976e",
   "metadata": {},
   "outputs": [
    {
     "name": "stdout",
     "output_type": "stream",
     "text": [
      "* * * * * \n",
      " * * * * \n",
      "  * * * \n",
      "   * * \n",
      "    * \n"
     ]
    }
   ],
   "source": [
    "for i in range(5,0,-1):\n",
    "    for b in range(5-i):\n",
    "        print(' ',end='')\n",
    "    for j in range(i):\n",
    "        print(\"*\",end=\" \")\n",
    "    print()"
   ]
  },
  {
   "cell_type": "code",
   "execution_count": 375,
   "id": "717595b1",
   "metadata": {},
   "outputs": [
    {
     "name": "stdout",
     "output_type": "stream",
     "text": [
      "     * \n",
      "    * * \n",
      "   * * * \n",
      "  * * * * \n",
      " * * * * * \n",
      "* * * * * * \n",
      " * * * * * \n",
      "  * * * * \n",
      "   * * * \n",
      "    * * \n",
      "     * \n"
     ]
    }
   ],
   "source": [
    "for i in range(5):\n",
    "    for b in range(5-i):\n",
    "        print(' ',end='')\n",
    "    for j in range(i+1):\n",
    "        print(\"*\",end=\" \")\n",
    "    print()\n",
    "    \n",
    "for i in range(5,-1,-1):\n",
    "    for b in range(5-i):\n",
    "        print(' ',end='')\n",
    "    for j in range(i+1):\n",
    "        print(\"*\",end=\" \")\n",
    "    print()    "
   ]
  },
  {
   "cell_type": "code",
   "execution_count": 376,
   "id": "e0707ec0",
   "metadata": {},
   "outputs": [],
   "source": [
    "#while looping\n"
   ]
  },
  {
   "cell_type": "code",
   "execution_count": 377,
   "id": "f3c46234",
   "metadata": {},
   "outputs": [
    {
     "name": "stdout",
     "output_type": "stream",
     "text": [
      "0\n",
      "1\n",
      "2\n",
      "3\n",
      "4\n",
      "5\n",
      "6\n"
     ]
    }
   ],
   "source": [
    "i=0\n",
    "while i<=6:\n",
    "    print(i)\n",
    "    i+=1"
   ]
  },
  {
   "cell_type": "code",
   "execution_count": 378,
   "id": "863e4c9d",
   "metadata": {},
   "outputs": [
    {
     "name": "stdout",
     "output_type": "stream",
     "text": [
      "5\n",
      "4\n",
      "3\n",
      "2\n",
      "1\n",
      "0\n"
     ]
    }
   ],
   "source": [
    "i=5\n",
    "while i>=0:\n",
    "    print(i)\n",
    "    i-=1"
   ]
  },
  {
   "cell_type": "code",
   "execution_count": 379,
   "id": "510b7fc3",
   "metadata": {},
   "outputs": [
    {
     "name": "stdout",
     "output_type": "stream",
     "text": [
      "0\n",
      "1\n",
      "2\n",
      "3\n",
      "4\n",
      "5\n",
      "6\n"
     ]
    }
   ],
   "source": [
    "#break\n",
    "i=0\n",
    "while i<=10:\n",
    "    if i==7:\n",
    "        break\n",
    "    print(i)\n",
    "    i+=1"
   ]
  },
  {
   "cell_type": "raw",
   "id": "79988bf5",
   "metadata": {},
   "source": [
    "#continue\n",
    "i=0\n",
    "while i<=10:\n",
    "    if i==7:\n",
    "        print(\"\")\n",
    "        continue\n",
    "    print(i)\n",
    "    i+=1"
   ]
  },
  {
   "cell_type": "code",
   "execution_count": 380,
   "id": "51deed7c",
   "metadata": {},
   "outputs": [
    {
     "name": "stdout",
     "output_type": "stream",
     "text": [
      "\n",
      "1 \n",
      "2 2 \n",
      "3 3 3 \n",
      "4 4 4 4 \n",
      "5 5 5 5 5 \n"
     ]
    }
   ],
   "source": [
    "i=0\n",
    "while (i<=5):\n",
    "    j=1\n",
    "    while(j<=i):\n",
    "        print(i,end=\" \")\n",
    "        j+=1\n",
    "    print()\n",
    "    i+=1\n",
    "        \n",
    "    "
   ]
  },
  {
   "cell_type": "code",
   "execution_count": 381,
   "id": "072fb8ab",
   "metadata": {},
   "outputs": [
    {
     "name": "stdout",
     "output_type": "stream",
     "text": [
      "    * \n",
      "   * * \n",
      "  * * * \n",
      " * * * * \n",
      "* * * * * \n"
     ]
    }
   ],
   "source": [
    "i=1\n",
    "while(i<=5):\n",
    "    j=1\n",
    "    while j<=5-i:\n",
    "        print(\" \",end=\"\")\n",
    "        j+=1\n",
    "    k=1\n",
    "    while k<=i:\n",
    "        print(\"*\",end=' ')\n",
    "        k+=1\n",
    "    print()\n",
    "    i+=1"
   ]
  },
  {
   "cell_type": "markdown",
   "id": "678dad34",
   "metadata": {},
   "source": [
    "### user define function"
   ]
  },
  {
   "cell_type": "code",
   "execution_count": 382,
   "id": "7f9bb487",
   "metadata": {},
   "outputs": [
    {
     "name": "stdout",
     "output_type": "stream",
     "text": [
      "Help on method raw_input in module ipykernel.kernelbase:\n",
      "\n",
      "raw_input(prompt='') method of ipykernel.ipkernel.IPythonKernel instance\n",
      "    Forward raw_input to frontends\n",
      "    \n",
      "    Raises\n",
      "    ------\n",
      "    StdinNotImplementedError if active frontend doesn't support stdin.\n",
      "\n"
     ]
    }
   ],
   "source": [
    "help(input)"
   ]
  },
  {
   "cell_type": "code",
   "execution_count": 383,
   "id": "5660ab73",
   "metadata": {},
   "outputs": [
    {
     "name": "stdout",
     "output_type": "stream",
     "text": [
      "Help on built-in function print in module builtins:\n",
      "\n",
      "print(...)\n",
      "    print(value, ..., sep=' ', end='\\n', file=sys.stdout, flush=False)\n",
      "    \n",
      "    Prints the values to a stream, or to sys.stdout by default.\n",
      "    Optional keyword arguments:\n",
      "    file:  a file-like object (stream); defaults to the current sys.stdout.\n",
      "    sep:   string inserted between values, default a space.\n",
      "    end:   string appended after the last value, default a newline.\n",
      "    flush: whether to forcibly flush the stream.\n",
      "\n"
     ]
    }
   ],
   "source": [
    "help(print)"
   ]
  },
  {
   "cell_type": "code",
   "execution_count": 384,
   "id": "9d1bb6dd",
   "metadata": {},
   "outputs": [
    {
     "data": {
      "text/plain": [
       "11"
      ]
     },
     "execution_count": 384,
     "metadata": {},
     "output_type": "execute_result"
    }
   ],
   "source": [
    "def add(a,b):\n",
    "    return a+b\n",
    "add(5,6)"
   ]
  },
  {
   "cell_type": "raw",
   "id": "ba6f0b94",
   "metadata": {},
   "source": [
    "# function define\n",
    "\n",
    "def function_name():\n",
    "    statements\n",
    "\n",
    "def --> defining a function\n",
    "function_name --> name of the function\n",
    "statements --> statements for function"
   ]
  },
  {
   "cell_type": "code",
   "execution_count": 385,
   "id": "6e5a9148",
   "metadata": {},
   "outputs": [
    {
     "name": "stdout",
     "output_type": "stream",
     "text": [
      "My name is sourabh\n"
     ]
    }
   ],
   "source": [
    "# no parameter function\n",
    "def name():\n",
    "    print(\"My name is sourabh\")\n",
    "\n",
    "#calling a function    \n",
    "name()    "
   ]
  },
  {
   "cell_type": "code",
   "execution_count": 386,
   "id": "a9f298bc",
   "metadata": {},
   "outputs": [
    {
     "name": "stdout",
     "output_type": "stream",
     "text": [
      "My name is sourabh\n"
     ]
    }
   ],
   "source": [
    "# single parameter function\n",
    "def student_name(name):\n",
    "    print(\"My name is\" ,name)\n",
    "\n",
    "#calling a function    \n",
    "student_name(\"sourabh\")  "
   ]
  },
  {
   "cell_type": "code",
   "execution_count": 387,
   "id": "c5467e9e",
   "metadata": {},
   "outputs": [
    {
     "name": "stdout",
     "output_type": "stream",
     "text": [
      "My name is sourabh\n"
     ]
    }
   ],
   "source": [
    "# default parameter function\n",
    "def student_name(name=\"sourabh\"):\n",
    "    print(\"My name is\" ,name)\n",
    "\n",
    "#calling a function    \n",
    "student_name()"
   ]
  },
  {
   "cell_type": "code",
   "execution_count": 388,
   "id": "09d27613",
   "metadata": {},
   "outputs": [
    {
     "data": {
      "text/plain": [
       "11"
      ]
     },
     "execution_count": 388,
     "metadata": {},
     "output_type": "execute_result"
    }
   ],
   "source": [
    "# multi parameter function\n",
    "def add(a,b):\n",
    "    return a+b\n",
    "add(5,6)"
   ]
  },
  {
   "cell_type": "code",
   "execution_count": 389,
   "id": "b02e3758",
   "metadata": {},
   "outputs": [
    {
     "data": {
      "text/plain": [
       "-1"
      ]
     },
     "execution_count": 389,
     "metadata": {},
     "output_type": "execute_result"
    }
   ],
   "source": [
    "def sub(a,b):\n",
    "    return a-b\n",
    "sub(5,6)"
   ]
  },
  {
   "cell_type": "code",
   "execution_count": 390,
   "id": "b45978e2",
   "metadata": {},
   "outputs": [
    {
     "data": {
      "text/plain": [
       "30"
      ]
     },
     "execution_count": 390,
     "metadata": {},
     "output_type": "execute_result"
    }
   ],
   "source": [
    "def multiplication(a,b):\n",
    "    return a*b\n",
    "multiplication(5,6)"
   ]
  },
  {
   "cell_type": "code",
   "execution_count": 391,
   "id": "f737bbd7",
   "metadata": {},
   "outputs": [
    {
     "data": {
      "text/plain": [
       "0.8333333333333334"
      ]
     },
     "execution_count": 391,
     "metadata": {},
     "output_type": "execute_result"
    }
   ],
   "source": [
    "def div(a,b):\n",
    "    return a/b\n",
    "div(5,6)"
   ]
  },
  {
   "cell_type": "code",
   "execution_count": 392,
   "id": "95ef39e8",
   "metadata": {},
   "outputs": [
    {
     "data": {
      "text/plain": [
       "15625"
      ]
     },
     "execution_count": 392,
     "metadata": {},
     "output_type": "execute_result"
    }
   ],
   "source": [
    "def square(a,b):\n",
    "    return a**b\n",
    "    #return b**2\n",
    "square(5,6)"
   ]
  },
  {
   "cell_type": "code",
   "execution_count": 393,
   "id": "b903ca83",
   "metadata": {},
   "outputs": [
    {
     "data": {
      "text/plain": [
       "5"
      ]
     },
     "execution_count": 393,
     "metadata": {},
     "output_type": "execute_result"
    }
   ],
   "source": [
    "def rem(a,b):\n",
    "    return a%b\n",
    "rem(5,6)"
   ]
  },
  {
   "cell_type": "code",
   "execution_count": 394,
   "id": "b624b2a3",
   "metadata": {},
   "outputs": [],
   "source": [
    "def Ar_op(a,b):\n",
    "    sub=a-b\n",
    "    mul=a*b\n",
    "    div=a/b\n",
    "    sq_a=a**2\n",
    "    sq_b=b**2\n",
    "    "
   ]
  },
  {
   "cell_type": "code",
   "execution_count": 395,
   "id": "f80ea45a",
   "metadata": {},
   "outputs": [
    {
     "name": "stdout",
     "output_type": "stream",
     "text": [
      "5 * 1 = 5\n",
      "5 * 2 = 10\n",
      "5 * 3 = 15\n",
      "5 * 4 = 20\n",
      "5 * 5 = 25\n",
      "5 * 6 = 30\n",
      "5 * 7 = 35\n",
      "5 * 8 = 40\n",
      "5 * 9 = 45\n",
      "5 * 10 = 50\n"
     ]
    }
   ],
   "source": [
    "# create a function to get table of a number.\n",
    "def number(n):\n",
    "    for i in range(1,11):\n",
    "        print(n,\"*\",i,\"=\",n*i)\n",
    "number(5)"
   ]
  },
  {
   "cell_type": "code",
   "execution_count": 396,
   "id": "cb798a4e",
   "metadata": {},
   "outputs": [],
   "source": [
    "# *args --> many arguments\n",
    "def add(a):\n",
    "    return a\n",
    "    "
   ]
  },
  {
   "cell_type": "code",
   "execution_count": 397,
   "id": "6ab2c659",
   "metadata": {},
   "outputs": [
    {
     "data": {
      "text/plain": [
       "5"
      ]
     },
     "execution_count": 397,
     "metadata": {},
     "output_type": "execute_result"
    }
   ],
   "source": [
    "add(5)"
   ]
  },
  {
   "cell_type": "code",
   "execution_count": 398,
   "id": "d75463c7",
   "metadata": {},
   "outputs": [],
   "source": [
    "def add(*a):\n",
    "    print(a)"
   ]
  },
  {
   "cell_type": "code",
   "execution_count": 399,
   "id": "4eed1a5e",
   "metadata": {},
   "outputs": [
    {
     "name": "stdout",
     "output_type": "stream",
     "text": [
      "(5, 6)\n"
     ]
    }
   ],
   "source": [
    "add(5,6)"
   ]
  },
  {
   "cell_type": "code",
   "execution_count": 400,
   "id": "036a338f",
   "metadata": {},
   "outputs": [],
   "source": [
    "def square_values(*b):\n",
    "    sqr = []\n",
    "    for i in b:\n",
    "        sq=i*i\n",
    "        sqr.append(sq)\n",
    "    return sqr"
   ]
  },
  {
   "cell_type": "code",
   "execution_count": 401,
   "id": "b91957fc",
   "metadata": {},
   "outputs": [
    {
     "data": {
      "text/plain": [
       "[1, 4, 9, 16, 25]"
      ]
     },
     "execution_count": 401,
     "metadata": {},
     "output_type": "execute_result"
    }
   ],
   "source": [
    "square_values(1,2,3,4,5)"
   ]
  },
  {
   "cell_type": "code",
   "execution_count": 402,
   "id": "9b7db87f",
   "metadata": {},
   "outputs": [],
   "source": [
    "def sum_of_square(n):\n",
    "    sum=0\n",
    "    for i in range(1,n):\n",
    "        sum=i*i+sum\n",
    "    print(sum)    \n",
    "        "
   ]
  },
  {
   "cell_type": "code",
   "execution_count": 403,
   "id": "b7c00b7c",
   "metadata": {},
   "outputs": [
    {
     "name": "stdout",
     "output_type": "stream",
     "text": [
      "30\n"
     ]
    }
   ],
   "source": [
    "sum_of_square(5)"
   ]
  },
  {
   "cell_type": "code",
   "execution_count": 404,
   "id": "ffd87389",
   "metadata": {},
   "outputs": [],
   "source": [
    "def sum_of_square(*n):\n",
    "    sum=0\n",
    "    for i in n:\n",
    "        sum=i*i+sum\n",
    "    print(sum) "
   ]
  },
  {
   "cell_type": "code",
   "execution_count": 405,
   "id": "e9a32ccf",
   "metadata": {},
   "outputs": [
    {
     "name": "stdout",
     "output_type": "stream",
     "text": [
      "66\n"
     ]
    }
   ],
   "source": [
    "sum_of_square(1,2,5,6)"
   ]
  },
  {
   "cell_type": "code",
   "execution_count": 406,
   "id": "ed8c8cc4",
   "metadata": {},
   "outputs": [],
   "source": [
    "# **kwarges --> many key word arguments\n",
    "\n",
    "def multi_keywords(**b):\n",
    "    print(b)"
   ]
  },
  {
   "cell_type": "code",
   "execution_count": 407,
   "id": "41931832",
   "metadata": {},
   "outputs": [
    {
     "name": "stdout",
     "output_type": "stream",
     "text": [
      "{'a': 10, 'b': 30, 'c': [1, 2, 3], 'd': (4, 5, 6)}\n"
     ]
    }
   ],
   "source": [
    "multi_keywords(a=10,b=30,c=[1,2,3],d=(4,5,6))"
   ]
  },
  {
   "cell_type": "code",
   "execution_count": 408,
   "id": "4647f405",
   "metadata": {},
   "outputs": [
    {
     "name": "stdout",
     "output_type": "stream",
     "text": [
      "Help on function multi_keywords in module __main__:\n",
      "\n",
      "multi_keywords(**b)\n",
      "\n"
     ]
    }
   ],
   "source": [
    "# docs string --> documentation of the function\n",
    "help(multi_keywords)"
   ]
  },
  {
   "cell_type": "code",
   "execution_count": 409,
   "id": "ce94823b",
   "metadata": {},
   "outputs": [],
   "source": [
    "def sumOfsquare(*b):\n",
    "    '''Sum of square values parameter:\n",
    "    b : b takes may integer values\n",
    "    return:\n",
    "    sum of squared value in terms of int.'''\n",
    "    sum=0\n",
    "    for i in n:\n",
    "        sum=i*i+sum\n",
    "    print(sum)"
   ]
  },
  {
   "cell_type": "code",
   "execution_count": 410,
   "id": "047c16ad",
   "metadata": {},
   "outputs": [
    {
     "name": "stdout",
     "output_type": "stream",
     "text": [
      "Help on function sumOfsquare in module __main__:\n",
      "\n",
      "sumOfsquare(*b)\n",
      "    Sum of square values parameter:\n",
      "    b : b takes may integer values\n",
      "    return:\n",
      "    sum of squared value in terms of int.\n",
      "\n"
     ]
    }
   ],
   "source": [
    "help(sumOfsquare)"
   ]
  },
  {
   "cell_type": "code",
   "execution_count": 411,
   "id": "477f34c4",
   "metadata": {},
   "outputs": [
    {
     "name": "stdout",
     "output_type": "stream",
     "text": [
      "Sum of square values parameter:\n",
      "    b : b takes may integer values\n",
      "    return:\n",
      "    sum of squared value in terms of int.\n"
     ]
    }
   ],
   "source": [
    "print(sumOfsquare.__doc__)"
   ]
  },
  {
   "cell_type": "code",
   "execution_count": 412,
   "id": "b70502e9",
   "metadata": {},
   "outputs": [
    {
     "data": {
      "text/plain": [
       "<function __main__.<lambda>(arguments)>"
      ]
     },
     "execution_count": 412,
     "metadata": {},
     "output_type": "execute_result"
    }
   ],
   "source": [
    "# lambda function --> Annonymous function\n",
    "\n",
    "lambda arguments:expression"
   ]
  },
  {
   "cell_type": "code",
   "execution_count": 413,
   "id": "624a9e19",
   "metadata": {},
   "outputs": [
    {
     "name": "stdout",
     "output_type": "stream",
     "text": [
      "25\n"
     ]
    }
   ],
   "source": [
    "a=lambda x:x**2\n",
    "print(a(5))"
   ]
  },
  {
   "cell_type": "code",
   "execution_count": 414,
   "id": "1993d6be",
   "metadata": {},
   "outputs": [
    {
     "name": "stdout",
     "output_type": "stream",
     "text": [
      "1000\n"
     ]
    }
   ],
   "source": [
    "cube=lambda x:x**3\n",
    "print(cube(10))"
   ]
  },
  {
   "cell_type": "code",
   "execution_count": 415,
   "id": "c9fcced2",
   "metadata": {},
   "outputs": [
    {
     "name": "stdout",
     "output_type": "stream",
     "text": [
      "15625\n"
     ]
    }
   ],
   "source": [
    "a=lambda x,y:x**y\n",
    "print(a(5,6))"
   ]
  },
  {
   "cell_type": "code",
   "execution_count": 416,
   "id": "0c7b9cd2",
   "metadata": {},
   "outputs": [],
   "source": [
    "many_values = lambda *y:y"
   ]
  },
  {
   "cell_type": "code",
   "execution_count": 417,
   "id": "5fa8a8e5",
   "metadata": {},
   "outputs": [
    {
     "name": "stdout",
     "output_type": "stream",
     "text": [
      "(1, 5, 6, 8)\n"
     ]
    }
   ],
   "source": [
    "print(many_values(1,5,6,8))"
   ]
  },
  {
   "cell_type": "code",
   "execution_count": 418,
   "id": "aeeef889",
   "metadata": {},
   "outputs": [
    {
     "name": "stdout",
     "output_type": "stream",
     "text": [
      "25\n",
      "48\n"
     ]
    }
   ],
   "source": [
    "#lambda functio practice\n",
    "\"\"\"Write a Python program to create a lambda function that adds 15 to a given number passed in as an argument,\n",
    "also create a lambda function that multiplies argument x with argument y and prints the result.\n",
    "Sample \n",
    "Output: 25 \n",
    "        48\"\"\"\n",
    "\n",
    "var1=lambda x:x+15\n",
    "print(var1(10))\n",
    "\n",
    "\n",
    "var2=lambda x,y:x*y\n",
    "\n",
    "print(var2(8,6))"
   ]
  },
  {
   "cell_type": "code",
   "execution_count": 419,
   "id": "8efbfd74",
   "metadata": {},
   "outputs": [
    {
     "name": "stdout",
     "output_type": "stream",
     "text": [
      "20\n"
     ]
    }
   ],
   "source": [
    "\"\"\"Write a Python program to create a function that takes one argument,\n",
    "and that argument will be multiplied with an unknown given number.\"\"\"\n",
    "\n",
    "def args(n):\n",
    "    a=lambda x:x*n\n",
    "    var1=args(5)\n",
    "\n",
    "print(var1(5))"
   ]
  },
  {
   "cell_type": "code",
   "execution_count": 420,
   "id": "14e188c1",
   "metadata": {},
   "outputs": [],
   "source": [
    "#factorial of a given number\n",
    "\n",
    "def factorial(n):\n",
    "    fact=1\n",
    "    for i in range(1,n+1):\n",
    "        fact=fact*i\n",
    "    print(fact)    "
   ]
  },
  {
   "cell_type": "code",
   "execution_count": 421,
   "id": "f378cb79",
   "metadata": {},
   "outputs": [
    {
     "name": "stdout",
     "output_type": "stream",
     "text": [
      "120\n"
     ]
    }
   ],
   "source": [
    "factorial(5)"
   ]
  },
  {
   "cell_type": "code",
   "execution_count": 425,
   "id": "4bd87b8f",
   "metadata": {},
   "outputs": [],
   "source": [
    "# find even odd number\n",
    "def even_odd(num):\n",
    "    if num%2==0:\n",
    "        return \"even\"\n",
    "    else:\n",
    "        return \"odd\""
   ]
  },
  {
   "cell_type": "code",
   "execution_count": 426,
   "id": "b7a90fe7",
   "metadata": {},
   "outputs": [
    {
     "name": "stdout",
     "output_type": "stream",
     "text": [
      "enter a number :26\n"
     ]
    },
    {
     "data": {
      "text/plain": [
       "'even'"
      ]
     },
     "execution_count": 426,
     "metadata": {},
     "output_type": "execute_result"
    }
   ],
   "source": [
    "num=int(input(\"enter a number :\"))\n",
    "even_odd(num)"
   ]
  },
  {
   "cell_type": "code",
   "execution_count": 427,
   "id": "60beacee",
   "metadata": {},
   "outputs": [],
   "source": [
    "# n natural number sum\n",
    "def natural(num):\n",
    "    sum=0\n",
    "    for i in range(1,num+1):\n",
    "        sum=sum+i\n",
    "        \n",
    "    print(sum)    \n",
    "        "
   ]
  },
  {
   "cell_type": "code",
   "execution_count": 428,
   "id": "6f70126b",
   "metadata": {},
   "outputs": [
    {
     "name": "stdout",
     "output_type": "stream",
     "text": [
      "15\n"
     ]
    }
   ],
   "source": [
    "natural(5)"
   ]
  },
  {
   "cell_type": "code",
   "execution_count": 429,
   "id": "89dee075",
   "metadata": {},
   "outputs": [],
   "source": [
    "# n natural number multiplication sum\n",
    "\n",
    "def multiplication_sum(n):\n",
    "    sum=0\n",
    "    for i in range(1,n+1):\n",
    "        sum=sum+i*i\n",
    "    print(sum)    "
   ]
  },
  {
   "cell_type": "code",
   "execution_count": 430,
   "id": "467367de",
   "metadata": {},
   "outputs": [
    {
     "name": "stdout",
     "output_type": "stream",
     "text": [
      "55\n"
     ]
    }
   ],
   "source": [
    "multiplication_sum(5)"
   ]
  },
  {
   "cell_type": "code",
   "execution_count": 431,
   "id": "76263dae",
   "metadata": {},
   "outputs": [],
   "source": [
    "# maximum number from three user input number\n",
    "\n",
    "def max_number(x,y,z):\n",
    "    if x>y and x>z:\n",
    "        print(\"x is maximum\")\n",
    "    elif y>z:\n",
    "        print(\"y is maximum\")\n",
    "    else:\n",
    "        print(\"z is maximum\")\n",
    "        "
   ]
  },
  {
   "cell_type": "code",
   "execution_count": 432,
   "id": "ec0a4c84",
   "metadata": {},
   "outputs": [
    {
     "name": "stdout",
     "output_type": "stream",
     "text": [
      "enter first number :26\n",
      "enter second number :25\n",
      "enter first number :56\n",
      "z is maximum\n"
     ]
    }
   ],
   "source": [
    "x=int(input(\"enter first number :\"))\n",
    "y=int(input(\"enter second number :\"))\n",
    "z=int(input(\"enter first number :\"))\n",
    "max_number(x,y,z)"
   ]
  },
  {
   "cell_type": "code",
   "execution_count": 433,
   "id": "7526cbd4",
   "metadata": {},
   "outputs": [],
   "source": [
    "# swap two number\n",
    "def swap(x,y):\n",
    "    x,y=y,x\n",
    "    print(x,y)\n",
    "    "
   ]
  },
  {
   "cell_type": "code",
   "execution_count": 434,
   "id": "c801389a",
   "metadata": {},
   "outputs": [
    {
     "name": "stdout",
     "output_type": "stream",
     "text": [
      "6 25\n"
     ]
    }
   ],
   "source": [
    "swap(25,6)"
   ]
  },
  {
   "cell_type": "code",
   "execution_count": 435,
   "id": "b33845cd",
   "metadata": {},
   "outputs": [
    {
     "data": {
      "text/plain": [
       "'\\n*\\n* *\\n* * *\\n* * * *\\n* * * * *\\n'"
      ]
     },
     "execution_count": 435,
     "metadata": {},
     "output_type": "execute_result"
    }
   ],
   "source": [
    "# print pattern\n",
    "\"\"\"\n",
    "*\n",
    "* *\n",
    "* * *\n",
    "* * * *\n",
    "* * * * *\n",
    "\"\"\""
   ]
  },
  {
   "cell_type": "code",
   "execution_count": 436,
   "id": "ebabfdbc",
   "metadata": {},
   "outputs": [],
   "source": [
    "n=5\n",
    "def pattern(n):\n",
    "    for i in range(n+1):\n",
    "        print(\"*\"*i)"
   ]
  },
  {
   "cell_type": "code",
   "execution_count": 437,
   "id": "c1f8a2be",
   "metadata": {},
   "outputs": [
    {
     "name": "stdout",
     "output_type": "stream",
     "text": [
      "\n",
      "*\n",
      "**\n",
      "***\n",
      "****\n",
      "*****\n"
     ]
    }
   ],
   "source": [
    "pattern(5)"
   ]
  },
  {
   "cell_type": "code",
   "execution_count": 438,
   "id": "d2ce33f4",
   "metadata": {},
   "outputs": [
    {
     "name": "stdout",
     "output_type": "stream",
     "text": [
      "****\n",
      "***\n",
      "**\n",
      "*\n",
      "\n"
     ]
    }
   ],
   "source": [
    "for i in range(4,-1,-1):\n",
    "    print(\"*\"*i)\n",
    "    "
   ]
  },
  {
   "cell_type": "code",
   "execution_count": 439,
   "id": "bffdef5a",
   "metadata": {},
   "outputs": [
    {
     "name": "stdout",
     "output_type": "stream",
     "text": [
      "\n",
      "*\n",
      "**\n",
      "***\n",
      "****\n",
      "*****\n",
      "****\n",
      "***\n",
      "**\n",
      "*\n",
      "\n"
     ]
    }
   ],
   "source": [
    "def pattern(n):\n",
    "    for i in range(n+1):\n",
    "        print(\"*\"*i)\n",
    "pattern(5)        \n",
    "        \n",
    "for i in range(4,-1,-1):\n",
    "    print(\"*\"*i)        "
   ]
  },
  {
   "cell_type": "code",
   "execution_count": 440,
   "id": "cc0a2601",
   "metadata": {},
   "outputs": [
    {
     "name": "stdout",
     "output_type": "stream",
     "text": [
      "\n",
      "*\n",
      "**\n",
      "***\n",
      "****\n",
      "****\n",
      "****\n",
      "****\n",
      "****\n",
      "****\n",
      "****\n"
     ]
    }
   ],
   "source": [
    "for i in range(5):\n",
    "    print(\"*\"*i)\n",
    "    \n",
    "for j in range(5,-1,-1):\n",
    "    print(\"*\"*i)"
   ]
  },
  {
   "cell_type": "code",
   "execution_count": 441,
   "id": "c0fc5a1c",
   "metadata": {},
   "outputs": [
    {
     "name": "stdout",
     "output_type": "stream",
     "text": [
      "\n",
      "\n",
      "\n",
      "\n",
      "\n",
      "*\n",
      "**\n",
      "***\n",
      "\n",
      "**\n",
      "****\n",
      "******\n",
      "\n",
      "***\n",
      "******\n",
      "*********\n",
      "\n",
      "****\n",
      "********\n",
      "************\n"
     ]
    }
   ],
   "source": [
    "for i in range(5):\n",
    "    for j in range(4):\n",
    "        print(\"*\"*i*j)"
   ]
  },
  {
   "cell_type": "raw",
   "id": "5e383116",
   "metadata": {},
   "source": [
    "# sum of all odd numbers\n",
    "\n",
    "n=5\n",
    "odd number-->1+3+5-->9"
   ]
  },
  {
   "cell_type": "code",
   "execution_count": 442,
   "id": "c12c89f5",
   "metadata": {},
   "outputs": [
    {
     "name": "stdout",
     "output_type": "stream",
     "text": [
      "9\n"
     ]
    }
   ],
   "source": [
    "num=5\n",
    "sum=0\n",
    "for i in range(1,n+1):\n",
    "    if i%2==1:\n",
    "        sum=sum+i\n",
    "print(sum)\n",
    "    "
   ]
  },
  {
   "cell_type": "code",
   "execution_count": 443,
   "id": "d7cd6427",
   "metadata": {},
   "outputs": [],
   "source": [
    "def sum_od_odd_number(num):\n",
    "    sum=0\n",
    "    for i in range(1,num+1):\n",
    "        if i%2==1:\n",
    "            sum=sum+i\n",
    "    print(sum)    "
   ]
  },
  {
   "cell_type": "code",
   "execution_count": 444,
   "id": "222c7e02",
   "metadata": {},
   "outputs": [
    {
     "name": "stdout",
     "output_type": "stream",
     "text": [
      "9\n"
     ]
    }
   ],
   "source": [
    "sum_od_odd_number(5)"
   ]
  },
  {
   "cell_type": "code",
   "execution_count": 446,
   "id": "18ba3c65",
   "metadata": {},
   "outputs": [
    {
     "name": "stdout",
     "output_type": "stream",
     "text": [
      "enter first number :26\n",
      "enter second number :56\n",
      "enter third number :65\n",
      "49\n"
     ]
    }
   ],
   "source": [
    "# enter three number from user and make a function to print their average\n",
    "x=int(input(\"enter first number :\"))\n",
    "y=int(input(\"enter second number :\"))\n",
    "z=int(input(\"enter third number :\"))\n",
    "\n",
    "avg = int((x+y+z)/3)\n",
    "print(avg)\n"
   ]
  },
  {
   "cell_type": "code",
   "execution_count": 447,
   "id": "b7fc950b",
   "metadata": {},
   "outputs": [
    {
     "name": "stdout",
     "output_type": "stream",
     "text": [
      "0 1 2 3 4 5 6 7 8 9 10 "
     ]
    }
   ],
   "source": [
    "# wap to print 0,1,2,3,4,5,6,7,8,9,10\n",
    "sum=0\n",
    "for i in range(0,11):\n",
    "    print(i,end=\" \")\n",
    "    "
   ]
  },
  {
   "cell_type": "code",
   "execution_count": 448,
   "id": "a722186e",
   "metadata": {},
   "outputs": [
    {
     "name": "stdout",
     "output_type": "stream",
     "text": [
      "385\n"
     ]
    }
   ],
   "source": [
    "# sum of square\n",
    "num=10\n",
    "sum=0\n",
    "for i in range(1,num+1):\n",
    "    sum=sum+i*i\n",
    "    \n",
    "print(sum)    "
   ]
  },
  {
   "cell_type": "code",
   "execution_count": 449,
   "id": "e31ba80b",
   "metadata": {},
   "outputs": [
    {
     "data": {
      "text/plain": [
       "385"
      ]
     },
     "execution_count": 449,
     "metadata": {},
     "output_type": "execute_result"
    }
   ],
   "source": [
    "100+81+64+49+36+25+16+9+4+1"
   ]
  },
  {
   "cell_type": "code",
   "execution_count": 450,
   "id": "f958d90d",
   "metadata": {},
   "outputs": [],
   "source": [
    "def sumOfsquare(*b):\n",
    "    '''Sum of square values parameter:\n",
    "    b : b takes may integer values\n",
    "    return:\n",
    "    sum of squared value in terms of int.'''\n",
    "    sum=0\n",
    "    for i in b:\n",
    "        sum=i*i+sum\n",
    "    print(sum)"
   ]
  },
  {
   "cell_type": "code",
   "execution_count": 451,
   "id": "4fae02ca",
   "metadata": {},
   "outputs": [
    {
     "name": "stdout",
     "output_type": "stream",
     "text": [
      "Help on function sumOfsquare in module __main__:\n",
      "\n",
      "sumOfsquare(*b)\n",
      "    Sum of square values parameter:\n",
      "    b : b takes may integer values\n",
      "    return:\n",
      "    sum of squared value in terms of int.\n",
      "\n"
     ]
    }
   ],
   "source": [
    "help(sumOfsquare)"
   ]
  },
  {
   "cell_type": "code",
   "execution_count": 452,
   "id": "b83b30d9",
   "metadata": {},
   "outputs": [
    {
     "name": "stdout",
     "output_type": "stream",
     "text": [
      "Sum of square values parameter:\n",
      "    b : b takes may integer values\n",
      "    return:\n",
      "    sum of squared value in terms of int.\n"
     ]
    }
   ],
   "source": [
    "print(sumOfsquare.__doc__)"
   ]
  },
  {
   "cell_type": "code",
   "execution_count": null,
   "id": "1d9ff08e",
   "metadata": {},
   "outputs": [],
   "source": []
  }
 ],
 "metadata": {
  "kernelspec": {
   "display_name": "Python 3 (ipykernel)",
   "language": "python",
   "name": "python3"
  },
  "language_info": {
   "codemirror_mode": {
    "name": "ipython",
    "version": 3
   },
   "file_extension": ".py",
   "mimetype": "text/x-python",
   "name": "python",
   "nbconvert_exporter": "python",
   "pygments_lexer": "ipython3",
   "version": "3.9.13"
  },
  "widgets": {
   "application/vnd.jupyter.widget-state+json": {
    "state": {},
    "version_major": 2,
    "version_minor": 0
   }
  }
 },
 "nbformat": 4,
 "nbformat_minor": 5
}
