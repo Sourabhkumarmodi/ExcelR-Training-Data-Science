{
 "cells": [
  {
   "cell_type": "markdown",
   "id": "9d1882d1-1b10-43e8-86eb-9428d3494b8c",
   "metadata": {},
   "source": [
    "# Introduction to python "
   ]
  },
  {
   "cell_type": "code",
   "execution_count": null,
   "id": "2081c051-aaf1-4e35-89a9-78a17a1aded4",
   "metadata": {},
   "outputs": [],
   "source": [
    "--> Library (numpy)\n",
    "---> packges  (array)\n",
    "----> modules/pyfiles (matrices)\n",
    "------>classes/ fuctions (ndim)\n",
    "-------> function/ variables (rows/columns)\n",
    "---------> data(numrical) (numerical)"
   ]
  },
  {
   "cell_type": "markdown",
   "id": "4ce00fbb-404e-49cd-853f-1986ee056f11",
   "metadata": {},
   "source": [
    "## variables"
   ]
  },
  {
   "cell_type": "markdown",
   "id": "90a72fb6-ff37-46e2-becc-8ae83584f57a",
   "metadata": {},
   "source": [
    "correct way  of variable creation"
   ]
  },
  {
   "cell_type": "code",
   "execution_count": null,
   "id": "206dc62f-e489-4949-a0f0-bf4422ffbab6",
   "metadata": {},
   "outputs": [],
   "source": [
    "a = 10\n",
    "abcd = 20\n",
    "a_b = 30\n",
    "a_b_1 = 40\n",
    "data_type = 30"
   ]
  },
  {
   "cell_type": "markdown",
   "id": "4f0f2765-c630-4e53-82e5-0eb20357ddbc",
   "metadata": {},
   "source": [
    "Incorrect way of variable creation"
   ]
  },
  {
   "cell_type": "code",
   "execution_count": null,
   "id": "ff7c10ee-58cf-4a04-831e-cfdcf49e5c6f",
   "metadata": {},
   "outputs": [],
   "source": [
    " a = 10\n",
    "1a = 20\n",
    "if = 30"
   ]
  },
  {
   "cell_type": "code",
   "execution_count": 6,
   "id": "e39dedea-03fb-4fff-b373-428bf5728a7c",
   "metadata": {
    "scrolled": true
   },
   "outputs": [
    {
     "name": "stdout",
     "output_type": "stream",
     "text": [
      "['False', 'None', 'True', 'and', 'as', 'assert', 'async', 'await', 'break', 'class', 'continue', 'def', 'del', 'elif', 'else', 'except', 'finally', 'for', 'from', 'global', 'if', 'import', 'in', 'is', 'lambda', 'nonlocal', 'not', 'or', 'pass', 'raise', 'return', 'try', 'while', 'with', 'yield']\n"
     ]
    }
   ],
   "source": [
    "import keyword\n",
    "print(keyword.kwlist)"
   ]
  },
  {
   "cell_type": "markdown",
   "id": "ed6ee6b0-c601-49ef-90d7-00cdf7584fb3",
   "metadata": {},
   "source": [
    "## Data types\n",
    "1. --> int, float, bool, str, complex, object, Nonetype."
   ]
  },
  {
   "cell_type": "code",
   "execution_count": 7,
   "id": "3bf064cd-f269-4718-8379-c81f45e6c764",
   "metadata": {},
   "outputs": [],
   "source": [
    "a = 10"
   ]
  },
  {
   "cell_type": "code",
   "execution_count": 8,
   "id": "d0210e2e-bf1c-4778-8174-f7182ed2b5a6",
   "metadata": {},
   "outputs": [
    {
     "data": {
      "text/plain": [
       "int"
      ]
     },
     "execution_count": 8,
     "metadata": {},
     "output_type": "execute_result"
    }
   ],
   "source": [
    "type(a)"
   ]
  },
  {
   "cell_type": "code",
   "execution_count": 9,
   "id": "ac6b4be2-3f71-4afb-88d5-46d67eb57218",
   "metadata": {},
   "outputs": [
    {
     "data": {
      "text/plain": [
       "float"
      ]
     },
     "execution_count": 9,
     "metadata": {},
     "output_type": "execute_result"
    }
   ],
   "source": [
    "b = 10.5\n",
    "type(b)"
   ]
  },
  {
   "cell_type": "code",
   "execution_count": 11,
   "id": "9a879b83-abce-48f7-ab19-d1f643f20c88",
   "metadata": {},
   "outputs": [
    {
     "data": {
      "text/plain": [
       "bool"
      ]
     },
     "execution_count": 11,
     "metadata": {},
     "output_type": "execute_result"
    }
   ],
   "source": [
    "c = True\n",
    "type(c)"
   ]
  },
  {
   "cell_type": "code",
   "execution_count": 12,
   "id": "61ed9402-40ba-401a-8b44-cd8e3f3bcd98",
   "metadata": {},
   "outputs": [
    {
     "data": {
      "text/plain": [
       "str"
      ]
     },
     "execution_count": 12,
     "metadata": {},
     "output_type": "execute_result"
    }
   ],
   "source": [
    "d = 'syeda'\n",
    "type(d)"
   ]
  },
  {
   "cell_type": "code",
   "execution_count": 14,
   "id": "71d7f132-cacf-484f-9cf9-2777086c9544",
   "metadata": {},
   "outputs": [
    {
     "name": "stdout",
     "output_type": "stream",
     "text": [
      "(10+5j)\n"
     ]
    },
    {
     "data": {
      "text/plain": [
       "complex"
      ]
     },
     "execution_count": 14,
     "metadata": {},
     "output_type": "execute_result"
    }
   ],
   "source": [
    "e = 10+5j\n",
    "print(e)\n",
    "type(e)"
   ]
  },
  {
   "cell_type": "code",
   "execution_count": 15,
   "id": "1112e7f5-784f-4c6b-bae7-54dfc2342f4d",
   "metadata": {},
   "outputs": [
    {
     "data": {
      "text/plain": [
       "NoneType"
      ]
     },
     "execution_count": 15,
     "metadata": {},
     "output_type": "execute_result"
    }
   ],
   "source": [
    "f = None\n",
    "type(f)"
   ]
  },
  {
   "cell_type": "code",
   "execution_count": null,
   "id": "1febf9fc-edfc-4c17-8d4f-34f54c1d3ec1",
   "metadata": {},
   "outputs": [],
   "source": [
    "# string data\n",
    "1. '' --> word\n",
    "2. \"\" --> statments\n",
    "3. \"\"\"\"\"\"/'''''' --> paragraphs/multiline."
   ]
  },
  {
   "cell_type": "code",
   "execution_count": 16,
   "id": "38c0c344-c4fb-4852-9c5c-6656e20c8267",
   "metadata": {},
   "outputs": [
    {
     "data": {
      "text/plain": [
       "str"
      ]
     },
     "execution_count": 16,
     "metadata": {},
     "output_type": "execute_result"
    }
   ],
   "source": [
    "name = 'syeda'\n",
    "type(name)"
   ]
  },
  {
   "cell_type": "code",
   "execution_count": 18,
   "id": "79572c28-7d65-4d84-9e69-611a045345c4",
   "metadata": {},
   "outputs": [
    {
     "data": {
      "text/plain": [
       "str"
      ]
     },
     "execution_count": 18,
     "metadata": {},
     "output_type": "execute_result"
    }
   ],
   "source": [
    "info = \"my name is syeda, syeda's class is going on.\"\n",
    "type(info)"
   ]
  },
  {
   "cell_type": "code",
   "execution_count": 29,
   "id": "4cecb7ba-6647-4354-8ed2-3d2c8db448fa",
   "metadata": {},
   "outputs": [
    {
     "data": {
      "text/plain": [
       "str"
      ]
     },
     "execution_count": 29,
     "metadata": {},
     "output_type": "execute_result"
    }
   ],
   "source": [
    "info_data = \"\"\"my name is syeda, syeda's class is going on.\n",
    "DS class started for python\n",
    "Programming\"\"\"\n",
    "type(info_data)"
   ]
  },
  {
   "cell_type": "code",
   "execution_count": 30,
   "id": "6f770d6a-7590-44ca-901c-6503af5a69b3",
   "metadata": {},
   "outputs": [
    {
     "name": "stdout",
     "output_type": "stream",
     "text": [
      "my name is syeda, syeda's class is going on.\n"
     ]
    }
   ],
   "source": [
    "# comment\n",
    "info = \"my name is syeda, syeda's class is going on.\" # info\n",
    "print(info)"
   ]
  },
  {
   "cell_type": "code",
   "execution_count": 23,
   "id": "dff138c5-e7c6-4a05-a5bd-7cc6a09169ff",
   "metadata": {},
   "outputs": [
    {
     "name": "stdout",
     "output_type": "stream",
     "text": [
      "my name is syeda, syeda's class is going on.\n",
      "DS class started for python\n",
      "Programming\n"
     ]
    }
   ],
   "source": [
    "print(info_data)"
   ]
  },
  {
   "cell_type": "code",
   "execution_count": 24,
   "id": "699c1287-5d2d-4941-8481-80a3f826d402",
   "metadata": {},
   "outputs": [
    {
     "data": {
      "text/plain": [
       "\"MY NAME IS SYEDA, SYEDA'S CLASS IS GOING ON.\\nDS CLASS STARTED FOR PYTHON\\nPROGRAMMING\""
      ]
     },
     "execution_count": 24,
     "metadata": {},
     "output_type": "execute_result"
    }
   ],
   "source": [
    "info_data.upper()"
   ]
  },
  {
   "cell_type": "code",
   "execution_count": 25,
   "id": "59dcbd4c-3838-4973-a62a-ca9c54021812",
   "metadata": {},
   "outputs": [
    {
     "data": {
      "text/plain": [
       "\"my name is syeda, syeda's class is going on.\\nds class started for python\\nprogramming\""
      ]
     },
     "execution_count": 25,
     "metadata": {},
     "output_type": "execute_result"
    }
   ],
   "source": [
    "info_data.lower()"
   ]
  },
  {
   "cell_type": "code",
   "execution_count": 26,
   "id": "0d1d41f7-56d7-4106-9db1-b3af83b5eb2a",
   "metadata": {},
   "outputs": [
    {
     "data": {
      "text/plain": [
       "\"My name is syeda, syeda's class is going on.\\nds class started for python\\nprogramming\""
      ]
     },
     "execution_count": 26,
     "metadata": {},
     "output_type": "execute_result"
    }
   ],
   "source": [
    "info_data.capitalize()"
   ]
  },
  {
   "cell_type": "code",
   "execution_count": 27,
   "id": "83a71136-843f-4e7b-8bd9-b8505824906d",
   "metadata": {},
   "outputs": [
    {
     "data": {
      "text/plain": [
       "\"MY NAME IS SYEDA, SYEDA'S CLASS IS GOING ON.\\nds CLASS STARTED FOR PYTHON\\npROGRAMMING\""
      ]
     },
     "execution_count": 27,
     "metadata": {},
     "output_type": "execute_result"
    }
   ],
   "source": [
    "info_data.swapcase()"
   ]
  },
  {
   "cell_type": "code",
   "execution_count": 28,
   "id": "96ec631b-34f1-4021-8b8b-4599bb742ef3",
   "metadata": {},
   "outputs": [
    {
     "data": {
      "text/plain": [
       "\"my name is syeda, syeda's class is going on.\\nds class started for python\\nprogramming\""
      ]
     },
     "execution_count": 28,
     "metadata": {},
     "output_type": "execute_result"
    }
   ],
   "source": [
    "info_data.casefold()"
   ]
  },
  {
   "cell_type": "code",
   "execution_count": 33,
   "id": "b59581d7-5bcb-403b-ad58-cc300f9b0b82",
   "metadata": {},
   "outputs": [
    {
     "data": {
      "text/plain": [
       "(True, False)"
      ]
     },
     "execution_count": 33,
     "metadata": {},
     "output_type": "execute_result"
    }
   ],
   "source": [
    "# checks the string which its starts and ends.\n",
    "info_data.startswith('m'), info_data.startswith('a')"
   ]
  },
  {
   "cell_type": "code",
   "execution_count": 35,
   "id": "d0ad6038-2acd-4b0e-b0da-0d0fda389856",
   "metadata": {},
   "outputs": [
    {
     "data": {
      "text/plain": [
       "(True, False)"
      ]
     },
     "execution_count": 35,
     "metadata": {},
     "output_type": "execute_result"
    }
   ],
   "source": [
    "info_data.endswith('g'),info_data.endswith('.')"
   ]
  },
  {
   "cell_type": "code",
   "execution_count": 36,
   "id": "e4564e96-4000-44ae-be31-17719cde146b",
   "metadata": {},
   "outputs": [
    {
     "data": {
      "text/plain": [
       "\"my name is syeda, syeda's class is going on.\\nDS class started for python\\nProgramming\""
      ]
     },
     "execution_count": 36,
     "metadata": {},
     "output_type": "execute_result"
    }
   ],
   "source": [
    "info_data"
   ]
  },
  {
   "cell_type": "code",
   "execution_count": 39,
   "id": "cf4575b6-2807-4926-a173-f1da0601ee9d",
   "metadata": {},
   "outputs": [
    {
     "data": {
      "text/plain": [
       "[\"my name is syeda, syeda's class is going on.\",\n",
       " 'DS class started for python',\n",
       " 'Programming']"
      ]
     },
     "execution_count": 39,
     "metadata": {},
     "output_type": "execute_result"
    }
   ],
   "source": [
    "data = info_data.split('\\n')\n",
    "data"
   ]
  },
  {
   "cell_type": "code",
   "execution_count": 40,
   "id": "ba5b8bdb-34b0-41b0-badd-7f3ef7392d39",
   "metadata": {},
   "outputs": [],
   "source": [
    "str1 = ' string'\n",
    "str2 = 'string '\n",
    "str3 = ' string '"
   ]
  },
  {
   "cell_type": "code",
   "execution_count": 44,
   "id": "93915b3e-cf83-4277-9841-478d2f10c9dc",
   "metadata": {},
   "outputs": [
    {
     "data": {
      "text/plain": [
       "('string', 'string', 'string')"
      ]
     },
     "execution_count": 44,
     "metadata": {},
     "output_type": "execute_result"
    }
   ],
   "source": [
    "str1.lstrip(),str2.rstrip(),str3.strip()"
   ]
  },
  {
   "cell_type": "code",
   "execution_count": 45,
   "id": "0a1460fa-c04f-4f07-8284-cc6ece2b552b",
   "metadata": {},
   "outputs": [
    {
     "data": {
      "text/plain": [
       "'Data information'"
      ]
     },
     "execution_count": 45,
     "metadata": {},
     "output_type": "execute_result"
    }
   ],
   "source": [
    "str4 = 'Data science'\n",
    "str4.replace('science','information')"
   ]
  },
  {
   "cell_type": "code",
   "execution_count": null,
   "id": "3aeec700-2fbe-4f3a-a4c2-f88ab1a98bd4",
   "metadata": {},
   "outputs": [],
   "source": [
    "str.isalnum, str.isalpha, str.isascii, str.isdecimal,str.isnumeric, str.isupper, str.islower"
   ]
  },
  {
   "cell_type": "code",
   "execution_count": 54,
   "id": "13452812-4e59-4299-bc36-a4db3b1dfc56",
   "metadata": {},
   "outputs": [
    {
     "data": {
      "text/plain": [
       "True"
      ]
     },
     "execution_count": 54,
     "metadata": {},
     "output_type": "execute_result"
    }
   ],
   "source": [
    "a = 'abcd123'\n",
    "a.isalnum()"
   ]
  },
  {
   "cell_type": "code",
   "execution_count": 47,
   "id": "4a11ba37-ff20-4f45-bfe9-f244133d3b10",
   "metadata": {},
   "outputs": [
    {
     "data": {
      "text/plain": [
       "False"
      ]
     },
     "execution_count": 47,
     "metadata": {},
     "output_type": "execute_result"
    }
   ],
   "source": [
    "a.isalpha()"
   ]
  },
  {
   "cell_type": "code",
   "execution_count": 49,
   "id": "2f115c9d-d371-4d35-9f0d-28371319dca9",
   "metadata": {},
   "outputs": [
    {
     "data": {
      "text/plain": [
       "True"
      ]
     },
     "execution_count": 49,
     "metadata": {},
     "output_type": "execute_result"
    }
   ],
   "source": [
    "b = 'abcd'\n",
    "b.isalpha()"
   ]
  },
  {
   "cell_type": "code",
   "execution_count": 52,
   "id": "79861531-1921-4aca-8b20-9b7589d29214",
   "metadata": {
    "scrolled": true
   },
   "outputs": [
    {
     "data": {
      "text/plain": [
       "(True, True, True)"
      ]
     },
     "execution_count": 52,
     "metadata": {},
     "output_type": "execute_result"
    }
   ],
   "source": [
    "a.isascii(),b.isascii(),str4.isascii()"
   ]
  },
  {
   "cell_type": "code",
   "execution_count": 56,
   "id": "2c555f5e-f4fd-4de0-9a4d-a5b0d1434e54",
   "metadata": {
    "scrolled": true
   },
   "outputs": [
    {
     "data": {
      "text/plain": [
       "True"
      ]
     },
     "execution_count": 56,
     "metadata": {},
     "output_type": "execute_result"
    }
   ],
   "source": [
    "c = '2'\n",
    "c.isdecimal()"
   ]
  },
  {
   "cell_type": "code",
   "execution_count": 57,
   "id": "f5810990-2ec6-4dc2-a1d5-35db1862184b",
   "metadata": {
    "scrolled": true
   },
   "outputs": [
    {
     "data": {
      "text/plain": [
       "True"
      ]
     },
     "execution_count": 57,
     "metadata": {},
     "output_type": "execute_result"
    }
   ],
   "source": [
    "c.isnumeric()"
   ]
  },
  {
   "cell_type": "code",
   "execution_count": 58,
   "id": "b6470801-86f7-4ee6-acab-0d2412aca9b0",
   "metadata": {
    "scrolled": true
   },
   "outputs": [
    {
     "data": {
      "text/plain": [
       "True"
      ]
     },
     "execution_count": 58,
     "metadata": {},
     "output_type": "execute_result"
    }
   ],
   "source": [
    "d = 'UPPER'\n",
    "d.isupper()"
   ]
  },
  {
   "cell_type": "code",
   "execution_count": 62,
   "id": "f41cd147-ff18-40b1-bac8-bd679a7fdfd4",
   "metadata": {
    "scrolled": true
   },
   "outputs": [
    {
     "data": {
      "text/plain": [
       "True"
      ]
     },
     "execution_count": 62,
     "metadata": {},
     "output_type": "execute_result"
    }
   ],
   "source": [
    "e = 'lower'\n",
    "e.islower()"
   ]
  },
  {
   "cell_type": "code",
   "execution_count": 61,
   "id": "c2df62e5-8139-41a4-bae7-edd9f8fe9f8f",
   "metadata": {},
   "outputs": [
    {
     "data": {
      "text/plain": [
       "True"
      ]
     },
     "execution_count": 61,
     "metadata": {},
     "output_type": "execute_result"
    }
   ],
   "source": [
    "f = ' '\n",
    "f.isspace()"
   ]
  },
  {
   "cell_type": "code",
   "execution_count": 63,
   "id": "f5b6b5df-862c-4cc1-bc0d-89b9db49abe1",
   "metadata": {},
   "outputs": [
    {
     "data": {
      "text/plain": [
       "'Data science'"
      ]
     },
     "execution_count": 63,
     "metadata": {},
     "output_type": "execute_result"
    }
   ],
   "source": [
    "str4"
   ]
  },
  {
   "cell_type": "code",
   "execution_count": 64,
   "id": "2c8a4b95-adfb-47c3-b1f8-48d1c8506777",
   "metadata": {},
   "outputs": [
    {
     "data": {
      "text/plain": [
       "12"
      ]
     },
     "execution_count": 64,
     "metadata": {},
     "output_type": "execute_result"
    }
   ],
   "source": [
    "len(str4)"
   ]
  },
  {
   "cell_type": "code",
   "execution_count": 69,
   "id": "55fce4f1-94e3-47f3-8740-9333d96c9397",
   "metadata": {},
   "outputs": [
    {
     "data": {
      "text/plain": [
       "1"
      ]
     },
     "execution_count": 69,
     "metadata": {},
     "output_type": "execute_result"
    }
   ],
   "source": [
    "str4.count('D')"
   ]
  },
  {
   "cell_type": "code",
   "execution_count": 72,
   "id": "3252da83-4f58-4c65-bdda-3fd08dc32111",
   "metadata": {},
   "outputs": [
    {
     "data": {
      "text/plain": [
       "(6, 6)"
      ]
     },
     "execution_count": 72,
     "metadata": {},
     "output_type": "execute_result"
    }
   ],
   "source": [
    "str4.index('c'), str4.find('c')"
   ]
  },
  {
   "cell_type": "code",
   "execution_count": 73,
   "id": "d214778d-0ff2-4362-b833-c18d1464f24a",
   "metadata": {},
   "outputs": [
    {
     "data": {
      "text/plain": [
       "'UPPER'"
      ]
     },
     "execution_count": 73,
     "metadata": {},
     "output_type": "execute_result"
    }
   ],
   "source": [
    "d"
   ]
  },
  {
   "cell_type": "code",
   "execution_count": 76,
   "id": "8f561d95-2041-4b0f-97af-4e45846e6218",
   "metadata": {},
   "outputs": [
    {
     "data": {
      "text/plain": [
       "('UPPERaaaaa', '#####UPPER', '###UPPER####')"
      ]
     },
     "execution_count": 76,
     "metadata": {},
     "output_type": "execute_result"
    }
   ],
   "source": [
    "d.ljust(10,'a'),d.rjust(10,'#'),d.center(12,'#')"
   ]
  },
  {
   "cell_type": "code",
   "execution_count": 77,
   "id": "0d346770-2e17-4a18-9c4e-a241cf766eed",
   "metadata": {
    "scrolled": true
   },
   "outputs": [
    {
     "ename": "TypeError",
     "evalue": "unbound method str.format() needs an argument",
     "output_type": "error",
     "traceback": [
      "\u001b[1;31m--------------------------------------------------------------------\u001b[0m",
      "\u001b[1;31mTypeError\u001b[0m                          Traceback (most recent call last)",
      "Cell \u001b[1;32mIn[77], line 3\u001b[0m\n\u001b[0;32m      1\u001b[0m \u001b[38;5;66;03m# format function\u001b[39;00m\n\u001b[1;32m----> 3\u001b[0m \u001b[38;5;28;43mstr\u001b[39;49m\u001b[38;5;241;43m.\u001b[39;49m\u001b[43mformat\u001b[49m\u001b[43m(\u001b[49m\u001b[43m)\u001b[49m\n",
      "\u001b[1;31mTypeError\u001b[0m: unbound method str.format() needs an argument"
     ]
    }
   ],
   "source": [
    "# format function\n",
    "str.format()"
   ]
  },
  {
   "cell_type": "code",
   "execution_count": 80,
   "id": "78cf511c-1dae-4bfb-a3d4-1e8549aa23b2",
   "metadata": {},
   "outputs": [
    {
     "data": {
      "text/plain": [
       "'My name is syedasyeda'"
      ]
     },
     "execution_count": 80,
     "metadata": {},
     "output_type": "execute_result"
    }
   ],
   "source": [
    "name = 'syeda'\n",
    "'My name is {}{}'.format(name,name)"
   ]
  },
  {
   "cell_type": "code",
   "execution_count": 81,
   "id": "05981f45-7fda-46ce-825b-419ca970d524",
   "metadata": {},
   "outputs": [],
   "source": [
    "name = 'sam'\n",
    "age = 23\n",
    "wight = 52"
   ]
  },
  {
   "cell_type": "code",
   "execution_count": 86,
   "id": "4e82fbe0-5e03-4453-a8dc-def1a318e71d",
   "metadata": {},
   "outputs": [],
   "source": [
    "statment = '''My name is {},\n",
    "My age is {}\n",
    "My weight is {}'''.format(name,age,wight)"
   ]
  },
  {
   "cell_type": "code",
   "execution_count": 87,
   "id": "2f10d299-5e22-457c-92e7-4a050f135cbd",
   "metadata": {
    "scrolled": true
   },
   "outputs": [
    {
     "name": "stdout",
     "output_type": "stream",
     "text": [
      "My name is sam,\n",
      "My age is 23\n",
      "My weight is 52\n"
     ]
    }
   ],
   "source": [
    "print(statment)"
   ]
  },
  {
   "cell_type": "code",
   "execution_count": 95,
   "id": "5354a5ed-c93e-4b14-b37b-17ff38b90d90",
   "metadata": {},
   "outputs": [
    {
     "name": "stdin",
     "output_type": "stream",
     "text": [
      " 56\n"
     ]
    }
   ],
   "source": [
    "# user input()\n",
    "name = input()"
   ]
  },
  {
   "cell_type": "code",
   "execution_count": 98,
   "id": "d53b796a-1934-4ac1-a43d-e1e4e9467ace",
   "metadata": {},
   "outputs": [
    {
     "name": "stdin",
     "output_type": "stream",
     "text": [
      " sam\n",
      " 23\n",
      " 56\n"
     ]
    },
    {
     "name": "stdout",
     "output_type": "stream",
     "text": [
      "My name is sam,\n",
      "My age is 2323\n",
      "My weight is 56\n"
     ]
    }
   ],
   "source": [
    "name = input()\n",
    "age = input()\n",
    "wight = input()\n",
    "statment = '''My name is {},\n",
    "My age is {}\n",
    "My weight is {}'''.format(name,age*2,wight)\n",
    "print(statment)"
   ]
  },
  {
   "cell_type": "code",
   "execution_count": 100,
   "id": "6109568b-e99c-47be-ad98-b6005bcd6312",
   "metadata": {},
   "outputs": [],
   "source": [
    "# type casting --> int()\n",
    "a = 10\n",
    "b = '10'\n",
    "c = 10.5\n",
    "d = 10+5j"
   ]
  },
  {
   "cell_type": "code",
   "execution_count": 105,
   "id": "d58f570c-145f-497a-afc5-f48df9808dd4",
   "metadata": {},
   "outputs": [
    {
     "data": {
      "text/plain": [
       "(10, 10, 10)"
      ]
     },
     "execution_count": 105,
     "metadata": {},
     "output_type": "execute_result"
    }
   ],
   "source": [
    "int(a),int(b),int(c)"
   ]
  },
  {
   "cell_type": "code",
   "execution_count": 109,
   "id": "9579ca94-5bdc-48d2-b312-21a17133513d",
   "metadata": {},
   "outputs": [
    {
     "data": {
      "text/plain": [
       "(10.0, 10.0, 10.5)"
      ]
     },
     "execution_count": 109,
     "metadata": {},
     "output_type": "execute_result"
    }
   ],
   "source": [
    "# floating --> float()\n",
    "float(a),float(b),float(c)"
   ]
  },
  {
   "cell_type": "code",
   "execution_count": 111,
   "id": "cfa23984-2a28-4c30-893f-6f142ca239d3",
   "metadata": {},
   "outputs": [
    {
     "data": {
      "text/plain": [
       "('10', '10.5', '(10+5j)')"
      ]
     },
     "execution_count": 111,
     "metadata": {},
     "output_type": "execute_result"
    }
   ],
   "source": [
    "# string --> str()\n",
    "str(a),str(c),str(d)"
   ]
  },
  {
   "cell_type": "code",
   "execution_count": 114,
   "id": "d3c737c2-b501-4f99-b28a-43d61c8d5952",
   "metadata": {},
   "outputs": [
    {
     "data": {
      "text/plain": [
       "((10+0j), (10+0j), (10.5+0j))"
      ]
     },
     "execution_count": 114,
     "metadata": {},
     "output_type": "execute_result"
    }
   ],
   "source": [
    "complex(a),complex(b),complex(c)"
   ]
  },
  {
   "cell_type": "code",
   "execution_count": 115,
   "id": "a400d69e-8572-4302-9515-205969e06462",
   "metadata": {
    "scrolled": true
   },
   "outputs": [
    {
     "name": "stdin",
     "output_type": "stream",
     "text": [
      " syeda\n",
      " 26\n",
      " 45.69\n"
     ]
    },
    {
     "name": "stdout",
     "output_type": "stream",
     "text": [
      "My name is syeda,\n",
      "My age is 52\n",
      "My weight is 45.69\n"
     ]
    }
   ],
   "source": [
    "name = input()\n",
    "age = int(input())\n",
    "wight = float(input())\n",
    "statment = '''My name is {},\n",
    "My age is {}\n",
    "My weight is {}'''.format(name,age*2,wight)\n",
    "print(statment)"
   ]
  },
  {
   "cell_type": "code",
   "execution_count": 116,
   "id": "0f1f35be-afbe-4dc7-9166-e79f9daf6427",
   "metadata": {},
   "outputs": [],
   "source": [
    "# string concatination\n",
    "st1 = 'this is the 1st  statement'\n",
    "st2 = 'This is the 2nd statement'"
   ]
  },
  {
   "cell_type": "code",
   "execution_count": 118,
   "id": "80ca025d-11cf-4e9f-bea6-b04112f911fd",
   "metadata": {},
   "outputs": [
    {
     "data": {
      "text/plain": [
       "'this is the 1st  statementThis is the 2nd statement'"
      ]
     },
     "execution_count": 118,
     "metadata": {},
     "output_type": "execute_result"
    }
   ],
   "source": [
    "st1 + st2"
   ]
  },
  {
   "cell_type": "code",
   "execution_count": 119,
   "id": "1eeee73b-2497-4a01-9708-41a3829bd6c6",
   "metadata": {},
   "outputs": [
    {
     "data": {
      "text/plain": [
       "'this is the 1st  statement This is the 2nd statement'"
      ]
     },
     "execution_count": 119,
     "metadata": {},
     "output_type": "execute_result"
    }
   ],
   "source": [
    "st1 + ' '  + st2"
   ]
  },
  {
   "cell_type": "code",
   "execution_count": 121,
   "id": "1dd47a83-eb7d-436a-9f7b-4edf71dfbde0",
   "metadata": {},
   "outputs": [
    {
     "data": {
      "text/plain": [
       "'T12365h12365i12365s12365 12365i12365s12365 12365t12365h12365e12365 12365212365n12365d12365 12365s12365t12365a12365t12365e12365m12365e12365n12365t'"
      ]
     },
     "execution_count": 121,
     "metadata": {},
     "output_type": "execute_result"
    }
   ],
   "source": [
    "'12365'.join(st2)"
   ]
  },
  {
   "cell_type": "code",
   "execution_count": 122,
   "id": "6a0f8546-09c2-48cf-8c2c-7aca0f892db8",
   "metadata": {},
   "outputs": [
    {
     "data": {
      "text/plain": [
       "' This is the 2nd statement-This is the 2nd statement-This is the 2nd statement-This is the 2nd statement>This is the 2nd statement '"
      ]
     },
     "execution_count": 122,
     "metadata": {},
     "output_type": "execute_result"
    }
   ],
   "source": [
    "st2.join(' ---> ')"
   ]
  },
  {
   "cell_type": "code",
   "execution_count": 124,
   "id": "25cd926e-10b3-440b-8fe8-22a37f987a55",
   "metadata": {},
   "outputs": [
    {
     "data": {
      "text/plain": [
       "'0This is the 2nd statement\\n'"
      ]
     },
     "execution_count": 124,
     "metadata": {},
     "output_type": "execute_result"
    }
   ],
   "source": [
    "st2.join('0\\n')"
   ]
  },
  {
   "cell_type": "markdown",
   "id": "3dcd382d-54f4-4a86-b7a5-3be6474a25b7",
   "metadata": {},
   "source": [
    "1.create a name in str and number in integer, \n",
    "and use the print to given the message and operate with the arthemetic operatations."
   ]
  },
  {
   "cell_type": "code",
   "execution_count": null,
   "id": "eb50e75f-9a00-4789-9d6c-93c65d45aa9c",
   "metadata": {},
   "outputs": [],
   "source": [
    "Arthemetic operation\n",
    "add --> +\n",
    "sub --> -\n",
    "mul --> *\n",
    "power --> **\n",
    "div --> /\n",
    "floor --> //\n",
    "reminder --> %  "
   ]
  },
  {
   "cell_type": "code",
   "execution_count": 133,
   "id": "b7d612f8-43fa-4bfb-9ec5-8dc1617ef24b",
   "metadata": {},
   "outputs": [
    {
     "data": {
      "text/plain": [
       "(4, 2, 8, 16, 4.0, 1, 1)"
      ]
     },
     "execution_count": 133,
     "metadata": {},
     "output_type": "execute_result"
    }
   ],
   "source": [
    "2+2,4-2,4*2,4**2,8/2,3//2,3%2"
   ]
  },
  {
   "cell_type": "code",
   "execution_count": 135,
   "id": "79ae40b7-d7bf-4b29-8081-8fcbeb70c1f0",
   "metadata": {},
   "outputs": [
    {
     "data": {
      "text/plain": [
       "(1.5, 1)"
      ]
     },
     "execution_count": 135,
     "metadata": {},
     "output_type": "execute_result"
    }
   ],
   "source": [
    "3/2,3//2"
   ]
  },
  {
   "cell_type": "markdown",
   "id": "68e39452-66c1-4d96-b7c3-d2c82f80b947",
   "metadata": {},
   "source": [
    "Task 2: create a 3 user defined function with parameters, r, B,h, taking value by the user input, and calculate the \n",
    "valume spear --> v = 4/3 * math.pi * r**3 \n",
    "area of triangle --> A = 1/2 *b * h\n",
    "distance of two points --> d = math.sqrt((x2 - x1)**2 + (y2 - y1)**2))\n",
    "Slope of line --> m = (y2 - y1) / (x2 - x1)\n",
    "\n",
    "hint:\n",
    "import math\n",
    "math.pi\n",
    "math.e\n",
    "math.sqrt\n"
   ]
  },
  {
   "cell_type": "code",
   "execution_count": 137,
   "id": "760b96ee-eb43-422d-a171-2d0b6fe2ff6d",
   "metadata": {},
   "outputs": [
    {
     "data": {
      "text/plain": [
       "(3.141592653589793, 2.718281828459045)"
      ]
     },
     "execution_count": 137,
     "metadata": {},
     "output_type": "execute_result"
    }
   ],
   "source": [
    "import math\n",
    "math.pi,math.e"
   ]
  },
  {
   "cell_type": "code",
   "execution_count": 139,
   "id": "9fc87507-2374-452b-8ee2-51c8fc2064d5",
   "metadata": {},
   "outputs": [
    {
     "name": "stdin",
     "output_type": "stream",
     "text": [
      "Enter the r value:  6\n"
     ]
    },
    {
     "name": "stdout",
     "output_type": "stream",
     "text": [
      "904.78\n"
     ]
    }
   ],
   "source": [
    "r = int(input('Enter the r value: '))\n",
    "v = round(4/3 * math.pi * r**3,2)\n",
    "print(v)"
   ]
  },
  {
   "cell_type": "code",
   "execution_count": null,
   "id": "d19cde09-278a-496a-9415-484bc9cd948d",
   "metadata": {},
   "outputs": [],
   "source": []
  }
 ],
 "metadata": {
  "kernelspec": {
   "display_name": "Python 3 (ipykernel)",
   "language": "python",
   "name": "python3"
  },
  "language_info": {
   "codemirror_mode": {
    "name": "ipython",
    "version": 3
   },
   "file_extension": ".py",
   "mimetype": "text/x-python",
   "name": "python",
   "nbconvert_exporter": "python",
   "pygments_lexer": "ipython3",
   "version": "3.11.9"
  },
  "widgets": {
   "application/vnd.jupyter.widget-state+json": {
    "state": {},
    "version_major": 2,
    "version_minor": 0
   }
  }
 },
 "nbformat": 4,
 "nbformat_minor": 5
}
